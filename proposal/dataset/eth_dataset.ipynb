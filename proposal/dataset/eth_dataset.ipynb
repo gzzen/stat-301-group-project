{
 "cells": [
  {
   "cell_type": "code",
   "execution_count": 119,
   "id": "aad046c3",
   "metadata": {},
   "outputs": [],
   "source": [
    "import numpy as np\n",
    "import pandas as pd\n",
    "import datetime as dt"
   ]
  },
  {
   "cell_type": "code",
   "execution_count": 120,
   "id": "96a9262e",
   "metadata": {},
   "outputs": [],
   "source": [
    "date = dt.datetime(2021, 10, 31)\n",
    "delta = dt.timedelta(days=1)"
   ]
  },
  {
   "cell_type": "code",
   "execution_count": 122,
   "id": "af3144dd",
   "metadata": {},
   "outputs": [],
   "source": [
    "business_vol_dist = pd.read_csv('./dataset/business_vol_dist.csv')\n",
    "\n",
    "date_df = [(date - dt.timedelta(days=i)).strftime('%Y-%m-%d %H:%M') for i in range(len(business_vol_dist.index))]\n",
    "date_df = pd.DataFrame({'date': np.flip(date_df)})\n",
    "\n",
    "business_vol_dist = pd.concat([business_vol_dist, date_df], axis=1)\n",
    "business_vol_dist = business_vol_dist.drop('时间', axis=1)\n",
    "business_vol_dist = business_vol_dist.rename(columns={'小额成交': \"trade_vol_s\", \n",
    "                                                    '中额成交': \"trade_vol_m\", \n",
    "                                                    '大额成交': \"trade_vol_l\", \n",
    "                                                    '超大额成交': \"trade_vol_x\", \n",
    "                                                    '卖出开空': \"short\", \n",
    "                                                    '买入开多': \"long\"})\n",
    "business_vol_dist.to_csv('./dataset/business_vol_dist_future.csv')"
   ]
  },
  {
   "cell_type": "code",
   "execution_count": 123,
   "id": "dbe6a77d",
   "metadata": {},
   "outputs": [],
   "source": [
    "margin_call_dist = pd.read_csv('./dataset/margin_call_dist.csv')\n",
    "\n",
    "date_df = [(date - dt.timedelta(days=i)).strftime('%Y-%m-%d %H:%M') for i in range(len(margin_call_dist.index))]\n",
    "date_df = pd.DataFrame({'date': np.flip(date_df)})\n",
    "\n",
    "margin_call_dist = pd.concat([margin_call_dist, date_df], axis=1)\n",
    "margin_call_dist = margin_call_dist.drop('时间', axis=1)\n",
    "margin_call_dist = margin_call_dist.rename(\n",
    "    columns = {\n",
    "        '小额爆仓': 'margin_call_s', \n",
    "        '中额爆仓': 'margin_call_m',\n",
    "        '大额爆仓': 'margin_call_l', \n",
    "        '超大额爆仓': 'margin_call_x', \n",
    "        '卖出开空': 'short_margin_call',\n",
    "        '买入开多': 'long_margin_call'\n",
    "})\n",
    "margin_call_dist.to_csv('./dataset/margin_call_dist_future.csv')"
   ]
  },
  {
   "cell_type": "code",
   "execution_count": null,
   "id": "b73dd818",
   "metadata": {},
   "outputs": [],
   "source": []
  }
 ],
 "metadata": {
  "kernelspec": {
   "display_name": "Python 3 (ipykernel)",
   "language": "python",
   "name": "python3"
  },
  "language_info": {
   "codemirror_mode": {
    "name": "ipython",
    "version": 3
   },
   "file_extension": ".py",
   "mimetype": "text/x-python",
   "name": "python",
   "nbconvert_exporter": "python",
   "pygments_lexer": "ipython3",
   "version": "3.7.10"
  }
 },
 "nbformat": 4,
 "nbformat_minor": 5
}
