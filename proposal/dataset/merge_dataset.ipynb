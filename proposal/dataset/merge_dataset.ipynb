{
 "cells": [
  {
   "cell_type": "code",
   "execution_count": 97,
   "id": "1c081bd9",
   "metadata": {},
   "outputs": [],
   "source": [
    "import numpy as np\n",
    "import pandas as pd\n",
    "import datetime as dt\n",
    "import glob"
   ]
  },
  {
   "cell_type": "code",
   "execution_count": 98,
   "id": "042d981a",
   "metadata": {},
   "outputs": [],
   "source": [
    "path = './dataset'\n",
    "all_files = glob.glob(path + \"/*.csv\")"
   ]
  },
  {
   "cell_type": "code",
   "execution_count": 99,
   "id": "b927e102",
   "metadata": {},
   "outputs": [],
   "source": [
    "all_df = [pd.read_csv(name) for name in all_files]"
   ]
  },
  {
   "cell_type": "code",
   "execution_count": 100,
   "id": "98274b8c",
   "metadata": {},
   "outputs": [],
   "source": [
    "def format_date(date):\n",
    "    try:\n",
    "        date_obj = dt.datetime.strptime(date, '%Y-%m-%d')\n",
    "    except ValueError:\n",
    "        date_obj = dt.datetime.strptime(date, '%Y-%m-%d %H:%M')\n",
    "    return date_obj.strftime('%Y-%m-%d')\n",
    "\n",
    "for df in all_df:\n",
    "    df['date'] = df['date'].map(format_date)"
   ]
  },
  {
   "cell_type": "code",
   "execution_count": 101,
   "id": "5ae40f14",
   "metadata": {},
   "outputs": [],
   "source": [
    "from functools import reduce\n",
    "df_merged = reduce(lambda left, right: pd.merge(left, right , on=['date'], how='outer'), all_df).iloc[1784:2277,:]\n",
    "df_merged.to_csv('./eth_dataset.csv')"
   ]
  },
  {
   "cell_type": "code",
   "execution_count": null,
   "id": "7defce88",
   "metadata": {},
   "outputs": [],
   "source": []
  }
 ],
 "metadata": {
  "kernelspec": {
   "display_name": "Python 3 (ipykernel)",
   "language": "python",
   "name": "python3"
  },
  "language_info": {
   "codemirror_mode": {
    "name": "ipython",
    "version": 3
   },
   "file_extension": ".py",
   "mimetype": "text/x-python",
   "name": "python",
   "nbconvert_exporter": "python",
   "pygments_lexer": "ipython3",
   "version": "3.7.10"
  }
 },
 "nbformat": 4,
 "nbformat_minor": 5
}
