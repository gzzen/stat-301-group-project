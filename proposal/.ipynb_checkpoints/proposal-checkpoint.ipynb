{
 "cells": [
  {
   "cell_type": "markdown",
   "id": "9677a1b5",
   "metadata": {},
   "source": [
    "# MLR in cryptocurrency pricing analysis: Proposal"
   ]
  },
  {
   "cell_type": "code",
   "execution_count": 1,
   "id": "4c13f5b9",
   "metadata": {},
   "outputs": [
    {
     "name": "stderr",
     "output_type": "stream",
     "text": [
      "Updating HTML index of packages in '.Library'\n",
      "\n",
      "Making 'packages.html' ...\n",
      " done\n",
      "\n",
      "── \u001b[1mAttaching packages\u001b[22m ─────────────────────────────────────── tidyverse 1.3.1 ──\n",
      "\n",
      "\u001b[32m✔\u001b[39m \u001b[34mggplot2\u001b[39m 3.3.5     \u001b[32m✔\u001b[39m \u001b[34mpurrr  \u001b[39m 0.3.4\n",
      "\u001b[32m✔\u001b[39m \u001b[34mtibble \u001b[39m 3.1.5     \u001b[32m✔\u001b[39m \u001b[34mdplyr  \u001b[39m 1.0.7\n",
      "\u001b[32m✔\u001b[39m \u001b[34mtidyr  \u001b[39m 1.1.4     \u001b[32m✔\u001b[39m \u001b[34mstringr\u001b[39m 1.4.0\n",
      "\u001b[32m✔\u001b[39m \u001b[34mreadr  \u001b[39m 2.0.2     \u001b[32m✔\u001b[39m \u001b[34mforcats\u001b[39m 0.5.1\n",
      "\n",
      "── \u001b[1mConflicts\u001b[22m ────────────────────────────────────────── tidyverse_conflicts() ──\n",
      "\u001b[31m✖\u001b[39m \u001b[34mdplyr\u001b[39m::\u001b[32mfilter()\u001b[39m masks \u001b[34mstats\u001b[39m::filter()\n",
      "\u001b[31m✖\u001b[39m \u001b[34mdplyr\u001b[39m::\u001b[32mlag()\u001b[39m    masks \u001b[34mstats\u001b[39m::lag()\n",
      "\n",
      "\n",
      "Attaching package: ‘gridExtra’\n",
      "\n",
      "\n",
      "The following object is masked from ‘package:dplyr’:\n",
      "\n",
      "    combine\n",
      "\n",
      "\n"
     ]
    }
   ],
   "source": [
    "library(broom)\n",
    "install.packages(\"latex2exp\")\n",
    "library(latex2exp)\n",
    "library(tidyverse)\n",
    "library(repr)\n",
    "library(digest)\n",
    "library(gridExtra)"
   ]
  },
  {
   "attachments": {},
   "cell_type": "markdown",
   "id": "32bc4366",
   "metadata": {},
   "source": [
    "![alt text](https://ethereum.org/static/28214bb68eb5445dcb063a72535bc90c/f3583/hero.png)\n",
    "\n",
    "## Introduction\n",
    "\n",
    "### Background\n",
    "Cryptocurrency is a decentralized \"purely peer-to-peer version of electronic cash\" (Nakamoto, 2009). ETH (Ether) is one of the native cryptocurrencies designed for the Ethereum platform (Buterin, n.d.). As the second cryptocurrency only to Bitcoin in market capitalization, ETH has a tenfold price increase in one year since November, 2020 ([Yahoo finance](https://finance.yahoo.com/quote/ETH-USD/)). The surging value of cryptocurrencies raises studies with computational tools for price prediction.\n",
    "### Purpose\n",
    "This study will apply MLR and assessment / selection methods on the ETH dataset, aiming to build an optimized model that explains the linearity between inputs and prices, and being able to predict the future prices of ETH.\n",
    "### Dataset"
   ]
  },
  {
   "cell_type": "code",
   "execution_count": 9,
   "id": "9827eff0",
   "metadata": {},
   "outputs": [
    {
     "name": "stderr",
     "output_type": "stream",
     "text": [
      "\u001b[1m\u001b[1mRows: \u001b[1m\u001b[22m\u001b[34m\u001b[34m493\u001b[34m\u001b[39m \u001b[1m\u001b[1mColumns: \u001b[1m\u001b[22m\u001b[34m\u001b[34m47\u001b[34m\u001b[39m\n",
      "\n",
      "\u001b[36m──\u001b[39m \u001b[1m\u001b[1mColumn specification\u001b[1m\u001b[22m \u001b[36m────────────────────────────────────────────────────────\u001b[39m\n",
      "\u001b[1mDelimiter:\u001b[22m \",\"\n",
      "\u001b[32mdbl\u001b[39m  (46): reddit_index, block_size, mining_difficulty, ethe_open_interest, ...\n",
      "\u001b[34mdate\u001b[39m  (1): date\n",
      "\n",
      "\n",
      "\u001b[36mℹ\u001b[39m Use \u001b[30m\u001b[47m\u001b[30m\u001b[47m`spec()`\u001b[47m\u001b[30m\u001b[49m\u001b[39m to retrieve the full column specification for this data.\n",
      "\u001b[36mℹ\u001b[39m Specify the column types or set \u001b[30m\u001b[47m\u001b[30m\u001b[47m`show_col_types = FALSE`\u001b[47m\u001b[30m\u001b[49m\u001b[39m to quiet this message.\n",
      "\n"
     ]
    },
    {
     "data": {
      "text/html": [
       "<table class=\"dataframe\">\n",
       "<caption>A tibble: 3 × 47</caption>\n",
       "<thead>\n",
       "\t<tr><th scope=col>date</th><th scope=col>reddit_index</th><th scope=col>block_size</th><th scope=col>mining_difficulty</th><th scope=col>ethe_open_interest</th><th scope=col>activate_address</th><th scope=col>on_chain_transaction_vol</th><th scope=col>unit_computing_income</th><th scope=col>daily_block_reward</th><th scope=col>block_gen_rate</th><th scope=col>⋯</th><th scope=col>trade_vol_l</th><th scope=col>trade_vol_x</th><th scope=col>short</th><th scope=col>long</th><th scope=col>ethe_otc_premium</th><th scope=col>block_count</th><th scope=col>avg_computing_power</th><th scope=col>transaction_vol</th><th scope=col>supply</th><th scope=col>reddit_follower_growth_rate</th></tr>\n",
       "\t<tr><th scope=col>&lt;date&gt;</th><th scope=col>&lt;dbl&gt;</th><th scope=col>&lt;dbl&gt;</th><th scope=col>&lt;dbl&gt;</th><th scope=col>&lt;dbl&gt;</th><th scope=col>&lt;dbl&gt;</th><th scope=col>&lt;dbl&gt;</th><th scope=col>&lt;dbl&gt;</th><th scope=col>&lt;dbl&gt;</th><th scope=col>&lt;dbl&gt;</th><th scope=col>⋯</th><th scope=col>&lt;dbl&gt;</th><th scope=col>&lt;dbl&gt;</th><th scope=col>&lt;dbl&gt;</th><th scope=col>&lt;dbl&gt;</th><th scope=col>&lt;dbl&gt;</th><th scope=col>&lt;dbl&gt;</th><th scope=col>&lt;dbl&gt;</th><th scope=col>&lt;dbl&gt;</th><th scope=col>&lt;dbl&gt;</th><th scope=col>&lt;dbl&gt;</th></tr>\n",
       "</thead>\n",
       "<tbody>\n",
       "\t<tr><td>2020-06-24</td><td>2004.993</td><td>38301.08</td><td>2.405277e+15</td><td>1702398</td><td>566754</td><td>5530577</td><td>0.0202</td><td>3723607</td><td>13.4</td><td>⋯</td><td>0</td><td>0</td><td>141651691</td><td>137850993</td><td>3.5046</td><td>6450</td><td>1.916233e+14</td><td>1042273</td><td>108818350</td><td>0.086374</td></tr>\n",
       "\t<tr><td>2020-06-25</td><td>2035.980</td><td>35299.83</td><td>2.406899e+15</td><td>1702281</td><td>584713</td><td>2795780</td><td>0.0197</td><td>3632507</td><td>13.4</td><td>⋯</td><td>0</td><td>0</td><td>128435656</td><td>115084909</td><td>3.0171</td><td>6448</td><td>1.915031e+14</td><td>1017408</td><td>108831273</td><td>0.101543</td></tr>\n",
       "\t<tr><td>2020-06-26</td><td>2056.894</td><td>36471.11</td><td>2.387370e+15</td><td>1702281</td><td>554079</td><td>1809875</td><td>0.0194</td><td>3507628</td><td>13.6</td><td>⋯</td><td>0</td><td>0</td><td> 78961382</td><td> 73166365</td><td>3.0171</td><td>6365</td><td>1.877355e+14</td><td>1017192</td><td>108844030</td><td>0.104361</td></tr>\n",
       "</tbody>\n",
       "</table>\n"
      ],
      "text/latex": [
       "A tibble: 3 × 47\n",
       "\\begin{tabular}{lllllllllllllllllllll}\n",
       " date & reddit\\_index & block\\_size & mining\\_difficulty & ethe\\_open\\_interest & activate\\_address & on\\_chain\\_transaction\\_vol & unit\\_computing\\_income & daily\\_block\\_reward & block\\_gen\\_rate & ⋯ & trade\\_vol\\_l & trade\\_vol\\_x & short & long & ethe\\_otc\\_premium & block\\_count & avg\\_computing\\_power & transaction\\_vol & supply & reddit\\_follower\\_growth\\_rate\\\\\n",
       " <date> & <dbl> & <dbl> & <dbl> & <dbl> & <dbl> & <dbl> & <dbl> & <dbl> & <dbl> & ⋯ & <dbl> & <dbl> & <dbl> & <dbl> & <dbl> & <dbl> & <dbl> & <dbl> & <dbl> & <dbl>\\\\\n",
       "\\hline\n",
       "\t 2020-06-24 & 2004.993 & 38301.08 & 2.405277e+15 & 1702398 & 566754 & 5530577 & 0.0202 & 3723607 & 13.4 & ⋯ & 0 & 0 & 141651691 & 137850993 & 3.5046 & 6450 & 1.916233e+14 & 1042273 & 108818350 & 0.086374\\\\\n",
       "\t 2020-06-25 & 2035.980 & 35299.83 & 2.406899e+15 & 1702281 & 584713 & 2795780 & 0.0197 & 3632507 & 13.4 & ⋯ & 0 & 0 & 128435656 & 115084909 & 3.0171 & 6448 & 1.915031e+14 & 1017408 & 108831273 & 0.101543\\\\\n",
       "\t 2020-06-26 & 2056.894 & 36471.11 & 2.387370e+15 & 1702281 & 554079 & 1809875 & 0.0194 & 3507628 & 13.6 & ⋯ & 0 & 0 &  78961382 &  73166365 & 3.0171 & 6365 & 1.877355e+14 & 1017192 & 108844030 & 0.104361\\\\\n",
       "\\end{tabular}\n"
      ],
      "text/markdown": [
       "\n",
       "A tibble: 3 × 47\n",
       "\n",
       "| date &lt;date&gt; | reddit_index &lt;dbl&gt; | block_size &lt;dbl&gt; | mining_difficulty &lt;dbl&gt; | ethe_open_interest &lt;dbl&gt; | activate_address &lt;dbl&gt; | on_chain_transaction_vol &lt;dbl&gt; | unit_computing_income &lt;dbl&gt; | daily_block_reward &lt;dbl&gt; | block_gen_rate &lt;dbl&gt; | ⋯ ⋯ | trade_vol_l &lt;dbl&gt; | trade_vol_x &lt;dbl&gt; | short &lt;dbl&gt; | long &lt;dbl&gt; | ethe_otc_premium &lt;dbl&gt; | block_count &lt;dbl&gt; | avg_computing_power &lt;dbl&gt; | transaction_vol &lt;dbl&gt; | supply &lt;dbl&gt; | reddit_follower_growth_rate &lt;dbl&gt; |\n",
       "|---|---|---|---|---|---|---|---|---|---|---|---|---|---|---|---|---|---|---|---|---|\n",
       "| 2020-06-24 | 2004.993 | 38301.08 | 2.405277e+15 | 1702398 | 566754 | 5530577 | 0.0202 | 3723607 | 13.4 | ⋯ | 0 | 0 | 141651691 | 137850993 | 3.5046 | 6450 | 1.916233e+14 | 1042273 | 108818350 | 0.086374 |\n",
       "| 2020-06-25 | 2035.980 | 35299.83 | 2.406899e+15 | 1702281 | 584713 | 2795780 | 0.0197 | 3632507 | 13.4 | ⋯ | 0 | 0 | 128435656 | 115084909 | 3.0171 | 6448 | 1.915031e+14 | 1017408 | 108831273 | 0.101543 |\n",
       "| 2020-06-26 | 2056.894 | 36471.11 | 2.387370e+15 | 1702281 | 554079 | 1809875 | 0.0194 | 3507628 | 13.6 | ⋯ | 0 | 0 |  78961382 |  73166365 | 3.0171 | 6365 | 1.877355e+14 | 1017192 | 108844030 | 0.104361 |\n",
       "\n"
      ],
      "text/plain": [
       "  date       reddit_index block_size mining_difficulty ethe_open_interest\n",
       "1 2020-06-24 2004.993     38301.08   2.405277e+15      1702398           \n",
       "2 2020-06-25 2035.980     35299.83   2.406899e+15      1702281           \n",
       "3 2020-06-26 2056.894     36471.11   2.387370e+15      1702281           \n",
       "  activate_address on_chain_transaction_vol unit_computing_income\n",
       "1 566754           5530577                  0.0202               \n",
       "2 584713           2795780                  0.0197               \n",
       "3 554079           1809875                  0.0194               \n",
       "  daily_block_reward block_gen_rate ⋯ trade_vol_l trade_vol_x short    \n",
       "1 3723607            13.4           ⋯ 0           0           141651691\n",
       "2 3632507            13.4           ⋯ 0           0           128435656\n",
       "3 3507628            13.6           ⋯ 0           0            78961382\n",
       "  long      ethe_otc_premium block_count avg_computing_power transaction_vol\n",
       "1 137850993 3.5046           6450        1.916233e+14        1042273        \n",
       "2 115084909 3.0171           6448        1.915031e+14        1017408        \n",
       "3  73166365 3.0171           6365        1.877355e+14        1017192        \n",
       "  supply    reddit_follower_growth_rate\n",
       "1 108818350 0.086374                   \n",
       "2 108831273 0.101543                   \n",
       "3 108844030 0.104361                   "
      ]
     },
     "metadata": {},
     "output_type": "display_data"
    },
    {
     "data": {
      "text/html": [
       "<table class=\"dataframe\">\n",
       "<caption>A tibble: 3 × 47</caption>\n",
       "<thead>\n",
       "\t<tr><th scope=col>date</th><th scope=col>reddit_index</th><th scope=col>block_size</th><th scope=col>mining_difficulty</th><th scope=col>ethe_open_interest</th><th scope=col>activate_address</th><th scope=col>on_chain_transaction_vol</th><th scope=col>unit_computing_income</th><th scope=col>daily_block_reward</th><th scope=col>block_gen_rate</th><th scope=col>⋯</th><th scope=col>trade_vol_l</th><th scope=col>trade_vol_x</th><th scope=col>short</th><th scope=col>long</th><th scope=col>ethe_otc_premium</th><th scope=col>block_count</th><th scope=col>avg_computing_power</th><th scope=col>transaction_vol</th><th scope=col>supply</th><th scope=col>reddit_follower_growth_rate</th></tr>\n",
       "\t<tr><th scope=col>&lt;date&gt;</th><th scope=col>&lt;dbl&gt;</th><th scope=col>&lt;dbl&gt;</th><th scope=col>&lt;dbl&gt;</th><th scope=col>&lt;dbl&gt;</th><th scope=col>&lt;dbl&gt;</th><th scope=col>&lt;dbl&gt;</th><th scope=col>&lt;dbl&gt;</th><th scope=col>&lt;dbl&gt;</th><th scope=col>&lt;dbl&gt;</th><th scope=col>⋯</th><th scope=col>&lt;dbl&gt;</th><th scope=col>&lt;dbl&gt;</th><th scope=col>&lt;dbl&gt;</th><th scope=col>&lt;dbl&gt;</th><th scope=col>&lt;dbl&gt;</th><th scope=col>&lt;dbl&gt;</th><th scope=col>&lt;dbl&gt;</th><th scope=col>&lt;dbl&gt;</th><th scope=col>&lt;dbl&gt;</th><th scope=col>&lt;dbl&gt;</th></tr>\n",
       "</thead>\n",
       "<tbody>\n",
       "\t<tr><td>2021-10-27</td><td>272.2137</td><td>67421.64</td><td>1.000351e+16</td><td>3128215</td><td>812670</td><td>1804725</td><td>0.0830</td><td>59779364</td><td>13.5</td><td>⋯</td><td>163367864</td><td> 88796720</td><td>3930069648</td><td>3823507926</td><td>-0.0205612</td><td>6408</td><td>7.821472e+14</td><td>1510502</td><td>115168748</td><td>0.370110</td></tr>\n",
       "\t<tr><td>2021-10-28</td><td>254.6987</td><td>64129.10</td><td>1.006534e+16</td><td>3128001</td><td>826217</td><td>2972658</td><td>0.0858</td><td>63507365</td><td>13.6</td><td>⋯</td><td>180195352</td><td>152798432</td><td>4755173026</td><td>4677848018</td><td>-0.0289822</td><td>6368</td><td>7.842797e+14</td><td>1456333</td><td>115181507</td><td>0.455180</td></tr>\n",
       "\t<tr><td>2021-10-29</td><td>264.5458</td><td>62412.12</td><td>1.023876e+16</td><td>3128001</td><td>765907</td><td>1313643</td><td>0.0835</td><td>65172687</td><td>13.6</td><td>⋯</td><td>102822580</td><td> 41716992</td><td>2839980504</td><td>2612652448</td><td>-0.0289822</td><td>6345</td><td>7.986090e+14</td><td>1379095</td><td>115194221</td><td>0.391936</td></tr>\n",
       "</tbody>\n",
       "</table>\n"
      ],
      "text/latex": [
       "A tibble: 3 × 47\n",
       "\\begin{tabular}{lllllllllllllllllllll}\n",
       " date & reddit\\_index & block\\_size & mining\\_difficulty & ethe\\_open\\_interest & activate\\_address & on\\_chain\\_transaction\\_vol & unit\\_computing\\_income & daily\\_block\\_reward & block\\_gen\\_rate & ⋯ & trade\\_vol\\_l & trade\\_vol\\_x & short & long & ethe\\_otc\\_premium & block\\_count & avg\\_computing\\_power & transaction\\_vol & supply & reddit\\_follower\\_growth\\_rate\\\\\n",
       " <date> & <dbl> & <dbl> & <dbl> & <dbl> & <dbl> & <dbl> & <dbl> & <dbl> & <dbl> & ⋯ & <dbl> & <dbl> & <dbl> & <dbl> & <dbl> & <dbl> & <dbl> & <dbl> & <dbl> & <dbl>\\\\\n",
       "\\hline\n",
       "\t 2021-10-27 & 272.2137 & 67421.64 & 1.000351e+16 & 3128215 & 812670 & 1804725 & 0.0830 & 59779364 & 13.5 & ⋯ & 163367864 &  88796720 & 3930069648 & 3823507926 & -0.0205612 & 6408 & 7.821472e+14 & 1510502 & 115168748 & 0.370110\\\\\n",
       "\t 2021-10-28 & 254.6987 & 64129.10 & 1.006534e+16 & 3128001 & 826217 & 2972658 & 0.0858 & 63507365 & 13.6 & ⋯ & 180195352 & 152798432 & 4755173026 & 4677848018 & -0.0289822 & 6368 & 7.842797e+14 & 1456333 & 115181507 & 0.455180\\\\\n",
       "\t 2021-10-29 & 264.5458 & 62412.12 & 1.023876e+16 & 3128001 & 765907 & 1313643 & 0.0835 & 65172687 & 13.6 & ⋯ & 102822580 &  41716992 & 2839980504 & 2612652448 & -0.0289822 & 6345 & 7.986090e+14 & 1379095 & 115194221 & 0.391936\\\\\n",
       "\\end{tabular}\n"
      ],
      "text/markdown": [
       "\n",
       "A tibble: 3 × 47\n",
       "\n",
       "| date &lt;date&gt; | reddit_index &lt;dbl&gt; | block_size &lt;dbl&gt; | mining_difficulty &lt;dbl&gt; | ethe_open_interest &lt;dbl&gt; | activate_address &lt;dbl&gt; | on_chain_transaction_vol &lt;dbl&gt; | unit_computing_income &lt;dbl&gt; | daily_block_reward &lt;dbl&gt; | block_gen_rate &lt;dbl&gt; | ⋯ ⋯ | trade_vol_l &lt;dbl&gt; | trade_vol_x &lt;dbl&gt; | short &lt;dbl&gt; | long &lt;dbl&gt; | ethe_otc_premium &lt;dbl&gt; | block_count &lt;dbl&gt; | avg_computing_power &lt;dbl&gt; | transaction_vol &lt;dbl&gt; | supply &lt;dbl&gt; | reddit_follower_growth_rate &lt;dbl&gt; |\n",
       "|---|---|---|---|---|---|---|---|---|---|---|---|---|---|---|---|---|---|---|---|---|\n",
       "| 2021-10-27 | 272.2137 | 67421.64 | 1.000351e+16 | 3128215 | 812670 | 1804725 | 0.0830 | 59779364 | 13.5 | ⋯ | 163367864 |  88796720 | 3930069648 | 3823507926 | -0.0205612 | 6408 | 7.821472e+14 | 1510502 | 115168748 | 0.370110 |\n",
       "| 2021-10-28 | 254.6987 | 64129.10 | 1.006534e+16 | 3128001 | 826217 | 2972658 | 0.0858 | 63507365 | 13.6 | ⋯ | 180195352 | 152798432 | 4755173026 | 4677848018 | -0.0289822 | 6368 | 7.842797e+14 | 1456333 | 115181507 | 0.455180 |\n",
       "| 2021-10-29 | 264.5458 | 62412.12 | 1.023876e+16 | 3128001 | 765907 | 1313643 | 0.0835 | 65172687 | 13.6 | ⋯ | 102822580 |  41716992 | 2839980504 | 2612652448 | -0.0289822 | 6345 | 7.986090e+14 | 1379095 | 115194221 | 0.391936 |\n",
       "\n"
      ],
      "text/plain": [
       "  date       reddit_index block_size mining_difficulty ethe_open_interest\n",
       "1 2021-10-27 272.2137     67421.64   1.000351e+16      3128215           \n",
       "2 2021-10-28 254.6987     64129.10   1.006534e+16      3128001           \n",
       "3 2021-10-29 264.5458     62412.12   1.023876e+16      3128001           \n",
       "  activate_address on_chain_transaction_vol unit_computing_income\n",
       "1 812670           1804725                  0.0830               \n",
       "2 826217           2972658                  0.0858               \n",
       "3 765907           1313643                  0.0835               \n",
       "  daily_block_reward block_gen_rate ⋯ trade_vol_l trade_vol_x short     \n",
       "1 59779364           13.5           ⋯ 163367864    88796720   3930069648\n",
       "2 63507365           13.6           ⋯ 180195352   152798432   4755173026\n",
       "3 65172687           13.6           ⋯ 102822580    41716992   2839980504\n",
       "  long       ethe_otc_premium block_count avg_computing_power transaction_vol\n",
       "1 3823507926 -0.0205612       6408        7.821472e+14        1510502        \n",
       "2 4677848018 -0.0289822       6368        7.842797e+14        1456333        \n",
       "3 2612652448 -0.0289822       6345        7.986090e+14        1379095        \n",
       "  supply    reddit_follower_growth_rate\n",
       "1 115168748 0.370110                   \n",
       "2 115181507 0.455180                   \n",
       "3 115194221 0.391936                   "
      ]
     },
     "metadata": {},
     "output_type": "display_data"
    }
   ],
   "source": [
    "eth_data <- read_csv('https://raw.githubusercontent.com/gzzen/stat-301-group-project/main/eth_dataset.csv')\n",
    "head(eth_data, 3)\n",
    "tail(eth_data, 3)"
   ]
  },
  {
   "cell_type": "markdown",
   "id": "ef9dbaa7",
   "metadata": {},
   "source": [
    "The raw data is pulled from [qkl123](https://www.qkl123.com/project/eth/data) that consists a comprehensive collection of featured indicators for ETH. The semi-finished dataset `eth_data` is then hand-crafted by merging columns with Python ([resource](https://github.com/gzzen/stat-301-group-project/blob/main/proposal/dataset/merge_dataset.ipynb)). Below we roughly peek at columns of the data. "
   ]
  },
  {
   "cell_type": "code",
   "execution_count": 10,
   "id": "4a961e12",
   "metadata": {},
   "outputs": [
    {
     "data": {
      "text/html": [
       "<style>\n",
       ".list-inline {list-style: none; margin:0; padding: 0}\n",
       ".list-inline>li {display: inline-block}\n",
       ".list-inline>li:not(:last-child)::after {content: \"\\00b7\"; padding: 0 .5ex}\n",
       "</style>\n",
       "<ol class=list-inline><li>'date'</li><li>'reddit_index'</li><li>'block_size'</li><li>'mining_difficulty'</li><li>'ethe_open_interest'</li><li>'activate_address'</li><li>'on_chain_transaction_vol'</li><li>'unit_computing_income'</li><li>'daily_block_reward'</li><li>'block_gen_rate'</li><li>'price'</li><li>'open_interest_top100'</li><li>'open_interest_top50'</li><li>'open_interest_top30'</li><li>'open_interest_top10'</li><li>'avg_gas_cost'</li><li>'unit_transaction_fee'</li><li>'mining_vol'</li><li>'margin_call_s'</li><li>'margin_call_m'</li><li>'margin_call_l'</li><li>'margin_call_x'</li><li>'short_margin_call'</li><li>'long_margin_call'</li><li>'new_addresses'</li><li>'open_interest'</li><li>'business_vol'</li><li>'interest'</li><li>'basis'</li><li>'inflow_maker'</li><li>'outflow_maker'</li><li>'inflow_retail'</li><li>'outflow_retail'</li><li>'net'</li><li>'daily_uncle_block_reward'</li><li>'trade_vol_s'</li><li>'trade_vol_m'</li><li>'trade_vol_l'</li><li>'trade_vol_x'</li><li>'short'</li><li>'long'</li><li>'ethe_otc_premium'</li><li>'block_count'</li><li>'avg_computing_power'</li><li>'transaction_vol'</li><li>'supply'</li><li>'reddit_follower_growth_rate'</li></ol>\n"
      ],
      "text/latex": [
       "\\begin{enumerate*}\n",
       "\\item 'date'\n",
       "\\item 'reddit\\_index'\n",
       "\\item 'block\\_size'\n",
       "\\item 'mining\\_difficulty'\n",
       "\\item 'ethe\\_open\\_interest'\n",
       "\\item 'activate\\_address'\n",
       "\\item 'on\\_chain\\_transaction\\_vol'\n",
       "\\item 'unit\\_computing\\_income'\n",
       "\\item 'daily\\_block\\_reward'\n",
       "\\item 'block\\_gen\\_rate'\n",
       "\\item 'price'\n",
       "\\item 'open\\_interest\\_top100'\n",
       "\\item 'open\\_interest\\_top50'\n",
       "\\item 'open\\_interest\\_top30'\n",
       "\\item 'open\\_interest\\_top10'\n",
       "\\item 'avg\\_gas\\_cost'\n",
       "\\item 'unit\\_transaction\\_fee'\n",
       "\\item 'mining\\_vol'\n",
       "\\item 'margin\\_call\\_s'\n",
       "\\item 'margin\\_call\\_m'\n",
       "\\item 'margin\\_call\\_l'\n",
       "\\item 'margin\\_call\\_x'\n",
       "\\item 'short\\_margin\\_call'\n",
       "\\item 'long\\_margin\\_call'\n",
       "\\item 'new\\_addresses'\n",
       "\\item 'open\\_interest'\n",
       "\\item 'business\\_vol'\n",
       "\\item 'interest'\n",
       "\\item 'basis'\n",
       "\\item 'inflow\\_maker'\n",
       "\\item 'outflow\\_maker'\n",
       "\\item 'inflow\\_retail'\n",
       "\\item 'outflow\\_retail'\n",
       "\\item 'net'\n",
       "\\item 'daily\\_uncle\\_block\\_reward'\n",
       "\\item 'trade\\_vol\\_s'\n",
       "\\item 'trade\\_vol\\_m'\n",
       "\\item 'trade\\_vol\\_l'\n",
       "\\item 'trade\\_vol\\_x'\n",
       "\\item 'short'\n",
       "\\item 'long'\n",
       "\\item 'ethe\\_otc\\_premium'\n",
       "\\item 'block\\_count'\n",
       "\\item 'avg\\_computing\\_power'\n",
       "\\item 'transaction\\_vol'\n",
       "\\item 'supply'\n",
       "\\item 'reddit\\_follower\\_growth\\_rate'\n",
       "\\end{enumerate*}\n"
      ],
      "text/markdown": [
       "1. 'date'\n",
       "2. 'reddit_index'\n",
       "3. 'block_size'\n",
       "4. 'mining_difficulty'\n",
       "5. 'ethe_open_interest'\n",
       "6. 'activate_address'\n",
       "7. 'on_chain_transaction_vol'\n",
       "8. 'unit_computing_income'\n",
       "9. 'daily_block_reward'\n",
       "10. 'block_gen_rate'\n",
       "11. 'price'\n",
       "12. 'open_interest_top100'\n",
       "13. 'open_interest_top50'\n",
       "14. 'open_interest_top30'\n",
       "15. 'open_interest_top10'\n",
       "16. 'avg_gas_cost'\n",
       "17. 'unit_transaction_fee'\n",
       "18. 'mining_vol'\n",
       "19. 'margin_call_s'\n",
       "20. 'margin_call_m'\n",
       "21. 'margin_call_l'\n",
       "22. 'margin_call_x'\n",
       "23. 'short_margin_call'\n",
       "24. 'long_margin_call'\n",
       "25. 'new_addresses'\n",
       "26. 'open_interest'\n",
       "27. 'business_vol'\n",
       "28. 'interest'\n",
       "29. 'basis'\n",
       "30. 'inflow_maker'\n",
       "31. 'outflow_maker'\n",
       "32. 'inflow_retail'\n",
       "33. 'outflow_retail'\n",
       "34. 'net'\n",
       "35. 'daily_uncle_block_reward'\n",
       "36. 'trade_vol_s'\n",
       "37. 'trade_vol_m'\n",
       "38. 'trade_vol_l'\n",
       "39. 'trade_vol_x'\n",
       "40. 'short'\n",
       "41. 'long'\n",
       "42. 'ethe_otc_premium'\n",
       "43. 'block_count'\n",
       "44. 'avg_computing_power'\n",
       "45. 'transaction_vol'\n",
       "46. 'supply'\n",
       "47. 'reddit_follower_growth_rate'\n",
       "\n",
       "\n"
      ],
      "text/plain": [
       " [1] \"date\"                        \"reddit_index\"               \n",
       " [3] \"block_size\"                  \"mining_difficulty\"          \n",
       " [5] \"ethe_open_interest\"          \"activate_address\"           \n",
       " [7] \"on_chain_transaction_vol\"    \"unit_computing_income\"      \n",
       " [9] \"daily_block_reward\"          \"block_gen_rate\"             \n",
       "[11] \"price\"                       \"open_interest_top100\"       \n",
       "[13] \"open_interest_top50\"         \"open_interest_top30\"        \n",
       "[15] \"open_interest_top10\"         \"avg_gas_cost\"               \n",
       "[17] \"unit_transaction_fee\"        \"mining_vol\"                 \n",
       "[19] \"margin_call_s\"               \"margin_call_m\"              \n",
       "[21] \"margin_call_l\"               \"margin_call_x\"              \n",
       "[23] \"short_margin_call\"           \"long_margin_call\"           \n",
       "[25] \"new_addresses\"               \"open_interest\"              \n",
       "[27] \"business_vol\"                \"interest\"                   \n",
       "[29] \"basis\"                       \"inflow_maker\"               \n",
       "[31] \"outflow_maker\"               \"inflow_retail\"              \n",
       "[33] \"outflow_retail\"              \"net\"                        \n",
       "[35] \"daily_uncle_block_reward\"    \"trade_vol_s\"                \n",
       "[37] \"trade_vol_m\"                 \"trade_vol_l\"                \n",
       "[39] \"trade_vol_x\"                 \"short\"                      \n",
       "[41] \"long\"                        \"ethe_otc_premium\"           \n",
       "[43] \"block_count\"                 \"avg_computing_power\"        \n",
       "[45] \"transaction_vol\"             \"supply\"                     \n",
       "[47] \"reddit_follower_growth_rate\""
      ]
     },
     "metadata": {},
     "output_type": "display_data"
    }
   ],
   "source": [
    "colnames(eth_data)"
   ]
  },
  {
   "cell_type": "markdown",
   "id": "8df33a13",
   "metadata": {},
   "source": [
    "The composition of dataset have 5 categories:\n",
    "- `price` is the response variable. `date` helps sorting out desired time interval.\n",
    "- `block_size`, `mining_difficulty`, etc. consists information of the blockchain.\n",
    "- `business_vol`, `outflow_retail`, etc. are indicators in spot market.\n",
    "- `long_margin_call`, `margin_call_l`, etc. are indicators in future market.\n",
    "- `reddit_index`, `ethe_otc_premium`, etc. have no specific attributes, but are interesting to consider."
   ]
  },
  {
   "cell_type": "markdown",
   "id": "4c849561",
   "metadata": {},
   "source": [
    "## Reference"
   ]
  },
  {
   "cell_type": "markdown",
   "id": "3fe6c8f4",
   "metadata": {},
   "source": [
    "Nakamoto, S. (2009). Bitcoin: A peer-to-peer electronic cash system. Retrieved from https://bitcoin.org/bitcoin.pdf.\n",
    "\n",
    "Buterin, V. (n.d.). Ethereum whitepaper. Retrieved from https://ethereum.org/en/whitepaper/. "
   ]
  },
  {
   "cell_type": "code",
   "execution_count": null,
   "id": "b32ae9d0",
   "metadata": {},
   "outputs": [],
   "source": []
  }
 ],
 "metadata": {
  "kernelspec": {
   "display_name": "R",
   "language": "R",
   "name": "ir"
  },
  "language_info": {
   "codemirror_mode": "r",
   "file_extension": ".r",
   "mimetype": "text/x-r-source",
   "name": "R",
   "pygments_lexer": "r",
   "version": "4.0.5"
  }
 },
 "nbformat": 4,
 "nbformat_minor": 5
}
