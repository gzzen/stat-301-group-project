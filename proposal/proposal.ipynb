{
 "cells": [
  {
   "cell_type": "markdown",
   "id": "4adb1882",
   "metadata": {},
   "source": [
    "# MLR in cryptocurrency pricing analysis: Proposal"
   ]
  },
  {
   "cell_type": "code",
   "execution_count": 2,
   "id": "2acd1bc3",
   "metadata": {},
   "outputs": [
    {
     "name": "stderr",
     "output_type": "stream",
     "text": [
      "Updating HTML index of packages in '.Library'\n",
      "\n",
      "Making 'packages.html' ...\n",
      " done\n",
      "\n"
     ]
    }
   ],
   "source": [
    "library(broom)\n",
    "install.packages(\"latex2exp\")\n",
    "library(latex2exp)\n",
    "library(tidyverse)\n",
    "library(repr)\n",
    "library(digest)\n",
    "library(gridExtra)"
   ]
  },
  {
   "attachments": {},
   "cell_type": "markdown",
   "id": "f9b3808e",
   "metadata": {},
   "source": [
    "![alt text](https://ethereum.org/static/28214bb68eb5445dcb063a72535bc90c/f3583/hero.png)\n",
    "\n",
    "## Introduction\n",
    "\n",
    "### Background\n",
    "Cryptocurrency is a decentralized \"purely peer-to-peer version of electronic cash\" (Nakamoto, 2009). ETH (Ether) is one of the native cryptocurrencies designed for the Ethereum platform (Buterin, n.d.). As the second cryptocurrency only to Bitcoin in market capitalization, ETH has a tenfold price increase in one year since November, 2020 ([Yahoo finance](https://finance.yahoo.com/quote/ETH-USD/)). The surging value of cryptocurrencies raises studies with computational tools for price prediction.\n",
    "### Purpose\n",
    "This study will apply MLR and assessment / selection methods on the ETH dataset, aiming to build an optimized model that explains the linearity between inputs and prices, and being able to predict the future prices of ETH.\n",
    "### Dataset"
   ]
  },
  {
   "cell_type": "code",
   "execution_count": 5,
   "id": "55c6e93b",
   "metadata": {},
   "outputs": [
    {
     "name": "stderr",
     "output_type": "stream",
     "text": [
      "New names:\n",
      "* `` -> ...1\n",
      "\n",
      "\u001b[1m\u001b[1mRows: \u001b[1m\u001b[22m\u001b[34m\u001b[34m493\u001b[34m\u001b[39m \u001b[1m\u001b[1mColumns: \u001b[1m\u001b[22m\u001b[34m\u001b[34m48\u001b[34m\u001b[39m\n",
      "\n",
      "\u001b[36m──\u001b[39m \u001b[1m\u001b[1mColumn specification\u001b[1m\u001b[22m \u001b[36m────────────────────────────────────────────────────────\u001b[39m\n",
      "\u001b[1mDelimiter:\u001b[22m \",\"\n",
      "\u001b[32mdbl\u001b[39m  (47): ...1, reddit_index, block_size, mining_difficulty, ethe_open_inte...\n",
      "\u001b[34mdate\u001b[39m  (1): date\n",
      "\n",
      "\n",
      "\u001b[36mℹ\u001b[39m Use \u001b[30m\u001b[47m\u001b[30m\u001b[47m`spec()`\u001b[47m\u001b[30m\u001b[49m\u001b[39m to retrieve the full column specification for this data.\n",
      "\u001b[36mℹ\u001b[39m Specify the column types or set \u001b[30m\u001b[47m\u001b[30m\u001b[47m`show_col_types = FALSE`\u001b[47m\u001b[30m\u001b[49m\u001b[39m to quiet this message.\n",
      "\n"
     ]
    }
   ],
   "source": [
    "eth_data <- read_csv('https://raw.githubusercontent.com/gzzen/stat-301-group-project/main/eth_dataset.csv')"
   ]
  },
  {
   "cell_type": "markdown",
   "id": "2f29d972",
   "metadata": {},
   "source": [
    "## Reference"
   ]
  },
  {
   "cell_type": "markdown",
   "id": "810de646",
   "metadata": {},
   "source": [
    "Nakamoto, S. (2009). Bitcoin: A peer-to-peer electronic cash system. Retrieved from https://bitcoin.org/bitcoin.pdf.\n",
    "\n",
    "Buterin, V. (n.d.). Ethereum whitepaper. Retrieved from https://ethereum.org/en/whitepaper/. "
   ]
  },
  {
   "cell_type": "code",
   "execution_count": null,
   "id": "143899a8",
   "metadata": {},
   "outputs": [],
   "source": []
  }
 ],
 "metadata": {
  "kernelspec": {
   "display_name": "R",
   "language": "R",
   "name": "ir"
  },
  "language_info": {
   "codemirror_mode": "r",
   "file_extension": ".r",
   "mimetype": "text/x-r-source",
   "name": "R",
   "pygments_lexer": "r",
   "version": "4.0.5"
  }
 },
 "nbformat": 4,
 "nbformat_minor": 5
}
