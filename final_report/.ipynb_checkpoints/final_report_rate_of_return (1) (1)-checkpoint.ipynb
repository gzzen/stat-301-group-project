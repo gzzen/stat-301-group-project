{
 "cells": [
  {
   "cell_type": "markdown",
   "id": "2b61f0ba",
   "metadata": {},
   "source": [
    "# MLR in cryptocurrency pricing analysis: Final report\n",
    "\n",
    "---"
   ]
  },
  {
   "cell_type": "code",
   "execution_count": 1,
   "id": "6e50b924",
   "metadata": {},
   "outputs": [
    {
     "name": "stderr",
     "output_type": "stream",
     "text": [
      "Updating HTML index of packages in '.Library'\n",
      "\n",
      "Making 'packages.html' ...\n",
      " done\n",
      "\n",
      "── \u001b[1mAttaching packages\u001b[22m ─────────────────────────────────────── tidyverse 1.3.1 ──\n",
      "\n",
      "\u001b[32m✔\u001b[39m \u001b[34mggplot2\u001b[39m 3.3.5     \u001b[32m✔\u001b[39m \u001b[34mpurrr  \u001b[39m 0.3.4\n",
      "\u001b[32m✔\u001b[39m \u001b[34mtibble \u001b[39m 3.1.4     \u001b[32m✔\u001b[39m \u001b[34mdplyr  \u001b[39m 1.0.7\n",
      "\u001b[32m✔\u001b[39m \u001b[34mtidyr  \u001b[39m 1.1.3     \u001b[32m✔\u001b[39m \u001b[34mstringr\u001b[39m 1.4.0\n",
      "\u001b[32m✔\u001b[39m \u001b[34mreadr  \u001b[39m 2.0.1     \u001b[32m✔\u001b[39m \u001b[34mforcats\u001b[39m 0.5.1\n",
      "\n",
      "── \u001b[1mConflicts\u001b[22m ────────────────────────────────────────── tidyverse_conflicts() ──\n",
      "\u001b[31m✖\u001b[39m \u001b[34mdplyr\u001b[39m::\u001b[32mfilter()\u001b[39m masks \u001b[34mstats\u001b[39m::filter()\n",
      "\u001b[31m✖\u001b[39m \u001b[34mdplyr\u001b[39m::\u001b[32mlag()\u001b[39m    masks \u001b[34mstats\u001b[39m::lag()\n",
      "\n",
      "\n",
      "Attaching package: ‘gridExtra’\n",
      "\n",
      "\n",
      "The following object is masked from ‘package:dplyr’:\n",
      "\n",
      "    combine\n",
      "\n",
      "\n",
      "Registered S3 method overwritten by 'GGally':\n",
      "  method from   \n",
      "  +.gg   ggplot2\n",
      "\n",
      "Loading required package: carData\n",
      "\n",
      "\n",
      "Attaching package: ‘car’\n",
      "\n",
      "\n",
      "The following object is masked from ‘package:dplyr’:\n",
      "\n",
      "    recode\n",
      "\n",
      "\n",
      "The following object is masked from ‘package:purrr’:\n",
      "\n",
      "    some\n",
      "\n",
      "\n",
      "\n",
      "Attaching package: ‘mltools’\n",
      "\n",
      "\n",
      "The following object is masked from ‘package:tidyr’:\n",
      "\n",
      "    replace_na\n",
      "\n",
      "\n",
      "Loading required package: Matrix\n",
      "\n",
      "\n",
      "Attaching package: ‘Matrix’\n",
      "\n",
      "\n",
      "The following objects are masked from ‘package:tidyr’:\n",
      "\n",
      "    expand, pack, unpack\n",
      "\n",
      "\n",
      "Loaded glmnet 4.1-3\n",
      "\n"
     ]
    }
   ],
   "source": [
    "library(broom)\n",
    "install.packages(\"latex2exp\")\n",
    "library(latex2exp)\n",
    "library(tidyverse)\n",
    "library(repr)\n",
    "library(digest)\n",
    "library(gridExtra)\n",
    "#install.packages(\"scatterplot3d\") # Install\n",
    "#library(\"scatterplot3d\") # load\n",
    "library(gridExtra)\n",
    "library(leaps)\n",
    "library(GGally)\n",
    "library(car)\n",
    "library(mltools)\n",
    "library(glmnet)\n",
    "library(dplyr)\n",
    "\n",
    "options(warn = -1)"
   ]
  },
  {
   "cell_type": "markdown",
   "id": "347104b3",
   "metadata": {},
   "source": [
    "![alt text](https://ethereum.org/static/28214bb68eb5445dcb063a72535bc90c/f3583/hero.png)\n",
    "\n",
    "## Introduction\n",
    "----\n",
    "\n",
    "### Background\n",
    "Cryptocurrency is a decentralized \"purely peer-to-peer version of electronic cash\" (Nakamoto, 2009). ETH (Ether) is one of the native cryptocurrencies designed for the Ethereum platform (Buterin, n.d.). As the second cryptocurrency only to Bitcoin in market capitalization, ETH has a tenfold price increase in one year since November, 2020 ([Yahoo finance](https://finance.yahoo.com/quote/ETH-USD/)). The surging value of cryptocurrencies raises studies with computational tools for price prediction.\n",
    "### Purpose\n",
    "This study will apply MLR and assessment / selection methods on the ETH dataset, aiming to build an optimized model that explains the linearity between the rate of change (ROC) of same-day inputs and the next-day return rate.\n",
    "### Dataset"
   ]
  },
  {
   "cell_type": "code",
   "execution_count": 2,
   "id": "159575e3",
   "metadata": {},
   "outputs": [
    {
     "name": "stderr",
     "output_type": "stream",
     "text": [
      "\u001b[1mRows: \u001b[22m\u001b[34m493\u001b[39m \u001b[1mColumns: \u001b[22m\u001b[34m47\u001b[39m\n",
      "\n",
      "\u001b[36m──\u001b[39m \u001b[1mColumn specification\u001b[22m \u001b[36m────────────────────────────────────────────────────────\u001b[39m\n",
      "\u001b[1mDelimiter:\u001b[22m \",\"\n",
      "\u001b[32mdbl\u001b[39m  (46): reddit_index, block_size, mining_difficulty, ethe_open_interest, ...\n",
      "\u001b[34mdate\u001b[39m  (1): date\n",
      "\n",
      "\n",
      "\u001b[36mℹ\u001b[39m Use \u001b[30m\u001b[47m\u001b[30m\u001b[47m`spec()`\u001b[47m\u001b[30m\u001b[49m\u001b[39m to retrieve the full column specification for this data.\n",
      "\u001b[36mℹ\u001b[39m Specify the column types or set \u001b[30m\u001b[47m\u001b[30m\u001b[47m`show_col_types = FALSE`\u001b[47m\u001b[30m\u001b[49m\u001b[39m to quiet this message.\n",
      "\n"
     ]
    },
    {
     "data": {
      "text/html": [
       "<table class=\"dataframe\">\n",
       "<caption>A tibble: 2 × 47</caption>\n",
       "<thead>\n",
       "\t<tr><th scope=col>date</th><th scope=col>reddit_index</th><th scope=col>block_size</th><th scope=col>mining_difficulty</th><th scope=col>ethe_open_interest</th><th scope=col>activate_address</th><th scope=col>on_chain_transaction_vol</th><th scope=col>unit_computing_income</th><th scope=col>daily_block_reward</th><th scope=col>block_gen_rate</th><th scope=col>⋯</th><th scope=col>trade_vol_l</th><th scope=col>trade_vol_x</th><th scope=col>short</th><th scope=col>long</th><th scope=col>ethe_otc_premium</th><th scope=col>block_count</th><th scope=col>avg_computing_power</th><th scope=col>transaction_vol</th><th scope=col>supply</th><th scope=col>reddit_follower_growth_rate</th></tr>\n",
       "\t<tr><th scope=col>&lt;date&gt;</th><th scope=col>&lt;dbl&gt;</th><th scope=col>&lt;dbl&gt;</th><th scope=col>&lt;dbl&gt;</th><th scope=col>&lt;dbl&gt;</th><th scope=col>&lt;dbl&gt;</th><th scope=col>&lt;dbl&gt;</th><th scope=col>&lt;dbl&gt;</th><th scope=col>&lt;dbl&gt;</th><th scope=col>&lt;dbl&gt;</th><th scope=col>⋯</th><th scope=col>&lt;dbl&gt;</th><th scope=col>&lt;dbl&gt;</th><th scope=col>&lt;dbl&gt;</th><th scope=col>&lt;dbl&gt;</th><th scope=col>&lt;dbl&gt;</th><th scope=col>&lt;dbl&gt;</th><th scope=col>&lt;dbl&gt;</th><th scope=col>&lt;dbl&gt;</th><th scope=col>&lt;dbl&gt;</th><th scope=col>&lt;dbl&gt;</th></tr>\n",
       "</thead>\n",
       "<tbody>\n",
       "\t<tr><td>2020-06-24</td><td>2004.993</td><td>38301.08</td><td>2.405277e+15</td><td>1702398</td><td>566754</td><td>5530577</td><td>0.0202</td><td>3723607</td><td>13.4</td><td>⋯</td><td>0</td><td>0</td><td>141651691</td><td>137850993</td><td>3.5046</td><td>6450</td><td>1.916233e+14</td><td>1042273</td><td>108818350</td><td>0.086374</td></tr>\n",
       "\t<tr><td>2020-06-25</td><td>2035.980</td><td>35299.83</td><td>2.406899e+15</td><td>1702281</td><td>584713</td><td>2795780</td><td>0.0197</td><td>3632507</td><td>13.4</td><td>⋯</td><td>0</td><td>0</td><td>128435656</td><td>115084909</td><td>3.0171</td><td>6448</td><td>1.915031e+14</td><td>1017408</td><td>108831273</td><td>0.101543</td></tr>\n",
       "</tbody>\n",
       "</table>\n"
      ],
      "text/latex": [
       "A tibble: 2 × 47\n",
       "\\begin{tabular}{lllllllllllllllllllll}\n",
       " date & reddit\\_index & block\\_size & mining\\_difficulty & ethe\\_open\\_interest & activate\\_address & on\\_chain\\_transaction\\_vol & unit\\_computing\\_income & daily\\_block\\_reward & block\\_gen\\_rate & ⋯ & trade\\_vol\\_l & trade\\_vol\\_x & short & long & ethe\\_otc\\_premium & block\\_count & avg\\_computing\\_power & transaction\\_vol & supply & reddit\\_follower\\_growth\\_rate\\\\\n",
       " <date> & <dbl> & <dbl> & <dbl> & <dbl> & <dbl> & <dbl> & <dbl> & <dbl> & <dbl> & ⋯ & <dbl> & <dbl> & <dbl> & <dbl> & <dbl> & <dbl> & <dbl> & <dbl> & <dbl> & <dbl>\\\\\n",
       "\\hline\n",
       "\t 2020-06-24 & 2004.993 & 38301.08 & 2.405277e+15 & 1702398 & 566754 & 5530577 & 0.0202 & 3723607 & 13.4 & ⋯ & 0 & 0 & 141651691 & 137850993 & 3.5046 & 6450 & 1.916233e+14 & 1042273 & 108818350 & 0.086374\\\\\n",
       "\t 2020-06-25 & 2035.980 & 35299.83 & 2.406899e+15 & 1702281 & 584713 & 2795780 & 0.0197 & 3632507 & 13.4 & ⋯ & 0 & 0 & 128435656 & 115084909 & 3.0171 & 6448 & 1.915031e+14 & 1017408 & 108831273 & 0.101543\\\\\n",
       "\\end{tabular}\n"
      ],
      "text/markdown": [
       "\n",
       "A tibble: 2 × 47\n",
       "\n",
       "| date &lt;date&gt; | reddit_index &lt;dbl&gt; | block_size &lt;dbl&gt; | mining_difficulty &lt;dbl&gt; | ethe_open_interest &lt;dbl&gt; | activate_address &lt;dbl&gt; | on_chain_transaction_vol &lt;dbl&gt; | unit_computing_income &lt;dbl&gt; | daily_block_reward &lt;dbl&gt; | block_gen_rate &lt;dbl&gt; | ⋯ ⋯ | trade_vol_l &lt;dbl&gt; | trade_vol_x &lt;dbl&gt; | short &lt;dbl&gt; | long &lt;dbl&gt; | ethe_otc_premium &lt;dbl&gt; | block_count &lt;dbl&gt; | avg_computing_power &lt;dbl&gt; | transaction_vol &lt;dbl&gt; | supply &lt;dbl&gt; | reddit_follower_growth_rate &lt;dbl&gt; |\n",
       "|---|---|---|---|---|---|---|---|---|---|---|---|---|---|---|---|---|---|---|---|---|\n",
       "| 2020-06-24 | 2004.993 | 38301.08 | 2.405277e+15 | 1702398 | 566754 | 5530577 | 0.0202 | 3723607 | 13.4 | ⋯ | 0 | 0 | 141651691 | 137850993 | 3.5046 | 6450 | 1.916233e+14 | 1042273 | 108818350 | 0.086374 |\n",
       "| 2020-06-25 | 2035.980 | 35299.83 | 2.406899e+15 | 1702281 | 584713 | 2795780 | 0.0197 | 3632507 | 13.4 | ⋯ | 0 | 0 | 128435656 | 115084909 | 3.0171 | 6448 | 1.915031e+14 | 1017408 | 108831273 | 0.101543 |\n",
       "\n"
      ],
      "text/plain": [
       "  date       reddit_index block_size mining_difficulty ethe_open_interest\n",
       "1 2020-06-24 2004.993     38301.08   2.405277e+15      1702398           \n",
       "2 2020-06-25 2035.980     35299.83   2.406899e+15      1702281           \n",
       "  activate_address on_chain_transaction_vol unit_computing_income\n",
       "1 566754           5530577                  0.0202               \n",
       "2 584713           2795780                  0.0197               \n",
       "  daily_block_reward block_gen_rate ⋯ trade_vol_l trade_vol_x short    \n",
       "1 3723607            13.4           ⋯ 0           0           141651691\n",
       "2 3632507            13.4           ⋯ 0           0           128435656\n",
       "  long      ethe_otc_premium block_count avg_computing_power transaction_vol\n",
       "1 137850993 3.5046           6450        1.916233e+14        1042273        \n",
       "2 115084909 3.0171           6448        1.915031e+14        1017408        \n",
       "  supply    reddit_follower_growth_rate\n",
       "1 108818350 0.086374                   \n",
       "2 108831273 0.101543                   "
      ]
     },
     "metadata": {},
     "output_type": "display_data"
    },
    {
     "data": {
      "text/html": [
       "<table class=\"dataframe\">\n",
       "<caption>A tibble: 2 × 47</caption>\n",
       "<thead>\n",
       "\t<tr><th scope=col>date</th><th scope=col>reddit_index</th><th scope=col>block_size</th><th scope=col>mining_difficulty</th><th scope=col>ethe_open_interest</th><th scope=col>activate_address</th><th scope=col>on_chain_transaction_vol</th><th scope=col>unit_computing_income</th><th scope=col>daily_block_reward</th><th scope=col>block_gen_rate</th><th scope=col>⋯</th><th scope=col>trade_vol_l</th><th scope=col>trade_vol_x</th><th scope=col>short</th><th scope=col>long</th><th scope=col>ethe_otc_premium</th><th scope=col>block_count</th><th scope=col>avg_computing_power</th><th scope=col>transaction_vol</th><th scope=col>supply</th><th scope=col>reddit_follower_growth_rate</th></tr>\n",
       "\t<tr><th scope=col>&lt;date&gt;</th><th scope=col>&lt;dbl&gt;</th><th scope=col>&lt;dbl&gt;</th><th scope=col>&lt;dbl&gt;</th><th scope=col>&lt;dbl&gt;</th><th scope=col>&lt;dbl&gt;</th><th scope=col>&lt;dbl&gt;</th><th scope=col>&lt;dbl&gt;</th><th scope=col>&lt;dbl&gt;</th><th scope=col>&lt;dbl&gt;</th><th scope=col>⋯</th><th scope=col>&lt;dbl&gt;</th><th scope=col>&lt;dbl&gt;</th><th scope=col>&lt;dbl&gt;</th><th scope=col>&lt;dbl&gt;</th><th scope=col>&lt;dbl&gt;</th><th scope=col>&lt;dbl&gt;</th><th scope=col>&lt;dbl&gt;</th><th scope=col>&lt;dbl&gt;</th><th scope=col>&lt;dbl&gt;</th><th scope=col>&lt;dbl&gt;</th></tr>\n",
       "</thead>\n",
       "<tbody>\n",
       "\t<tr><td>2021-10-28</td><td>254.6987</td><td>64129.10</td><td>1.006534e+16</td><td>3128001</td><td>826217</td><td>2972658</td><td>0.0858</td><td>63507365</td><td>13.6</td><td>⋯</td><td>180195352</td><td>152798432</td><td>4755173026</td><td>4677848018</td><td>-0.0289822</td><td>6368</td><td>7.842797e+14</td><td>1456333</td><td>115181507</td><td>0.455180</td></tr>\n",
       "\t<tr><td>2021-10-29</td><td>264.5458</td><td>62412.12</td><td>1.023876e+16</td><td>3128001</td><td>765907</td><td>1313643</td><td>0.0835</td><td>65172687</td><td>13.6</td><td>⋯</td><td>102822580</td><td> 41716992</td><td>2839980504</td><td>2612652448</td><td>-0.0289822</td><td>6345</td><td>7.986090e+14</td><td>1379095</td><td>115194221</td><td>0.391936</td></tr>\n",
       "</tbody>\n",
       "</table>\n"
      ],
      "text/latex": [
       "A tibble: 2 × 47\n",
       "\\begin{tabular}{lllllllllllllllllllll}\n",
       " date & reddit\\_index & block\\_size & mining\\_difficulty & ethe\\_open\\_interest & activate\\_address & on\\_chain\\_transaction\\_vol & unit\\_computing\\_income & daily\\_block\\_reward & block\\_gen\\_rate & ⋯ & trade\\_vol\\_l & trade\\_vol\\_x & short & long & ethe\\_otc\\_premium & block\\_count & avg\\_computing\\_power & transaction\\_vol & supply & reddit\\_follower\\_growth\\_rate\\\\\n",
       " <date> & <dbl> & <dbl> & <dbl> & <dbl> & <dbl> & <dbl> & <dbl> & <dbl> & <dbl> & ⋯ & <dbl> & <dbl> & <dbl> & <dbl> & <dbl> & <dbl> & <dbl> & <dbl> & <dbl> & <dbl>\\\\\n",
       "\\hline\n",
       "\t 2021-10-28 & 254.6987 & 64129.10 & 1.006534e+16 & 3128001 & 826217 & 2972658 & 0.0858 & 63507365 & 13.6 & ⋯ & 180195352 & 152798432 & 4755173026 & 4677848018 & -0.0289822 & 6368 & 7.842797e+14 & 1456333 & 115181507 & 0.455180\\\\\n",
       "\t 2021-10-29 & 264.5458 & 62412.12 & 1.023876e+16 & 3128001 & 765907 & 1313643 & 0.0835 & 65172687 & 13.6 & ⋯ & 102822580 &  41716992 & 2839980504 & 2612652448 & -0.0289822 & 6345 & 7.986090e+14 & 1379095 & 115194221 & 0.391936\\\\\n",
       "\\end{tabular}\n"
      ],
      "text/markdown": [
       "\n",
       "A tibble: 2 × 47\n",
       "\n",
       "| date &lt;date&gt; | reddit_index &lt;dbl&gt; | block_size &lt;dbl&gt; | mining_difficulty &lt;dbl&gt; | ethe_open_interest &lt;dbl&gt; | activate_address &lt;dbl&gt; | on_chain_transaction_vol &lt;dbl&gt; | unit_computing_income &lt;dbl&gt; | daily_block_reward &lt;dbl&gt; | block_gen_rate &lt;dbl&gt; | ⋯ ⋯ | trade_vol_l &lt;dbl&gt; | trade_vol_x &lt;dbl&gt; | short &lt;dbl&gt; | long &lt;dbl&gt; | ethe_otc_premium &lt;dbl&gt; | block_count &lt;dbl&gt; | avg_computing_power &lt;dbl&gt; | transaction_vol &lt;dbl&gt; | supply &lt;dbl&gt; | reddit_follower_growth_rate &lt;dbl&gt; |\n",
       "|---|---|---|---|---|---|---|---|---|---|---|---|---|---|---|---|---|---|---|---|---|\n",
       "| 2021-10-28 | 254.6987 | 64129.10 | 1.006534e+16 | 3128001 | 826217 | 2972658 | 0.0858 | 63507365 | 13.6 | ⋯ | 180195352 | 152798432 | 4755173026 | 4677848018 | -0.0289822 | 6368 | 7.842797e+14 | 1456333 | 115181507 | 0.455180 |\n",
       "| 2021-10-29 | 264.5458 | 62412.12 | 1.023876e+16 | 3128001 | 765907 | 1313643 | 0.0835 | 65172687 | 13.6 | ⋯ | 102822580 |  41716992 | 2839980504 | 2612652448 | -0.0289822 | 6345 | 7.986090e+14 | 1379095 | 115194221 | 0.391936 |\n",
       "\n"
      ],
      "text/plain": [
       "  date       reddit_index block_size mining_difficulty ethe_open_interest\n",
       "1 2021-10-28 254.6987     64129.10   1.006534e+16      3128001           \n",
       "2 2021-10-29 264.5458     62412.12   1.023876e+16      3128001           \n",
       "  activate_address on_chain_transaction_vol unit_computing_income\n",
       "1 826217           2972658                  0.0858               \n",
       "2 765907           1313643                  0.0835               \n",
       "  daily_block_reward block_gen_rate ⋯ trade_vol_l trade_vol_x short     \n",
       "1 63507365           13.6           ⋯ 180195352   152798432   4755173026\n",
       "2 65172687           13.6           ⋯ 102822580    41716992   2839980504\n",
       "  long       ethe_otc_premium block_count avg_computing_power transaction_vol\n",
       "1 4677848018 -0.0289822       6368        7.842797e+14        1456333        \n",
       "2 2612652448 -0.0289822       6345        7.986090e+14        1379095        \n",
       "  supply    reddit_follower_growth_rate\n",
       "1 115181507 0.455180                   \n",
       "2 115194221 0.391936                   "
      ]
     },
     "metadata": {},
     "output_type": "display_data"
    }
   ],
   "source": [
    "eth_raw <- read_csv('https://raw.githubusercontent.com/gzzen/stat-301-group-project/main/eth_dataset.csv') %>% na.omit()\n",
    "head(eth_raw, 2)\n",
    "tail(eth_raw, 2)"
   ]
  },
  {
   "cell_type": "markdown",
   "id": "9867c97a",
   "metadata": {},
   "source": [
    "The raw data is pulled from [qkl123](https://www.qkl123.com/project/eth/data) that consists a comprehensive collection of featured indicators for ETH. The semi-finished dataset `eth_data` is then hand-crafted by merging columns with Python ([detailed process](https://github.com/gzzen/stat-301-group-project/blob/main/proposal/dataset/merge_dataset.ipynb)). Below we roughly peek at columns of the data. "
   ]
  },
  {
   "cell_type": "code",
   "execution_count": 3,
   "id": "a3521501",
   "metadata": {},
   "outputs": [
    {
     "name": "stdout",
     "output_type": "stream",
     "text": [
      "Total number of columns:  47"
     ]
    },
    {
     "data": {
      "text/html": [
       "<style>\n",
       ".list-inline {list-style: none; margin:0; padding: 0}\n",
       ".list-inline>li {display: inline-block}\n",
       ".list-inline>li:not(:last-child)::after {content: \"\\00b7\"; padding: 0 .5ex}\n",
       "</style>\n",
       "<ol class=list-inline><li>'date'</li><li>'reddit_index'</li><li>'block_size'</li><li>'mining_difficulty'</li><li>'ethe_open_interest'</li><li>'activate_address'</li><li>'on_chain_transaction_vol'</li><li>'unit_computing_income'</li><li>'daily_block_reward'</li><li>'block_gen_rate'</li><li>'price'</li><li>'open_interest_top100'</li><li>'open_interest_top50'</li><li>'open_interest_top30'</li><li>'open_interest_top10'</li><li>'avg_gas_cost'</li><li>'unit_transaction_fee'</li><li>'mining_vol'</li><li>'margin_call_s'</li><li>'margin_call_m'</li><li>'margin_call_l'</li><li>'margin_call_x'</li><li>'short_margin_call'</li><li>'long_margin_call'</li><li>'new_addresses'</li><li>'open_interest'</li><li>'business_vol'</li><li>'interest'</li><li>'basis'</li><li>'inflow_maker'</li><li>'outflow_maker'</li><li>'inflow_retail'</li><li>'outflow_retail'</li><li>'net'</li><li>'daily_uncle_block_reward'</li><li>'trade_vol_s'</li><li>'trade_vol_m'</li><li>'trade_vol_l'</li><li>'trade_vol_x'</li><li>'short'</li><li>'long'</li><li>'ethe_otc_premium'</li><li>'block_count'</li><li>'avg_computing_power'</li><li>'transaction_vol'</li><li>'supply'</li><li>'reddit_follower_growth_rate'</li></ol>\n"
      ],
      "text/latex": [
       "\\begin{enumerate*}\n",
       "\\item 'date'\n",
       "\\item 'reddit\\_index'\n",
       "\\item 'block\\_size'\n",
       "\\item 'mining\\_difficulty'\n",
       "\\item 'ethe\\_open\\_interest'\n",
       "\\item 'activate\\_address'\n",
       "\\item 'on\\_chain\\_transaction\\_vol'\n",
       "\\item 'unit\\_computing\\_income'\n",
       "\\item 'daily\\_block\\_reward'\n",
       "\\item 'block\\_gen\\_rate'\n",
       "\\item 'price'\n",
       "\\item 'open\\_interest\\_top100'\n",
       "\\item 'open\\_interest\\_top50'\n",
       "\\item 'open\\_interest\\_top30'\n",
       "\\item 'open\\_interest\\_top10'\n",
       "\\item 'avg\\_gas\\_cost'\n",
       "\\item 'unit\\_transaction\\_fee'\n",
       "\\item 'mining\\_vol'\n",
       "\\item 'margin\\_call\\_s'\n",
       "\\item 'margin\\_call\\_m'\n",
       "\\item 'margin\\_call\\_l'\n",
       "\\item 'margin\\_call\\_x'\n",
       "\\item 'short\\_margin\\_call'\n",
       "\\item 'long\\_margin\\_call'\n",
       "\\item 'new\\_addresses'\n",
       "\\item 'open\\_interest'\n",
       "\\item 'business\\_vol'\n",
       "\\item 'interest'\n",
       "\\item 'basis'\n",
       "\\item 'inflow\\_maker'\n",
       "\\item 'outflow\\_maker'\n",
       "\\item 'inflow\\_retail'\n",
       "\\item 'outflow\\_retail'\n",
       "\\item 'net'\n",
       "\\item 'daily\\_uncle\\_block\\_reward'\n",
       "\\item 'trade\\_vol\\_s'\n",
       "\\item 'trade\\_vol\\_m'\n",
       "\\item 'trade\\_vol\\_l'\n",
       "\\item 'trade\\_vol\\_x'\n",
       "\\item 'short'\n",
       "\\item 'long'\n",
       "\\item 'ethe\\_otc\\_premium'\n",
       "\\item 'block\\_count'\n",
       "\\item 'avg\\_computing\\_power'\n",
       "\\item 'transaction\\_vol'\n",
       "\\item 'supply'\n",
       "\\item 'reddit\\_follower\\_growth\\_rate'\n",
       "\\end{enumerate*}\n"
      ],
      "text/markdown": [
       "1. 'date'\n",
       "2. 'reddit_index'\n",
       "3. 'block_size'\n",
       "4. 'mining_difficulty'\n",
       "5. 'ethe_open_interest'\n",
       "6. 'activate_address'\n",
       "7. 'on_chain_transaction_vol'\n",
       "8. 'unit_computing_income'\n",
       "9. 'daily_block_reward'\n",
       "10. 'block_gen_rate'\n",
       "11. 'price'\n",
       "12. 'open_interest_top100'\n",
       "13. 'open_interest_top50'\n",
       "14. 'open_interest_top30'\n",
       "15. 'open_interest_top10'\n",
       "16. 'avg_gas_cost'\n",
       "17. 'unit_transaction_fee'\n",
       "18. 'mining_vol'\n",
       "19. 'margin_call_s'\n",
       "20. 'margin_call_m'\n",
       "21. 'margin_call_l'\n",
       "22. 'margin_call_x'\n",
       "23. 'short_margin_call'\n",
       "24. 'long_margin_call'\n",
       "25. 'new_addresses'\n",
       "26. 'open_interest'\n",
       "27. 'business_vol'\n",
       "28. 'interest'\n",
       "29. 'basis'\n",
       "30. 'inflow_maker'\n",
       "31. 'outflow_maker'\n",
       "32. 'inflow_retail'\n",
       "33. 'outflow_retail'\n",
       "34. 'net'\n",
       "35. 'daily_uncle_block_reward'\n",
       "36. 'trade_vol_s'\n",
       "37. 'trade_vol_m'\n",
       "38. 'trade_vol_l'\n",
       "39. 'trade_vol_x'\n",
       "40. 'short'\n",
       "41. 'long'\n",
       "42. 'ethe_otc_premium'\n",
       "43. 'block_count'\n",
       "44. 'avg_computing_power'\n",
       "45. 'transaction_vol'\n",
       "46. 'supply'\n",
       "47. 'reddit_follower_growth_rate'\n",
       "\n",
       "\n"
      ],
      "text/plain": [
       " [1] \"date\"                        \"reddit_index\"               \n",
       " [3] \"block_size\"                  \"mining_difficulty\"          \n",
       " [5] \"ethe_open_interest\"          \"activate_address\"           \n",
       " [7] \"on_chain_transaction_vol\"    \"unit_computing_income\"      \n",
       " [9] \"daily_block_reward\"          \"block_gen_rate\"             \n",
       "[11] \"price\"                       \"open_interest_top100\"       \n",
       "[13] \"open_interest_top50\"         \"open_interest_top30\"        \n",
       "[15] \"open_interest_top10\"         \"avg_gas_cost\"               \n",
       "[17] \"unit_transaction_fee\"        \"mining_vol\"                 \n",
       "[19] \"margin_call_s\"               \"margin_call_m\"              \n",
       "[21] \"margin_call_l\"               \"margin_call_x\"              \n",
       "[23] \"short_margin_call\"           \"long_margin_call\"           \n",
       "[25] \"new_addresses\"               \"open_interest\"              \n",
       "[27] \"business_vol\"                \"interest\"                   \n",
       "[29] \"basis\"                       \"inflow_maker\"               \n",
       "[31] \"outflow_maker\"               \"inflow_retail\"              \n",
       "[33] \"outflow_retail\"              \"net\"                        \n",
       "[35] \"daily_uncle_block_reward\"    \"trade_vol_s\"                \n",
       "[37] \"trade_vol_m\"                 \"trade_vol_l\"                \n",
       "[39] \"trade_vol_x\"                 \"short\"                      \n",
       "[41] \"long\"                        \"ethe_otc_premium\"           \n",
       "[43] \"block_count\"                 \"avg_computing_power\"        \n",
       "[45] \"transaction_vol\"             \"supply\"                     \n",
       "[47] \"reddit_follower_growth_rate\""
      ]
     },
     "metadata": {},
     "output_type": "display_data"
    }
   ],
   "source": [
    "cat('Total number of columns: ', ncol(eth_raw))\n",
    "colnames(eth_raw)"
   ]
  },
  {
   "cell_type": "markdown",
   "id": "b8efabbc",
   "metadata": {},
   "source": [
    "The composition of dataset includes 47 columns spreading across 5 categories:\n",
    "- `price` and `date` are the most basic figures in trading.\n",
    "- `block_size`, `mining_difficulty`, etc. consists information of the blockchain.\n",
    "- `business_vol`, `outflow_retail`, etc. are indicators in the spot market.\n",
    "- `long_margin_call`, `margin_call_l`, etc. are indicators in the future market.\n",
    "- `reddit_index`, `ethe_otc_premium`, etc. have no specific attributes, but are interesting to consider.\n",
    "\n",
    "And we will further explain some of the variables after we reduce redundancy in the dataset."
   ]
  },
  {
   "cell_type": "markdown",
   "id": "cf87fdc1",
   "metadata": {},
   "source": [
    "## Method\n",
    "---\n",
    "### Cleaning and wrangling\n",
    "- To reliminate the cumulative effects of pricing and other factors, we need to change the raw numeric figures to ROC (rate of change). \n",
    "- The formula of ROC given by:\n",
    "$$\n",
    "ROC = \\frac{V_{final} - V_{initial}}{V_{initial}}\\\\\n",
    "$$\n",
    "\n",
    "- Therefore, we would first eleminate the non-numeric variable `date`."
   ]
  },
  {
   "cell_type": "code",
   "execution_count": 4,
   "id": "89140b3d",
   "metadata": {},
   "outputs": [
    {
     "data": {
      "text/html": [
       "<table class=\"dataframe\">\n",
       "<caption>A tibble: 6 × 46</caption>\n",
       "<thead>\n",
       "\t<tr><th scope=col>reddit_index</th><th scope=col>block_size</th><th scope=col>mining_difficulty</th><th scope=col>ethe_open_interest</th><th scope=col>activate_address</th><th scope=col>on_chain_transaction_vol</th><th scope=col>unit_computing_income</th><th scope=col>daily_block_reward</th><th scope=col>block_gen_rate</th><th scope=col>price</th><th scope=col>⋯</th><th scope=col>trade_vol_l</th><th scope=col>trade_vol_x</th><th scope=col>short</th><th scope=col>long</th><th scope=col>ethe_otc_premium</th><th scope=col>block_count</th><th scope=col>avg_computing_power</th><th scope=col>transaction_vol</th><th scope=col>supply</th><th scope=col>reddit_follower_growth_rate</th></tr>\n",
       "\t<tr><th scope=col>&lt;dbl&gt;</th><th scope=col>&lt;dbl&gt;</th><th scope=col>&lt;dbl&gt;</th><th scope=col>&lt;dbl&gt;</th><th scope=col>&lt;dbl&gt;</th><th scope=col>&lt;dbl&gt;</th><th scope=col>&lt;dbl&gt;</th><th scope=col>&lt;dbl&gt;</th><th scope=col>&lt;dbl&gt;</th><th scope=col>&lt;dbl&gt;</th><th scope=col>⋯</th><th scope=col>&lt;dbl&gt;</th><th scope=col>&lt;dbl&gt;</th><th scope=col>&lt;dbl&gt;</th><th scope=col>&lt;dbl&gt;</th><th scope=col>&lt;dbl&gt;</th><th scope=col>&lt;dbl&gt;</th><th scope=col>&lt;dbl&gt;</th><th scope=col>&lt;dbl&gt;</th><th scope=col>&lt;dbl&gt;</th><th scope=col>&lt;dbl&gt;</th></tr>\n",
       "</thead>\n",
       "<tbody>\n",
       "\t<tr><td>   0.000</td><td>    0.00</td><td>0.000000e+00</td><td>      0</td><td>     0</td><td>      0</td><td>0.0000</td><td>      0</td><td> 0.0</td><td>  0.0000</td><td>⋯</td><td>0</td><td>0</td><td>        0</td><td>        0</td><td>0.0000</td><td>   0</td><td>0.000000e+00</td><td>      0</td><td>        0</td><td>0.000000</td></tr>\n",
       "\t<tr><td>2004.993</td><td>38301.08</td><td>2.405277e+15</td><td>1702398</td><td>566754</td><td>5530577</td><td>0.0202</td><td>3723607</td><td>13.4</td><td>233.0257</td><td>⋯</td><td>0</td><td>0</td><td>141651691</td><td>137850993</td><td>3.5046</td><td>6450</td><td>1.916233e+14</td><td>1042273</td><td>108818350</td><td>0.086374</td></tr>\n",
       "\t<tr><td>2035.980</td><td>35299.83</td><td>2.406899e+15</td><td>1702281</td><td>584713</td><td>2795780</td><td>0.0197</td><td>3632507</td><td>13.4</td><td>229.5401</td><td>⋯</td><td>0</td><td>0</td><td>128435656</td><td>115084909</td><td>3.0171</td><td>6448</td><td>1.915031e+14</td><td>1017408</td><td>108831273</td><td>0.101543</td></tr>\n",
       "\t<tr><td>2056.894</td><td>36471.11</td><td>2.387370e+15</td><td>1702281</td><td>554079</td><td>1809875</td><td>0.0194</td><td>3507628</td><td>13.6</td><td>227.2679</td><td>⋯</td><td>0</td><td>0</td><td> 78961382</td><td> 73166365</td><td>3.0171</td><td>6365</td><td>1.877355e+14</td><td>1017192</td><td>108844030</td><td>0.104361</td></tr>\n",
       "\t<tr><td>2078.532</td><td>33620.33</td><td>2.341417e+15</td><td>1702281</td><td>587223</td><td>1336871</td><td>0.0192</td><td>3424360</td><td>13.2</td><td>224.9650</td><td>⋯</td><td>0</td><td>0</td><td>168139112</td><td>168172008</td><td>3.0171</td><td>6522</td><td>1.880458e+14</td><td> 997942</td><td>108857101</td><td>0.107589</td></tr>\n",
       "\t<tr><td>2088.733</td><td>34826.14</td><td>2.397435e+15</td><td>1701932</td><td>635711</td><td>1559098</td><td>0.0193</td><td>3492081</td><td>13.5</td><td>223.9209</td><td>⋯</td><td>0</td><td>0</td><td>114574412</td><td>107306852</td><td>2.9924</td><td>6393</td><td>1.899869e+14</td><td>1056443</td><td>108869915</td><td>0.093134</td></tr>\n",
       "</tbody>\n",
       "</table>\n"
      ],
      "text/latex": [
       "A tibble: 6 × 46\n",
       "\\begin{tabular}{lllllllllllllllllllll}\n",
       " reddit\\_index & block\\_size & mining\\_difficulty & ethe\\_open\\_interest & activate\\_address & on\\_chain\\_transaction\\_vol & unit\\_computing\\_income & daily\\_block\\_reward & block\\_gen\\_rate & price & ⋯ & trade\\_vol\\_l & trade\\_vol\\_x & short & long & ethe\\_otc\\_premium & block\\_count & avg\\_computing\\_power & transaction\\_vol & supply & reddit\\_follower\\_growth\\_rate\\\\\n",
       " <dbl> & <dbl> & <dbl> & <dbl> & <dbl> & <dbl> & <dbl> & <dbl> & <dbl> & <dbl> & ⋯ & <dbl> & <dbl> & <dbl> & <dbl> & <dbl> & <dbl> & <dbl> & <dbl> & <dbl> & <dbl>\\\\\n",
       "\\hline\n",
       "\t    0.000 &     0.00 & 0.000000e+00 &       0 &      0 &       0 & 0.0000 &       0 &  0.0 &   0.0000 & ⋯ & 0 & 0 &         0 &         0 & 0.0000 &    0 & 0.000000e+00 &       0 &         0 & 0.000000\\\\\n",
       "\t 2004.993 & 38301.08 & 2.405277e+15 & 1702398 & 566754 & 5530577 & 0.0202 & 3723607 & 13.4 & 233.0257 & ⋯ & 0 & 0 & 141651691 & 137850993 & 3.5046 & 6450 & 1.916233e+14 & 1042273 & 108818350 & 0.086374\\\\\n",
       "\t 2035.980 & 35299.83 & 2.406899e+15 & 1702281 & 584713 & 2795780 & 0.0197 & 3632507 & 13.4 & 229.5401 & ⋯ & 0 & 0 & 128435656 & 115084909 & 3.0171 & 6448 & 1.915031e+14 & 1017408 & 108831273 & 0.101543\\\\\n",
       "\t 2056.894 & 36471.11 & 2.387370e+15 & 1702281 & 554079 & 1809875 & 0.0194 & 3507628 & 13.6 & 227.2679 & ⋯ & 0 & 0 &  78961382 &  73166365 & 3.0171 & 6365 & 1.877355e+14 & 1017192 & 108844030 & 0.104361\\\\\n",
       "\t 2078.532 & 33620.33 & 2.341417e+15 & 1702281 & 587223 & 1336871 & 0.0192 & 3424360 & 13.2 & 224.9650 & ⋯ & 0 & 0 & 168139112 & 168172008 & 3.0171 & 6522 & 1.880458e+14 &  997942 & 108857101 & 0.107589\\\\\n",
       "\t 2088.733 & 34826.14 & 2.397435e+15 & 1701932 & 635711 & 1559098 & 0.0193 & 3492081 & 13.5 & 223.9209 & ⋯ & 0 & 0 & 114574412 & 107306852 & 2.9924 & 6393 & 1.899869e+14 & 1056443 & 108869915 & 0.093134\\\\\n",
       "\\end{tabular}\n"
      ],
      "text/markdown": [
       "\n",
       "A tibble: 6 × 46\n",
       "\n",
       "| reddit_index &lt;dbl&gt; | block_size &lt;dbl&gt; | mining_difficulty &lt;dbl&gt; | ethe_open_interest &lt;dbl&gt; | activate_address &lt;dbl&gt; | on_chain_transaction_vol &lt;dbl&gt; | unit_computing_income &lt;dbl&gt; | daily_block_reward &lt;dbl&gt; | block_gen_rate &lt;dbl&gt; | price &lt;dbl&gt; | ⋯ ⋯ | trade_vol_l &lt;dbl&gt; | trade_vol_x &lt;dbl&gt; | short &lt;dbl&gt; | long &lt;dbl&gt; | ethe_otc_premium &lt;dbl&gt; | block_count &lt;dbl&gt; | avg_computing_power &lt;dbl&gt; | transaction_vol &lt;dbl&gt; | supply &lt;dbl&gt; | reddit_follower_growth_rate &lt;dbl&gt; |\n",
       "|---|---|---|---|---|---|---|---|---|---|---|---|---|---|---|---|---|---|---|---|---|\n",
       "|    0.000 |     0.00 | 0.000000e+00 |       0 |      0 |       0 | 0.0000 |       0 |  0.0 |   0.0000 | ⋯ | 0 | 0 |         0 |         0 | 0.0000 |    0 | 0.000000e+00 |       0 |         0 | 0.000000 |\n",
       "| 2004.993 | 38301.08 | 2.405277e+15 | 1702398 | 566754 | 5530577 | 0.0202 | 3723607 | 13.4 | 233.0257 | ⋯ | 0 | 0 | 141651691 | 137850993 | 3.5046 | 6450 | 1.916233e+14 | 1042273 | 108818350 | 0.086374 |\n",
       "| 2035.980 | 35299.83 | 2.406899e+15 | 1702281 | 584713 | 2795780 | 0.0197 | 3632507 | 13.4 | 229.5401 | ⋯ | 0 | 0 | 128435656 | 115084909 | 3.0171 | 6448 | 1.915031e+14 | 1017408 | 108831273 | 0.101543 |\n",
       "| 2056.894 | 36471.11 | 2.387370e+15 | 1702281 | 554079 | 1809875 | 0.0194 | 3507628 | 13.6 | 227.2679 | ⋯ | 0 | 0 |  78961382 |  73166365 | 3.0171 | 6365 | 1.877355e+14 | 1017192 | 108844030 | 0.104361 |\n",
       "| 2078.532 | 33620.33 | 2.341417e+15 | 1702281 | 587223 | 1336871 | 0.0192 | 3424360 | 13.2 | 224.9650 | ⋯ | 0 | 0 | 168139112 | 168172008 | 3.0171 | 6522 | 1.880458e+14 |  997942 | 108857101 | 0.107589 |\n",
       "| 2088.733 | 34826.14 | 2.397435e+15 | 1701932 | 635711 | 1559098 | 0.0193 | 3492081 | 13.5 | 223.9209 | ⋯ | 0 | 0 | 114574412 | 107306852 | 2.9924 | 6393 | 1.899869e+14 | 1056443 | 108869915 | 0.093134 |\n",
       "\n"
      ],
      "text/plain": [
       "  reddit_index block_size mining_difficulty ethe_open_interest activate_address\n",
       "1    0.000         0.00   0.000000e+00            0                 0          \n",
       "2 2004.993     38301.08   2.405277e+15      1702398            566754          \n",
       "3 2035.980     35299.83   2.406899e+15      1702281            584713          \n",
       "4 2056.894     36471.11   2.387370e+15      1702281            554079          \n",
       "5 2078.532     33620.33   2.341417e+15      1702281            587223          \n",
       "6 2088.733     34826.14   2.397435e+15      1701932            635711          \n",
       "  on_chain_transaction_vol unit_computing_income daily_block_reward\n",
       "1       0                  0.0000                      0           \n",
       "2 5530577                  0.0202                3723607           \n",
       "3 2795780                  0.0197                3632507           \n",
       "4 1809875                  0.0194                3507628           \n",
       "5 1336871                  0.0192                3424360           \n",
       "6 1559098                  0.0193                3492081           \n",
       "  block_gen_rate price    ⋯ trade_vol_l trade_vol_x short     long     \n",
       "1  0.0             0.0000 ⋯ 0           0                   0         0\n",
       "2 13.4           233.0257 ⋯ 0           0           141651691 137850993\n",
       "3 13.4           229.5401 ⋯ 0           0           128435656 115084909\n",
       "4 13.6           227.2679 ⋯ 0           0            78961382  73166365\n",
       "5 13.2           224.9650 ⋯ 0           0           168139112 168172008\n",
       "6 13.5           223.9209 ⋯ 0           0           114574412 107306852\n",
       "  ethe_otc_premium block_count avg_computing_power transaction_vol supply   \n",
       "1 0.0000              0        0.000000e+00              0                 0\n",
       "2 3.5046           6450        1.916233e+14        1042273         108818350\n",
       "3 3.0171           6448        1.915031e+14        1017408         108831273\n",
       "4 3.0171           6365        1.877355e+14        1017192         108844030\n",
       "5 3.0171           6522        1.880458e+14         997942         108857101\n",
       "6 2.9924           6393        1.899869e+14        1056443         108869915\n",
       "  reddit_follower_growth_rate\n",
       "1 0.000000                   \n",
       "2 0.086374                   \n",
       "3 0.101543                   \n",
       "4 0.104361                   \n",
       "5 0.107589                   \n",
       "6 0.093134                   "
      ]
     },
     "metadata": {},
     "output_type": "display_data"
    },
    {
     "data": {
      "text/html": [
       "<table class=\"dataframe\">\n",
       "<caption>A tibble: 6 × 46</caption>\n",
       "<thead>\n",
       "\t<tr><th scope=col>reddit_index</th><th scope=col>block_size</th><th scope=col>mining_difficulty</th><th scope=col>ethe_open_interest</th><th scope=col>activate_address</th><th scope=col>on_chain_transaction_vol</th><th scope=col>unit_computing_income</th><th scope=col>daily_block_reward</th><th scope=col>block_gen_rate</th><th scope=col>price</th><th scope=col>⋯</th><th scope=col>trade_vol_l</th><th scope=col>trade_vol_x</th><th scope=col>short</th><th scope=col>long</th><th scope=col>ethe_otc_premium</th><th scope=col>block_count</th><th scope=col>avg_computing_power</th><th scope=col>transaction_vol</th><th scope=col>supply</th><th scope=col>reddit_follower_growth_rate</th></tr>\n",
       "\t<tr><th scope=col>&lt;dbl&gt;</th><th scope=col>&lt;dbl&gt;</th><th scope=col>&lt;dbl&gt;</th><th scope=col>&lt;dbl&gt;</th><th scope=col>&lt;dbl&gt;</th><th scope=col>&lt;dbl&gt;</th><th scope=col>&lt;dbl&gt;</th><th scope=col>&lt;dbl&gt;</th><th scope=col>&lt;dbl&gt;</th><th scope=col>&lt;dbl&gt;</th><th scope=col>⋯</th><th scope=col>&lt;dbl&gt;</th><th scope=col>&lt;dbl&gt;</th><th scope=col>&lt;dbl&gt;</th><th scope=col>&lt;dbl&gt;</th><th scope=col>&lt;dbl&gt;</th><th scope=col>&lt;dbl&gt;</th><th scope=col>&lt;dbl&gt;</th><th scope=col>&lt;dbl&gt;</th><th scope=col>&lt;dbl&gt;</th><th scope=col>&lt;dbl&gt;</th></tr>\n",
       "</thead>\n",
       "<tbody>\n",
       "\t<tr><td>2004.993</td><td>38301.08</td><td>2.405277e+15</td><td>1702398</td><td>566754</td><td>5530577</td><td>0.0202</td><td>3723607</td><td>13.4</td><td>233.0257</td><td>⋯</td><td>0</td><td>0</td><td>141651691</td><td>137850993</td><td>3.5046</td><td>6450</td><td>1.916233e+14</td><td>1042273</td><td>108818350</td><td>0.086374</td></tr>\n",
       "\t<tr><td>2035.980</td><td>35299.83</td><td>2.406899e+15</td><td>1702281</td><td>584713</td><td>2795780</td><td>0.0197</td><td>3632507</td><td>13.4</td><td>229.5401</td><td>⋯</td><td>0</td><td>0</td><td>128435656</td><td>115084909</td><td>3.0171</td><td>6448</td><td>1.915031e+14</td><td>1017408</td><td>108831273</td><td>0.101543</td></tr>\n",
       "\t<tr><td>2056.894</td><td>36471.11</td><td>2.387370e+15</td><td>1702281</td><td>554079</td><td>1809875</td><td>0.0194</td><td>3507628</td><td>13.6</td><td>227.2679</td><td>⋯</td><td>0</td><td>0</td><td> 78961382</td><td> 73166365</td><td>3.0171</td><td>6365</td><td>1.877355e+14</td><td>1017192</td><td>108844030</td><td>0.104361</td></tr>\n",
       "\t<tr><td>2078.532</td><td>33620.33</td><td>2.341417e+15</td><td>1702281</td><td>587223</td><td>1336871</td><td>0.0192</td><td>3424360</td><td>13.2</td><td>224.9650</td><td>⋯</td><td>0</td><td>0</td><td>168139112</td><td>168172008</td><td>3.0171</td><td>6522</td><td>1.880458e+14</td><td> 997942</td><td>108857101</td><td>0.107589</td></tr>\n",
       "\t<tr><td>2088.733</td><td>34826.14</td><td>2.397435e+15</td><td>1701932</td><td>635711</td><td>1559098</td><td>0.0193</td><td>3492081</td><td>13.5</td><td>223.9209</td><td>⋯</td><td>0</td><td>0</td><td>114574412</td><td>107306852</td><td>2.9924</td><td>6393</td><td>1.899869e+14</td><td>1056443</td><td>108869915</td><td>0.093134</td></tr>\n",
       "\t<tr><td>2068.726</td><td>34530.46</td><td>2.358195e+15</td><td>1701815</td><td>614460</td><td>1991476</td><td>0.0208</td><td>3787010</td><td>13.3</td><td>226.1556</td><td>⋯</td><td>0</td><td>0</td><td>118371376</td><td>123463154</td><td>3.5626</td><td>6479</td><td>1.892040e+14</td><td>1112487</td><td>108882902</td><td>0.118147</td></tr>\n",
       "</tbody>\n",
       "</table>\n"
      ],
      "text/latex": [
       "A tibble: 6 × 46\n",
       "\\begin{tabular}{lllllllllllllllllllll}\n",
       " reddit\\_index & block\\_size & mining\\_difficulty & ethe\\_open\\_interest & activate\\_address & on\\_chain\\_transaction\\_vol & unit\\_computing\\_income & daily\\_block\\_reward & block\\_gen\\_rate & price & ⋯ & trade\\_vol\\_l & trade\\_vol\\_x & short & long & ethe\\_otc\\_premium & block\\_count & avg\\_computing\\_power & transaction\\_vol & supply & reddit\\_follower\\_growth\\_rate\\\\\n",
       " <dbl> & <dbl> & <dbl> & <dbl> & <dbl> & <dbl> & <dbl> & <dbl> & <dbl> & <dbl> & ⋯ & <dbl> & <dbl> & <dbl> & <dbl> & <dbl> & <dbl> & <dbl> & <dbl> & <dbl> & <dbl>\\\\\n",
       "\\hline\n",
       "\t 2004.993 & 38301.08 & 2.405277e+15 & 1702398 & 566754 & 5530577 & 0.0202 & 3723607 & 13.4 & 233.0257 & ⋯ & 0 & 0 & 141651691 & 137850993 & 3.5046 & 6450 & 1.916233e+14 & 1042273 & 108818350 & 0.086374\\\\\n",
       "\t 2035.980 & 35299.83 & 2.406899e+15 & 1702281 & 584713 & 2795780 & 0.0197 & 3632507 & 13.4 & 229.5401 & ⋯ & 0 & 0 & 128435656 & 115084909 & 3.0171 & 6448 & 1.915031e+14 & 1017408 & 108831273 & 0.101543\\\\\n",
       "\t 2056.894 & 36471.11 & 2.387370e+15 & 1702281 & 554079 & 1809875 & 0.0194 & 3507628 & 13.6 & 227.2679 & ⋯ & 0 & 0 &  78961382 &  73166365 & 3.0171 & 6365 & 1.877355e+14 & 1017192 & 108844030 & 0.104361\\\\\n",
       "\t 2078.532 & 33620.33 & 2.341417e+15 & 1702281 & 587223 & 1336871 & 0.0192 & 3424360 & 13.2 & 224.9650 & ⋯ & 0 & 0 & 168139112 & 168172008 & 3.0171 & 6522 & 1.880458e+14 &  997942 & 108857101 & 0.107589\\\\\n",
       "\t 2088.733 & 34826.14 & 2.397435e+15 & 1701932 & 635711 & 1559098 & 0.0193 & 3492081 & 13.5 & 223.9209 & ⋯ & 0 & 0 & 114574412 & 107306852 & 2.9924 & 6393 & 1.899869e+14 & 1056443 & 108869915 & 0.093134\\\\\n",
       "\t 2068.726 & 34530.46 & 2.358195e+15 & 1701815 & 614460 & 1991476 & 0.0208 & 3787010 & 13.3 & 226.1556 & ⋯ & 0 & 0 & 118371376 & 123463154 & 3.5626 & 6479 & 1.892040e+14 & 1112487 & 108882902 & 0.118147\\\\\n",
       "\\end{tabular}\n"
      ],
      "text/markdown": [
       "\n",
       "A tibble: 6 × 46\n",
       "\n",
       "| reddit_index &lt;dbl&gt; | block_size &lt;dbl&gt; | mining_difficulty &lt;dbl&gt; | ethe_open_interest &lt;dbl&gt; | activate_address &lt;dbl&gt; | on_chain_transaction_vol &lt;dbl&gt; | unit_computing_income &lt;dbl&gt; | daily_block_reward &lt;dbl&gt; | block_gen_rate &lt;dbl&gt; | price &lt;dbl&gt; | ⋯ ⋯ | trade_vol_l &lt;dbl&gt; | trade_vol_x &lt;dbl&gt; | short &lt;dbl&gt; | long &lt;dbl&gt; | ethe_otc_premium &lt;dbl&gt; | block_count &lt;dbl&gt; | avg_computing_power &lt;dbl&gt; | transaction_vol &lt;dbl&gt; | supply &lt;dbl&gt; | reddit_follower_growth_rate &lt;dbl&gt; |\n",
       "|---|---|---|---|---|---|---|---|---|---|---|---|---|---|---|---|---|---|---|---|---|\n",
       "| 2004.993 | 38301.08 | 2.405277e+15 | 1702398 | 566754 | 5530577 | 0.0202 | 3723607 | 13.4 | 233.0257 | ⋯ | 0 | 0 | 141651691 | 137850993 | 3.5046 | 6450 | 1.916233e+14 | 1042273 | 108818350 | 0.086374 |\n",
       "| 2035.980 | 35299.83 | 2.406899e+15 | 1702281 | 584713 | 2795780 | 0.0197 | 3632507 | 13.4 | 229.5401 | ⋯ | 0 | 0 | 128435656 | 115084909 | 3.0171 | 6448 | 1.915031e+14 | 1017408 | 108831273 | 0.101543 |\n",
       "| 2056.894 | 36471.11 | 2.387370e+15 | 1702281 | 554079 | 1809875 | 0.0194 | 3507628 | 13.6 | 227.2679 | ⋯ | 0 | 0 |  78961382 |  73166365 | 3.0171 | 6365 | 1.877355e+14 | 1017192 | 108844030 | 0.104361 |\n",
       "| 2078.532 | 33620.33 | 2.341417e+15 | 1702281 | 587223 | 1336871 | 0.0192 | 3424360 | 13.2 | 224.9650 | ⋯ | 0 | 0 | 168139112 | 168172008 | 3.0171 | 6522 | 1.880458e+14 |  997942 | 108857101 | 0.107589 |\n",
       "| 2088.733 | 34826.14 | 2.397435e+15 | 1701932 | 635711 | 1559098 | 0.0193 | 3492081 | 13.5 | 223.9209 | ⋯ | 0 | 0 | 114574412 | 107306852 | 2.9924 | 6393 | 1.899869e+14 | 1056443 | 108869915 | 0.093134 |\n",
       "| 2068.726 | 34530.46 | 2.358195e+15 | 1701815 | 614460 | 1991476 | 0.0208 | 3787010 | 13.3 | 226.1556 | ⋯ | 0 | 0 | 118371376 | 123463154 | 3.5626 | 6479 | 1.892040e+14 | 1112487 | 108882902 | 0.118147 |\n",
       "\n"
      ],
      "text/plain": [
       "  reddit_index block_size mining_difficulty ethe_open_interest activate_address\n",
       "1 2004.993     38301.08   2.405277e+15      1702398            566754          \n",
       "2 2035.980     35299.83   2.406899e+15      1702281            584713          \n",
       "3 2056.894     36471.11   2.387370e+15      1702281            554079          \n",
       "4 2078.532     33620.33   2.341417e+15      1702281            587223          \n",
       "5 2088.733     34826.14   2.397435e+15      1701932            635711          \n",
       "6 2068.726     34530.46   2.358195e+15      1701815            614460          \n",
       "  on_chain_transaction_vol unit_computing_income daily_block_reward\n",
       "1 5530577                  0.0202                3723607           \n",
       "2 2795780                  0.0197                3632507           \n",
       "3 1809875                  0.0194                3507628           \n",
       "4 1336871                  0.0192                3424360           \n",
       "5 1559098                  0.0193                3492081           \n",
       "6 1991476                  0.0208                3787010           \n",
       "  block_gen_rate price    ⋯ trade_vol_l trade_vol_x short     long     \n",
       "1 13.4           233.0257 ⋯ 0           0           141651691 137850993\n",
       "2 13.4           229.5401 ⋯ 0           0           128435656 115084909\n",
       "3 13.6           227.2679 ⋯ 0           0            78961382  73166365\n",
       "4 13.2           224.9650 ⋯ 0           0           168139112 168172008\n",
       "5 13.5           223.9209 ⋯ 0           0           114574412 107306852\n",
       "6 13.3           226.1556 ⋯ 0           0           118371376 123463154\n",
       "  ethe_otc_premium block_count avg_computing_power transaction_vol supply   \n",
       "1 3.5046           6450        1.916233e+14        1042273         108818350\n",
       "2 3.0171           6448        1.915031e+14        1017408         108831273\n",
       "3 3.0171           6365        1.877355e+14        1017192         108844030\n",
       "4 3.0171           6522        1.880458e+14         997942         108857101\n",
       "5 2.9924           6393        1.899869e+14        1056443         108869915\n",
       "6 3.5626           6479        1.892040e+14        1112487         108882902\n",
       "  reddit_follower_growth_rate\n",
       "1 0.086374                   \n",
       "2 0.101543                   \n",
       "3 0.104361                   \n",
       "4 0.107589                   \n",
       "5 0.093134                   \n",
       "6 0.118147                   "
      ]
     },
     "metadata": {},
     "output_type": "display_data"
    },
    {
     "data": {
      "text/html": [
       "484"
      ],
      "text/latex": [
       "484"
      ],
      "text/markdown": [
       "484"
      ],
      "text/plain": [
       "[1] 484"
      ]
     },
     "metadata": {},
     "output_type": "display_data"
    },
    {
     "data": {
      "text/html": [
       "<table class=\"dataframe\">\n",
       "<caption>A data.frame: 2 × 46</caption>\n",
       "<thead>\n",
       "\t<tr><th></th><th scope=col>reddit_index</th><th scope=col>block_size</th><th scope=col>mining_difficulty</th><th scope=col>ethe_open_interest</th><th scope=col>activate_address</th><th scope=col>on_chain_transaction_vol</th><th scope=col>unit_computing_income</th><th scope=col>daily_block_reward</th><th scope=col>block_gen_rate</th><th scope=col>price</th><th scope=col>⋯</th><th scope=col>trade_vol_l</th><th scope=col>trade_vol_x</th><th scope=col>short</th><th scope=col>long</th><th scope=col>ethe_otc_premium</th><th scope=col>block_count</th><th scope=col>avg_computing_power</th><th scope=col>transaction_vol</th><th scope=col>supply</th><th scope=col>reddit_follower_growth_rate</th></tr>\n",
       "\t<tr><th></th><th scope=col>&lt;dbl&gt;</th><th scope=col>&lt;dbl&gt;</th><th scope=col>&lt;dbl&gt;</th><th scope=col>&lt;dbl&gt;</th><th scope=col>&lt;dbl&gt;</th><th scope=col>&lt;dbl&gt;</th><th scope=col>&lt;dbl&gt;</th><th scope=col>&lt;dbl&gt;</th><th scope=col>&lt;dbl&gt;</th><th scope=col>&lt;dbl&gt;</th><th scope=col>⋯</th><th scope=col>&lt;dbl&gt;</th><th scope=col>&lt;dbl&gt;</th><th scope=col>&lt;dbl&gt;</th><th scope=col>&lt;dbl&gt;</th><th scope=col>&lt;dbl&gt;</th><th scope=col>&lt;dbl&gt;</th><th scope=col>&lt;dbl&gt;</th><th scope=col>&lt;dbl&gt;</th><th scope=col>&lt;dbl&gt;</th><th scope=col>&lt;dbl&gt;</th></tr>\n",
       "</thead>\n",
       "<tbody>\n",
       "\t<tr><th scope=row>2</th><td>0.01521965</td><td>-0.08502187</td><td> 0.0006735777</td><td>-6.850295e-05</td><td> 0.03071421</td><td>-0.9781877</td><td>-0.02538071</td><td>-0.02507922</td><td>0.00000000</td><td>-0.015185498</td><td>⋯</td><td>NaN</td><td>NaN</td><td>-0.1029001</td><td>-0.1978199</td><td>-0.161579</td><td>-0.0003101737</td><td>-0.0006277275</td><td>-0.0244395562</td><td>0.0001187429</td><td>0.14938499</td></tr>\n",
       "\t<tr><th scope=row>3</th><td>0.01016766</td><td> 0.03211535</td><td>-0.0081798461</td><td> 0.000000e+00</td><td>-0.05528814</td><td>-0.5447362</td><td>-0.01546392</td><td>-0.03560211</td><td>0.01470588</td><td>-0.009997672</td><td>⋯</td><td>NaN</td><td>NaN</td><td>-0.6265629</td><td>-0.5729210</td><td> 0.000000</td><td>-0.0130400628</td><td>-0.0200686305</td><td>-0.0002123493</td><td>0.0001172044</td><td>0.02700242</td></tr>\n",
       "</tbody>\n",
       "</table>\n"
      ],
      "text/latex": [
       "A data.frame: 2 × 46\n",
       "\\begin{tabular}{r|lllllllllllllllllllll}\n",
       "  & reddit\\_index & block\\_size & mining\\_difficulty & ethe\\_open\\_interest & activate\\_address & on\\_chain\\_transaction\\_vol & unit\\_computing\\_income & daily\\_block\\_reward & block\\_gen\\_rate & price & ⋯ & trade\\_vol\\_l & trade\\_vol\\_x & short & long & ethe\\_otc\\_premium & block\\_count & avg\\_computing\\_power & transaction\\_vol & supply & reddit\\_follower\\_growth\\_rate\\\\\n",
       "  & <dbl> & <dbl> & <dbl> & <dbl> & <dbl> & <dbl> & <dbl> & <dbl> & <dbl> & <dbl> & ⋯ & <dbl> & <dbl> & <dbl> & <dbl> & <dbl> & <dbl> & <dbl> & <dbl> & <dbl> & <dbl>\\\\\n",
       "\\hline\n",
       "\t2 & 0.01521965 & -0.08502187 &  0.0006735777 & -6.850295e-05 &  0.03071421 & -0.9781877 & -0.02538071 & -0.02507922 & 0.00000000 & -0.015185498 & ⋯ & NaN & NaN & -0.1029001 & -0.1978199 & -0.161579 & -0.0003101737 & -0.0006277275 & -0.0244395562 & 0.0001187429 & 0.14938499\\\\\n",
       "\t3 & 0.01016766 &  0.03211535 & -0.0081798461 &  0.000000e+00 & -0.05528814 & -0.5447362 & -0.01546392 & -0.03560211 & 0.01470588 & -0.009997672 & ⋯ & NaN & NaN & -0.6265629 & -0.5729210 &  0.000000 & -0.0130400628 & -0.0200686305 & -0.0002123493 & 0.0001172044 & 0.02700242\\\\\n",
       "\\end{tabular}\n"
      ],
      "text/markdown": [
       "\n",
       "A data.frame: 2 × 46\n",
       "\n",
       "| <!--/--> | reddit_index &lt;dbl&gt; | block_size &lt;dbl&gt; | mining_difficulty &lt;dbl&gt; | ethe_open_interest &lt;dbl&gt; | activate_address &lt;dbl&gt; | on_chain_transaction_vol &lt;dbl&gt; | unit_computing_income &lt;dbl&gt; | daily_block_reward &lt;dbl&gt; | block_gen_rate &lt;dbl&gt; | price &lt;dbl&gt; | ⋯ ⋯ | trade_vol_l &lt;dbl&gt; | trade_vol_x &lt;dbl&gt; | short &lt;dbl&gt; | long &lt;dbl&gt; | ethe_otc_premium &lt;dbl&gt; | block_count &lt;dbl&gt; | avg_computing_power &lt;dbl&gt; | transaction_vol &lt;dbl&gt; | supply &lt;dbl&gt; | reddit_follower_growth_rate &lt;dbl&gt; |\n",
       "|---|---|---|---|---|---|---|---|---|---|---|---|---|---|---|---|---|---|---|---|---|---|\n",
       "| 2 | 0.01521965 | -0.08502187 |  0.0006735777 | -6.850295e-05 |  0.03071421 | -0.9781877 | -0.02538071 | -0.02507922 | 0.00000000 | -0.015185498 | ⋯ | NaN | NaN | -0.1029001 | -0.1978199 | -0.161579 | -0.0003101737 | -0.0006277275 | -0.0244395562 | 0.0001187429 | 0.14938499 |\n",
       "| 3 | 0.01016766 |  0.03211535 | -0.0081798461 |  0.000000e+00 | -0.05528814 | -0.5447362 | -0.01546392 | -0.03560211 | 0.01470588 | -0.009997672 | ⋯ | NaN | NaN | -0.6265629 | -0.5729210 |  0.000000 | -0.0130400628 | -0.0200686305 | -0.0002123493 | 0.0001172044 | 0.02700242 |\n",
       "\n"
      ],
      "text/plain": [
       "  reddit_index block_size  mining_difficulty ethe_open_interest\n",
       "2 0.01521965   -0.08502187  0.0006735777     -6.850295e-05     \n",
       "3 0.01016766    0.03211535 -0.0081798461      0.000000e+00     \n",
       "  activate_address on_chain_transaction_vol unit_computing_income\n",
       "2  0.03071421      -0.9781877               -0.02538071          \n",
       "3 -0.05528814      -0.5447362               -0.01546392          \n",
       "  daily_block_reward block_gen_rate price        ⋯ trade_vol_l trade_vol_x\n",
       "2 -0.02507922        0.00000000     -0.015185498 ⋯ NaN         NaN        \n",
       "3 -0.03560211        0.01470588     -0.009997672 ⋯ NaN         NaN        \n",
       "  short      long       ethe_otc_premium block_count   avg_computing_power\n",
       "2 -0.1029001 -0.1978199 -0.161579        -0.0003101737 -0.0006277275      \n",
       "3 -0.6265629 -0.5729210  0.000000        -0.0130400628 -0.0200686305      \n",
       "  transaction_vol supply       reddit_follower_growth_rate\n",
       "2 -0.0244395562   0.0001187429 0.14938499                 \n",
       "3 -0.0002123493   0.0001172044 0.02700242                 "
      ]
     },
     "metadata": {},
     "output_type": "display_data"
    },
    {
     "data": {
      "text/html": [
       "<table class=\"dataframe\">\n",
       "<caption>A data.frame: 2 × 46</caption>\n",
       "<thead>\n",
       "\t<tr><th></th><th scope=col>reddit_index</th><th scope=col>block_size</th><th scope=col>mining_difficulty</th><th scope=col>ethe_open_interest</th><th scope=col>activate_address</th><th scope=col>on_chain_transaction_vol</th><th scope=col>unit_computing_income</th><th scope=col>daily_block_reward</th><th scope=col>block_gen_rate</th><th scope=col>price</th><th scope=col>⋯</th><th scope=col>trade_vol_l</th><th scope=col>trade_vol_x</th><th scope=col>short</th><th scope=col>long</th><th scope=col>ethe_otc_premium</th><th scope=col>block_count</th><th scope=col>avg_computing_power</th><th scope=col>transaction_vol</th><th scope=col>supply</th><th scope=col>reddit_follower_growth_rate</th></tr>\n",
       "\t<tr><th></th><th scope=col>&lt;dbl&gt;</th><th scope=col>&lt;dbl&gt;</th><th scope=col>&lt;dbl&gt;</th><th scope=col>&lt;dbl&gt;</th><th scope=col>&lt;dbl&gt;</th><th scope=col>&lt;dbl&gt;</th><th scope=col>&lt;dbl&gt;</th><th scope=col>&lt;dbl&gt;</th><th scope=col>&lt;dbl&gt;</th><th scope=col>&lt;dbl&gt;</th><th scope=col>⋯</th><th scope=col>&lt;dbl&gt;</th><th scope=col>&lt;dbl&gt;</th><th scope=col>&lt;dbl&gt;</th><th scope=col>&lt;dbl&gt;</th><th scope=col>&lt;dbl&gt;</th><th scope=col>&lt;dbl&gt;</th><th scope=col>&lt;dbl&gt;</th><th scope=col>&lt;dbl&gt;</th><th scope=col>&lt;dbl&gt;</th><th scope=col>&lt;dbl&gt;</th></tr>\n",
       "</thead>\n",
       "<tbody>\n",
       "\t<tr><th scope=row>483</th><td>-0.06876724</td><td>-0.05134246</td><td>0.006142519</td><td>-6.841729e-05</td><td> 0.01639642</td><td> 0.3928916</td><td> 0.03263403</td><td>0.05870187</td><td>0.007352941</td><td> 0.06530376</td><td>⋯</td><td> 0.0933847</td><td> 0.4188637</td><td> 0.1735170</td><td> 0.1826353</td><td>0.2905577</td><td>-0.006281407</td><td>0.002719107</td><td>-0.03719548</td><td>0.0001107708</td><td> 0.1868931</td></tr>\n",
       "\t<tr><th scope=row>484</th><td> 0.03722240</td><td>-0.02751028</td><td>0.016937343</td><td> 0.000000e+00</td><td>-0.07874324</td><td>-1.2629118</td><td>-0.02754491</td><td>0.02555245</td><td>0.000000000</td><td>-0.03772092</td><td>⋯</td><td>-0.7524881</td><td>-2.6627385</td><td>-0.6743682</td><td>-0.7904594</td><td>0.0000000</td><td>-0.003624901</td><td>0.017942844</td><td>-0.05600629</td><td>0.0001103755</td><td>-0.1613631</td></tr>\n",
       "</tbody>\n",
       "</table>\n"
      ],
      "text/latex": [
       "A data.frame: 2 × 46\n",
       "\\begin{tabular}{r|lllllllllllllllllllll}\n",
       "  & reddit\\_index & block\\_size & mining\\_difficulty & ethe\\_open\\_interest & activate\\_address & on\\_chain\\_transaction\\_vol & unit\\_computing\\_income & daily\\_block\\_reward & block\\_gen\\_rate & price & ⋯ & trade\\_vol\\_l & trade\\_vol\\_x & short & long & ethe\\_otc\\_premium & block\\_count & avg\\_computing\\_power & transaction\\_vol & supply & reddit\\_follower\\_growth\\_rate\\\\\n",
       "  & <dbl> & <dbl> & <dbl> & <dbl> & <dbl> & <dbl> & <dbl> & <dbl> & <dbl> & <dbl> & ⋯ & <dbl> & <dbl> & <dbl> & <dbl> & <dbl> & <dbl> & <dbl> & <dbl> & <dbl> & <dbl>\\\\\n",
       "\\hline\n",
       "\t483 & -0.06876724 & -0.05134246 & 0.006142519 & -6.841729e-05 &  0.01639642 &  0.3928916 &  0.03263403 & 0.05870187 & 0.007352941 &  0.06530376 & ⋯ &  0.0933847 &  0.4188637 &  0.1735170 &  0.1826353 & 0.2905577 & -0.006281407 & 0.002719107 & -0.03719548 & 0.0001107708 &  0.1868931\\\\\n",
       "\t484 &  0.03722240 & -0.02751028 & 0.016937343 &  0.000000e+00 & -0.07874324 & -1.2629118 & -0.02754491 & 0.02555245 & 0.000000000 & -0.03772092 & ⋯ & -0.7524881 & -2.6627385 & -0.6743682 & -0.7904594 & 0.0000000 & -0.003624901 & 0.017942844 & -0.05600629 & 0.0001103755 & -0.1613631\\\\\n",
       "\\end{tabular}\n"
      ],
      "text/markdown": [
       "\n",
       "A data.frame: 2 × 46\n",
       "\n",
       "| <!--/--> | reddit_index &lt;dbl&gt; | block_size &lt;dbl&gt; | mining_difficulty &lt;dbl&gt; | ethe_open_interest &lt;dbl&gt; | activate_address &lt;dbl&gt; | on_chain_transaction_vol &lt;dbl&gt; | unit_computing_income &lt;dbl&gt; | daily_block_reward &lt;dbl&gt; | block_gen_rate &lt;dbl&gt; | price &lt;dbl&gt; | ⋯ ⋯ | trade_vol_l &lt;dbl&gt; | trade_vol_x &lt;dbl&gt; | short &lt;dbl&gt; | long &lt;dbl&gt; | ethe_otc_premium &lt;dbl&gt; | block_count &lt;dbl&gt; | avg_computing_power &lt;dbl&gt; | transaction_vol &lt;dbl&gt; | supply &lt;dbl&gt; | reddit_follower_growth_rate &lt;dbl&gt; |\n",
       "|---|---|---|---|---|---|---|---|---|---|---|---|---|---|---|---|---|---|---|---|---|---|\n",
       "| 483 | -0.06876724 | -0.05134246 | 0.006142519 | -6.841729e-05 |  0.01639642 |  0.3928916 |  0.03263403 | 0.05870187 | 0.007352941 |  0.06530376 | ⋯ |  0.0933847 |  0.4188637 |  0.1735170 |  0.1826353 | 0.2905577 | -0.006281407 | 0.002719107 | -0.03719548 | 0.0001107708 |  0.1868931 |\n",
       "| 484 |  0.03722240 | -0.02751028 | 0.016937343 |  0.000000e+00 | -0.07874324 | -1.2629118 | -0.02754491 | 0.02555245 | 0.000000000 | -0.03772092 | ⋯ | -0.7524881 | -2.6627385 | -0.6743682 | -0.7904594 | 0.0000000 | -0.003624901 | 0.017942844 | -0.05600629 | 0.0001103755 | -0.1613631 |\n",
       "\n"
      ],
      "text/plain": [
       "    reddit_index block_size  mining_difficulty ethe_open_interest\n",
       "483 -0.06876724  -0.05134246 0.006142519       -6.841729e-05     \n",
       "484  0.03722240  -0.02751028 0.016937343        0.000000e+00     \n",
       "    activate_address on_chain_transaction_vol unit_computing_income\n",
       "483  0.01639642       0.3928916                0.03263403          \n",
       "484 -0.07874324      -1.2629118               -0.02754491          \n",
       "    daily_block_reward block_gen_rate price       ⋯ trade_vol_l trade_vol_x\n",
       "483 0.05870187         0.007352941     0.06530376 ⋯  0.0933847   0.4188637 \n",
       "484 0.02555245         0.000000000    -0.03772092 ⋯ -0.7524881  -2.6627385 \n",
       "    short      long       ethe_otc_premium block_count  avg_computing_power\n",
       "483  0.1735170  0.1826353 0.2905577        -0.006281407 0.002719107        \n",
       "484 -0.6743682 -0.7904594 0.0000000        -0.003624901 0.017942844        \n",
       "    transaction_vol supply       reddit_follower_growth_rate\n",
       "483 -0.03719548     0.0001107708  0.1868931                 \n",
       "484 -0.05600629     0.0001103755 -0.1613631                 "
      ]
     },
     "metadata": {},
     "output_type": "display_data"
    }
   ],
   "source": [
    "eth_selected <- eth_raw %>% select(-date)\n",
    "\n",
    "eth_shift1 <- eth_selected %>% head(nrow(eth_raw) - 1)\n",
    "eth_shift1 <- rbind(rep(0, ncol(eth_shift1)), eth_shift1)\n",
    "head(eth_shift1)\n",
    "head(eth_selected)\n",
    "\n",
    "nrow(eth_shift1)\n",
    "\n",
    "eth <- ((eth_selected - eth_shift1) / eth_selected) %>% tail(nrow(eth_selected) - 1)\n",
    "\n",
    "head(eth, 2)\n",
    "tail(eth, 2)"
   ]
  },
  {
   "cell_type": "markdown",
   "id": "a58ae295",
   "metadata": {},
   "source": [
    "Observe that there are many `NaN`s and infinity values in the ROC form of our dataset. One approach to encounter this problem is to use `na.omit()`. However, when we apply this method to the whole dataframe, only few valid rows are left."
   ]
  },
  {
   "cell_type": "code",
   "execution_count": 5,
   "id": "e0b5d042",
   "metadata": {},
   "outputs": [
    {
     "name": "stdout",
     "output_type": "stream",
     "text": [
      "Number of rows left after removing invalid values: 16"
     ]
    }
   ],
   "source": [
    "cat('Number of rows left after removing invalid values:', na.omit(eth) %>% nrow())"
   ]
  },
  {
   "cell_type": "markdown",
   "id": "af59e880",
   "metadata": {},
   "source": [
    "So we have to remove variables that constribute the most invalid values. A much more comprehensive dataset is produced after these columns are excluded, which is helpful for our further analysis."
   ]
  },
  {
   "cell_type": "code",
   "execution_count": 6,
   "id": "3c8fc225",
   "metadata": {},
   "outputs": [
    {
     "data": {
      "text/html": [
       "<table class=\"dataframe\">\n",
       "<caption>A data.frame: 2 × 42</caption>\n",
       "<thead>\n",
       "\t<tr><th></th><th scope=col>reddit_index</th><th scope=col>block_size</th><th scope=col>mining_difficulty</th><th scope=col>ethe_open_interest</th><th scope=col>activate_address</th><th scope=col>on_chain_transaction_vol</th><th scope=col>unit_computing_income</th><th scope=col>daily_block_reward</th><th scope=col>block_gen_rate</th><th scope=col>price</th><th scope=col>⋯</th><th scope=col>trade_vol_s</th><th scope=col>trade_vol_m</th><th scope=col>short</th><th scope=col>long</th><th scope=col>ethe_otc_premium</th><th scope=col>block_count</th><th scope=col>avg_computing_power</th><th scope=col>transaction_vol</th><th scope=col>supply</th><th scope=col>reddit_follower_growth_rate</th></tr>\n",
       "\t<tr><th></th><th scope=col>&lt;dbl&gt;</th><th scope=col>&lt;dbl&gt;</th><th scope=col>&lt;dbl&gt;</th><th scope=col>&lt;dbl&gt;</th><th scope=col>&lt;dbl&gt;</th><th scope=col>&lt;dbl&gt;</th><th scope=col>&lt;dbl&gt;</th><th scope=col>&lt;dbl&gt;</th><th scope=col>&lt;dbl&gt;</th><th scope=col>&lt;dbl&gt;</th><th scope=col>⋯</th><th scope=col>&lt;dbl&gt;</th><th scope=col>&lt;dbl&gt;</th><th scope=col>&lt;dbl&gt;</th><th scope=col>&lt;dbl&gt;</th><th scope=col>&lt;dbl&gt;</th><th scope=col>&lt;dbl&gt;</th><th scope=col>&lt;dbl&gt;</th><th scope=col>&lt;dbl&gt;</th><th scope=col>&lt;dbl&gt;</th><th scope=col>&lt;dbl&gt;</th></tr>\n",
       "</thead>\n",
       "<tbody>\n",
       "\t<tr><th scope=row>2</th><td>0.01521965</td><td>-0.08502187</td><td> 0.0006735777</td><td>-6.850295e-05</td><td> 0.03071421</td><td>-0.9781877</td><td>-0.02538071</td><td>-0.02507922</td><td>0.00000000</td><td>-0.015185498</td><td>⋯</td><td>-0.1482535</td><td>-0.1342297</td><td>-0.1029001</td><td>-0.1978199</td><td>-0.161579</td><td>-0.0003101737</td><td>-0.0006277275</td><td>-0.0244395562</td><td>0.0001187429</td><td>0.14938499</td></tr>\n",
       "\t<tr><th scope=row>3</th><td>0.01016766</td><td> 0.03211535</td><td>-0.0081798461</td><td> 0.000000e+00</td><td>-0.05528814</td><td>-0.5447362</td><td>-0.01546392</td><td>-0.03560211</td><td>0.01470588</td><td>-0.009997672</td><td>⋯</td><td>-0.5679118</td><td>-2.7410958</td><td>-0.6265629</td><td>-0.5729210</td><td> 0.000000</td><td>-0.0130400628</td><td>-0.0200686305</td><td>-0.0002123493</td><td>0.0001172044</td><td>0.02700242</td></tr>\n",
       "</tbody>\n",
       "</table>\n"
      ],
      "text/latex": [
       "A data.frame: 2 × 42\n",
       "\\begin{tabular}{r|lllllllllllllllllllll}\n",
       "  & reddit\\_index & block\\_size & mining\\_difficulty & ethe\\_open\\_interest & activate\\_address & on\\_chain\\_transaction\\_vol & unit\\_computing\\_income & daily\\_block\\_reward & block\\_gen\\_rate & price & ⋯ & trade\\_vol\\_s & trade\\_vol\\_m & short & long & ethe\\_otc\\_premium & block\\_count & avg\\_computing\\_power & transaction\\_vol & supply & reddit\\_follower\\_growth\\_rate\\\\\n",
       "  & <dbl> & <dbl> & <dbl> & <dbl> & <dbl> & <dbl> & <dbl> & <dbl> & <dbl> & <dbl> & ⋯ & <dbl> & <dbl> & <dbl> & <dbl> & <dbl> & <dbl> & <dbl> & <dbl> & <dbl> & <dbl>\\\\\n",
       "\\hline\n",
       "\t2 & 0.01521965 & -0.08502187 &  0.0006735777 & -6.850295e-05 &  0.03071421 & -0.9781877 & -0.02538071 & -0.02507922 & 0.00000000 & -0.015185498 & ⋯ & -0.1482535 & -0.1342297 & -0.1029001 & -0.1978199 & -0.161579 & -0.0003101737 & -0.0006277275 & -0.0244395562 & 0.0001187429 & 0.14938499\\\\\n",
       "\t3 & 0.01016766 &  0.03211535 & -0.0081798461 &  0.000000e+00 & -0.05528814 & -0.5447362 & -0.01546392 & -0.03560211 & 0.01470588 & -0.009997672 & ⋯ & -0.5679118 & -2.7410958 & -0.6265629 & -0.5729210 &  0.000000 & -0.0130400628 & -0.0200686305 & -0.0002123493 & 0.0001172044 & 0.02700242\\\\\n",
       "\\end{tabular}\n"
      ],
      "text/markdown": [
       "\n",
       "A data.frame: 2 × 42\n",
       "\n",
       "| <!--/--> | reddit_index &lt;dbl&gt; | block_size &lt;dbl&gt; | mining_difficulty &lt;dbl&gt; | ethe_open_interest &lt;dbl&gt; | activate_address &lt;dbl&gt; | on_chain_transaction_vol &lt;dbl&gt; | unit_computing_income &lt;dbl&gt; | daily_block_reward &lt;dbl&gt; | block_gen_rate &lt;dbl&gt; | price &lt;dbl&gt; | ⋯ ⋯ | trade_vol_s &lt;dbl&gt; | trade_vol_m &lt;dbl&gt; | short &lt;dbl&gt; | long &lt;dbl&gt; | ethe_otc_premium &lt;dbl&gt; | block_count &lt;dbl&gt; | avg_computing_power &lt;dbl&gt; | transaction_vol &lt;dbl&gt; | supply &lt;dbl&gt; | reddit_follower_growth_rate &lt;dbl&gt; |\n",
       "|---|---|---|---|---|---|---|---|---|---|---|---|---|---|---|---|---|---|---|---|---|---|\n",
       "| 2 | 0.01521965 | -0.08502187 |  0.0006735777 | -6.850295e-05 |  0.03071421 | -0.9781877 | -0.02538071 | -0.02507922 | 0.00000000 | -0.015185498 | ⋯ | -0.1482535 | -0.1342297 | -0.1029001 | -0.1978199 | -0.161579 | -0.0003101737 | -0.0006277275 | -0.0244395562 | 0.0001187429 | 0.14938499 |\n",
       "| 3 | 0.01016766 |  0.03211535 | -0.0081798461 |  0.000000e+00 | -0.05528814 | -0.5447362 | -0.01546392 | -0.03560211 | 0.01470588 | -0.009997672 | ⋯ | -0.5679118 | -2.7410958 | -0.6265629 | -0.5729210 |  0.000000 | -0.0130400628 | -0.0200686305 | -0.0002123493 | 0.0001172044 | 0.02700242 |\n",
       "\n"
      ],
      "text/plain": [
       "  reddit_index block_size  mining_difficulty ethe_open_interest\n",
       "2 0.01521965   -0.08502187  0.0006735777     -6.850295e-05     \n",
       "3 0.01016766    0.03211535 -0.0081798461      0.000000e+00     \n",
       "  activate_address on_chain_transaction_vol unit_computing_income\n",
       "2  0.03071421      -0.9781877               -0.02538071          \n",
       "3 -0.05528814      -0.5447362               -0.01546392          \n",
       "  daily_block_reward block_gen_rate price        ⋯ trade_vol_s trade_vol_m\n",
       "2 -0.02507922        0.00000000     -0.015185498 ⋯ -0.1482535  -0.1342297 \n",
       "3 -0.03560211        0.01470588     -0.009997672 ⋯ -0.5679118  -2.7410958 \n",
       "  short      long       ethe_otc_premium block_count   avg_computing_power\n",
       "2 -0.1029001 -0.1978199 -0.161579        -0.0003101737 -0.0006277275      \n",
       "3 -0.6265629 -0.5729210  0.000000        -0.0130400628 -0.0200686305      \n",
       "  transaction_vol supply       reddit_follower_growth_rate\n",
       "2 -0.0244395562   0.0001187429 0.14938499                 \n",
       "3 -0.0002123493   0.0001172044 0.02700242                 "
      ]
     },
     "metadata": {},
     "output_type": "display_data"
    },
    {
     "data": {
      "text/html": [
       "<table class=\"dataframe\">\n",
       "<caption>A data.frame: 2 × 42</caption>\n",
       "<thead>\n",
       "\t<tr><th></th><th scope=col>reddit_index</th><th scope=col>block_size</th><th scope=col>mining_difficulty</th><th scope=col>ethe_open_interest</th><th scope=col>activate_address</th><th scope=col>on_chain_transaction_vol</th><th scope=col>unit_computing_income</th><th scope=col>daily_block_reward</th><th scope=col>block_gen_rate</th><th scope=col>price</th><th scope=col>⋯</th><th scope=col>trade_vol_s</th><th scope=col>trade_vol_m</th><th scope=col>short</th><th scope=col>long</th><th scope=col>ethe_otc_premium</th><th scope=col>block_count</th><th scope=col>avg_computing_power</th><th scope=col>transaction_vol</th><th scope=col>supply</th><th scope=col>reddit_follower_growth_rate</th></tr>\n",
       "\t<tr><th></th><th scope=col>&lt;dbl&gt;</th><th scope=col>&lt;dbl&gt;</th><th scope=col>&lt;dbl&gt;</th><th scope=col>&lt;dbl&gt;</th><th scope=col>&lt;dbl&gt;</th><th scope=col>&lt;dbl&gt;</th><th scope=col>&lt;dbl&gt;</th><th scope=col>&lt;dbl&gt;</th><th scope=col>&lt;dbl&gt;</th><th scope=col>&lt;dbl&gt;</th><th scope=col>⋯</th><th scope=col>&lt;dbl&gt;</th><th scope=col>&lt;dbl&gt;</th><th scope=col>&lt;dbl&gt;</th><th scope=col>&lt;dbl&gt;</th><th scope=col>&lt;dbl&gt;</th><th scope=col>&lt;dbl&gt;</th><th scope=col>&lt;dbl&gt;</th><th scope=col>&lt;dbl&gt;</th><th scope=col>&lt;dbl&gt;</th><th scope=col>&lt;dbl&gt;</th></tr>\n",
       "</thead>\n",
       "<tbody>\n",
       "\t<tr><th scope=row>483</th><td>-0.06876724</td><td>-0.05134246</td><td>0.006142519</td><td>-6.841729e-05</td><td> 0.01639642</td><td> 0.3928916</td><td> 0.03263403</td><td>0.05870187</td><td>0.007352941</td><td> 0.06530376</td><td>⋯</td><td> 0.2300769</td><td> 0.1415145</td><td> 0.1735170</td><td> 0.1826353</td><td>0.2905577</td><td>-0.006281407</td><td>0.002719107</td><td>-0.03719548</td><td>0.0001107708</td><td> 0.1868931</td></tr>\n",
       "\t<tr><th scope=row>484</th><td> 0.03722240</td><td>-0.02751028</td><td>0.016937343</td><td> 0.000000e+00</td><td>-0.07874324</td><td>-1.2629118</td><td>-0.02754491</td><td>0.02555245</td><td>0.000000000</td><td>-0.03772092</td><td>⋯</td><td>-0.7454120</td><td>-0.6954366</td><td>-0.6743682</td><td>-0.7904594</td><td>0.0000000</td><td>-0.003624901</td><td>0.017942844</td><td>-0.05600629</td><td>0.0001103755</td><td>-0.1613631</td></tr>\n",
       "</tbody>\n",
       "</table>\n"
      ],
      "text/latex": [
       "A data.frame: 2 × 42\n",
       "\\begin{tabular}{r|lllllllllllllllllllll}\n",
       "  & reddit\\_index & block\\_size & mining\\_difficulty & ethe\\_open\\_interest & activate\\_address & on\\_chain\\_transaction\\_vol & unit\\_computing\\_income & daily\\_block\\_reward & block\\_gen\\_rate & price & ⋯ & trade\\_vol\\_s & trade\\_vol\\_m & short & long & ethe\\_otc\\_premium & block\\_count & avg\\_computing\\_power & transaction\\_vol & supply & reddit\\_follower\\_growth\\_rate\\\\\n",
       "  & <dbl> & <dbl> & <dbl> & <dbl> & <dbl> & <dbl> & <dbl> & <dbl> & <dbl> & <dbl> & ⋯ & <dbl> & <dbl> & <dbl> & <dbl> & <dbl> & <dbl> & <dbl> & <dbl> & <dbl> & <dbl>\\\\\n",
       "\\hline\n",
       "\t483 & -0.06876724 & -0.05134246 & 0.006142519 & -6.841729e-05 &  0.01639642 &  0.3928916 &  0.03263403 & 0.05870187 & 0.007352941 &  0.06530376 & ⋯ &  0.2300769 &  0.1415145 &  0.1735170 &  0.1826353 & 0.2905577 & -0.006281407 & 0.002719107 & -0.03719548 & 0.0001107708 &  0.1868931\\\\\n",
       "\t484 &  0.03722240 & -0.02751028 & 0.016937343 &  0.000000e+00 & -0.07874324 & -1.2629118 & -0.02754491 & 0.02555245 & 0.000000000 & -0.03772092 & ⋯ & -0.7454120 & -0.6954366 & -0.6743682 & -0.7904594 & 0.0000000 & -0.003624901 & 0.017942844 & -0.05600629 & 0.0001103755 & -0.1613631\\\\\n",
       "\\end{tabular}\n"
      ],
      "text/markdown": [
       "\n",
       "A data.frame: 2 × 42\n",
       "\n",
       "| <!--/--> | reddit_index &lt;dbl&gt; | block_size &lt;dbl&gt; | mining_difficulty &lt;dbl&gt; | ethe_open_interest &lt;dbl&gt; | activate_address &lt;dbl&gt; | on_chain_transaction_vol &lt;dbl&gt; | unit_computing_income &lt;dbl&gt; | daily_block_reward &lt;dbl&gt; | block_gen_rate &lt;dbl&gt; | price &lt;dbl&gt; | ⋯ ⋯ | trade_vol_s &lt;dbl&gt; | trade_vol_m &lt;dbl&gt; | short &lt;dbl&gt; | long &lt;dbl&gt; | ethe_otc_premium &lt;dbl&gt; | block_count &lt;dbl&gt; | avg_computing_power &lt;dbl&gt; | transaction_vol &lt;dbl&gt; | supply &lt;dbl&gt; | reddit_follower_growth_rate &lt;dbl&gt; |\n",
       "|---|---|---|---|---|---|---|---|---|---|---|---|---|---|---|---|---|---|---|---|---|---|\n",
       "| 483 | -0.06876724 | -0.05134246 | 0.006142519 | -6.841729e-05 |  0.01639642 |  0.3928916 |  0.03263403 | 0.05870187 | 0.007352941 |  0.06530376 | ⋯ |  0.2300769 |  0.1415145 |  0.1735170 |  0.1826353 | 0.2905577 | -0.006281407 | 0.002719107 | -0.03719548 | 0.0001107708 |  0.1868931 |\n",
       "| 484 |  0.03722240 | -0.02751028 | 0.016937343 |  0.000000e+00 | -0.07874324 | -1.2629118 | -0.02754491 | 0.02555245 | 0.000000000 | -0.03772092 | ⋯ | -0.7454120 | -0.6954366 | -0.6743682 | -0.7904594 | 0.0000000 | -0.003624901 | 0.017942844 | -0.05600629 | 0.0001103755 | -0.1613631 |\n",
       "\n"
      ],
      "text/plain": [
       "    reddit_index block_size  mining_difficulty ethe_open_interest\n",
       "483 -0.06876724  -0.05134246 0.006142519       -6.841729e-05     \n",
       "484  0.03722240  -0.02751028 0.016937343        0.000000e+00     \n",
       "    activate_address on_chain_transaction_vol unit_computing_income\n",
       "483  0.01639642       0.3928916                0.03263403          \n",
       "484 -0.07874324      -1.2629118               -0.02754491          \n",
       "    daily_block_reward block_gen_rate price       ⋯ trade_vol_s trade_vol_m\n",
       "483 0.05870187         0.007352941     0.06530376 ⋯  0.2300769   0.1415145 \n",
       "484 0.02555245         0.000000000    -0.03772092 ⋯ -0.7454120  -0.6954366 \n",
       "    short      long       ethe_otc_premium block_count  avg_computing_power\n",
       "483  0.1735170  0.1826353 0.2905577        -0.006281407 0.002719107        \n",
       "484 -0.6743682 -0.7904594 0.0000000        -0.003624901 0.017942844        \n",
       "    transaction_vol supply       reddit_follower_growth_rate\n",
       "483 -0.03719548     0.0001107708  0.1868931                 \n",
       "484 -0.05600629     0.0001103755 -0.1613631                 "
      ]
     },
     "metadata": {},
     "output_type": "display_data"
    },
    {
     "name": "stdout",
     "output_type": "stream",
     "text": [
      "Number of rows left after removing invalid values: 432"
     ]
    }
   ],
   "source": [
    "eth <- eth %>% \n",
    "    select(-trade_vol_l, -trade_vol_x, -margin_call_l, -margin_call_x) %>%\n",
    "    na.omit()\n",
    "\n",
    "head(eth, 2)\n",
    "tail(eth, 2)\n",
    "cat('Number of rows left after removing invalid values:', eth %>% nrow())"
   ]
  },
  {
   "cell_type": "markdown",
   "id": "5458345d",
   "metadata": {},
   "source": [
    "Next, we can derive our target response: **return rate of the next day**, by moving our `price` column one unit upward. THis gives our new column `TARGET_return_nextday`."
   ]
  },
  {
   "cell_type": "code",
   "execution_count": 7,
   "id": "cf6a8292",
   "metadata": {},
   "outputs": [],
   "source": [
    "# switch the next-day price as the response variable of the same-day variables\n",
    "price_temp = pull(eth, price)\n",
    "\n",
    "# we delete the first row of target because we don't have the explanatory variables from previous day\n",
    "TARGET_return_nextday <- price_temp[-1]\n",
    "\n",
    "# we delete the last row because we don't have the actual target variable of the latest day, we'll have to wait till monday!\n",
    "eth_data <- eth[-length(price_temp),]"
   ]
  },
  {
   "cell_type": "code",
   "execution_count": 8,
   "id": "c8b7f176",
   "metadata": {},
   "outputs": [],
   "source": [
    "# merge the operation with original dataset\n",
    "eth_data <- cbind(eth_data, TARGET_return_nextday)"
   ]
  },
  {
   "cell_type": "code",
   "execution_count": 9,
   "id": "8c1d061b",
   "metadata": {},
   "outputs": [
    {
     "name": "stdout",
     "output_type": "stream",
     "text": [
      "Number of inputs: 42"
     ]
    }
   ],
   "source": [
    "cat('Number of inputs:', ncol(eth_data) - 1)"
   ]
  },
  {
   "cell_type": "markdown",
   "id": "d305629c",
   "metadata": {},
   "source": [
    "We now have:  \n",
    "- `TARGET_return_nextday` as our **response variable**, and 45 variables as inputs to choose from."
   ]
  },
  {
   "cell_type": "markdown",
   "id": "599ba09d",
   "metadata": {},
   "source": [
    "## Method\n",
    "---"
   ]
  },
  {
   "cell_type": "markdown",
   "id": "92f8a9eb",
   "metadata": {},
   "source": [
    "### Association between explanotory variables and response\n",
    "To assure the viability of this model, we want to check that the collected data of the previous day are indeed associated with our targeted response, to do that, we first use`cor()` to test the correlation between our explanotory variables and response.\n",
    "> Also notice: right now `TARGET_return_nextday` is also in the correlation chart, we need to get rid of that since it's the response we're looking for."
   ]
  },
  {
   "cell_type": "code",
   "execution_count": 10,
   "id": "f3ac6b46",
   "metadata": {},
   "outputs": [
    {
     "data": {
      "text/html": [
       "<table class=\"dataframe\">\n",
       "<caption>A data.frame: 6 × 1</caption>\n",
       "<thead>\n",
       "\t<tr><th></th><th scope=col>correlation</th></tr>\n",
       "\t<tr><th></th><th scope=col>&lt;dbl&gt;</th></tr>\n",
       "</thead>\n",
       "<tbody>\n",
       "\t<tr><th scope=row>block_size</th><td>0.009426553</td></tr>\n",
       "\t<tr><th scope=row>mining_difficulty</th><td>0.020474357</td></tr>\n",
       "\t<tr><th scope=row>ethe_open_interest</th><td>0.027616354</td></tr>\n",
       "\t<tr><th scope=row>activate_address</th><td>0.089193471</td></tr>\n",
       "\t<tr><th scope=row>on_chain_transaction_vol</th><td>0.064301913</td></tr>\n",
       "\t<tr><th scope=row>unit_computing_income</th><td>0.107016304</td></tr>\n",
       "</tbody>\n",
       "</table>\n"
      ],
      "text/latex": [
       "A data.frame: 6 × 1\n",
       "\\begin{tabular}{r|l}\n",
       "  & correlation\\\\\n",
       "  & <dbl>\\\\\n",
       "\\hline\n",
       "\tblock\\_size & 0.009426553\\\\\n",
       "\tmining\\_difficulty & 0.020474357\\\\\n",
       "\tethe\\_open\\_interest & 0.027616354\\\\\n",
       "\tactivate\\_address & 0.089193471\\\\\n",
       "\ton\\_chain\\_transaction\\_vol & 0.064301913\\\\\n",
       "\tunit\\_computing\\_income & 0.107016304\\\\\n",
       "\\end{tabular}\n"
      ],
      "text/markdown": [
       "\n",
       "A data.frame: 6 × 1\n",
       "\n",
       "| <!--/--> | correlation &lt;dbl&gt; |\n",
       "|---|---|\n",
       "| block_size | 0.009426553 |\n",
       "| mining_difficulty | 0.020474357 |\n",
       "| ethe_open_interest | 0.027616354 |\n",
       "| activate_address | 0.089193471 |\n",
       "| on_chain_transaction_vol | 0.064301913 |\n",
       "| unit_computing_income | 0.107016304 |\n",
       "\n"
      ],
      "text/plain": [
       "                         correlation\n",
       "block_size               0.009426553\n",
       "mining_difficulty        0.020474357\n",
       "ethe_open_interest       0.027616354\n",
       "activate_address         0.089193471\n",
       "on_chain_transaction_vol 0.064301913\n",
       "unit_computing_income    0.107016304"
      ]
     },
     "metadata": {},
     "output_type": "display_data"
    },
    {
     "data": {
      "text/html": [
       "<table class=\"dataframe\">\n",
       "<caption>A data.frame: 3 × 1</caption>\n",
       "<thead>\n",
       "\t<tr><th></th><th scope=col>correlation</th></tr>\n",
       "\t<tr><th></th><th scope=col>&lt;dbl&gt;</th></tr>\n",
       "</thead>\n",
       "<tbody>\n",
       "\t<tr><th scope=row>daily_uncle_block_reward</th><td>0.1095453</td></tr>\n",
       "\t<tr><th scope=row>daily_block_reward</th><td>0.1087825</td></tr>\n",
       "\t<tr><th scope=row>unit_computing_income</th><td>0.1070163</td></tr>\n",
       "</tbody>\n",
       "</table>\n"
      ],
      "text/latex": [
       "A data.frame: 3 × 1\n",
       "\\begin{tabular}{r|l}\n",
       "  & correlation\\\\\n",
       "  & <dbl>\\\\\n",
       "\\hline\n",
       "\tdaily\\_uncle\\_block\\_reward & 0.1095453\\\\\n",
       "\tdaily\\_block\\_reward & 0.1087825\\\\\n",
       "\tunit\\_computing\\_income & 0.1070163\\\\\n",
       "\\end{tabular}\n"
      ],
      "text/markdown": [
       "\n",
       "A data.frame: 3 × 1\n",
       "\n",
       "| <!--/--> | correlation &lt;dbl&gt; |\n",
       "|---|---|\n",
       "| daily_uncle_block_reward | 0.1095453 |\n",
       "| daily_block_reward | 0.1087825 |\n",
       "| unit_computing_income | 0.1070163 |\n",
       "\n"
      ],
      "text/plain": [
       "                         correlation\n",
       "daily_uncle_block_reward 0.1095453  \n",
       "daily_block_reward       0.1087825  \n",
       "unit_computing_income    0.1070163  "
      ]
     },
     "metadata": {},
     "output_type": "display_data"
    },
    {
     "data": {
      "text/html": [
       "<table class=\"dataframe\">\n",
       "<caption>A data.frame: 3 × 1</caption>\n",
       "<thead>\n",
       "\t<tr><th></th><th scope=col>correlation</th></tr>\n",
       "\t<tr><th></th><th scope=col>&lt;dbl&gt;</th></tr>\n",
       "</thead>\n",
       "<tbody>\n",
       "\t<tr><th scope=row>short_margin_call</th><td>-0.05742979</td></tr>\n",
       "\t<tr><th scope=row>margin_call_s</th><td>-0.07857461</td></tr>\n",
       "\t<tr><th scope=row>long_margin_call</th><td>-0.08473308</td></tr>\n",
       "</tbody>\n",
       "</table>\n"
      ],
      "text/latex": [
       "A data.frame: 3 × 1\n",
       "\\begin{tabular}{r|l}\n",
       "  & correlation\\\\\n",
       "  & <dbl>\\\\\n",
       "\\hline\n",
       "\tshort\\_margin\\_call & -0.05742979\\\\\n",
       "\tmargin\\_call\\_s & -0.07857461\\\\\n",
       "\tlong\\_margin\\_call & -0.08473308\\\\\n",
       "\\end{tabular}\n"
      ],
      "text/markdown": [
       "\n",
       "A data.frame: 3 × 1\n",
       "\n",
       "| <!--/--> | correlation &lt;dbl&gt; |\n",
       "|---|---|\n",
       "| short_margin_call | -0.05742979 |\n",
       "| margin_call_s | -0.07857461 |\n",
       "| long_margin_call | -0.08473308 |\n",
       "\n"
      ],
      "text/plain": [
       "                  correlation\n",
       "short_margin_call -0.05742979\n",
       "margin_call_s     -0.07857461\n",
       "long_margin_call  -0.08473308"
      ]
     },
     "metadata": {},
     "output_type": "display_data"
    }
   ],
   "source": [
    "# create correlation chart \n",
    "eth_target_cor_chart <- data.frame(cor(eth_data[-1])) %>%\n",
    "    select(TARGET_return_nextday)\n",
    "\n",
    "# order the rows by correlation\n",
    "colnames(eth_target_cor_chart) <- c('correlation')\n",
    "head(eth_target_cor_chart)\n",
    "correlation_data <- \n",
    "    eth_target_cor_chart %>% \n",
    "    arrange(desc(correlation)) %>% \n",
    "    filter(correlation != 1)\n",
    "\n",
    "\n",
    "head(correlation_data, 3)\n",
    "tail(correlation_data, 3)"
   ]
  },
  {
   "cell_type": "code",
   "execution_count": 11,
   "id": "7895e7b6",
   "metadata": {},
   "outputs": [
    {
     "data": {
      "image/png": "[encoded data removed]",
      "text/plain": [
       "plot without title"
      ]
     },
     "metadata": {
      "image/png": {
       "height": 420,
       "width": 420
      }
     },
     "output_type": "display_data"
    }
   ],
   "source": [
    "# visualize correlation of inputs with the next-day price\n",
    "eth_cor_histogram <- \n",
    "    correlation_data %>%\n",
    "    ggplot(aes(x=correlation)) +\n",
    "    geom_dotplot(binwidth=1/10, color='white')  +\n",
    "    geom_rect(aes(xmin=-1, xmax=-0.7, ymin=0, ymax=1), fill='red', alpha=0.01) +\n",
    "    geom_rect(aes(xmin=0.7, xmax=1, ymin=0, ymax=1), fill='blue', alpha=0.01) +\n",
    "    geom_text(x=-0.85, y=0.8, label='corr < -0.75', size=7) +\n",
    "    geom_text(x=0.85, y=0.8, label='corr > 0.75', size=7) +\n",
    "    labs(x='Correlation', y='Density', title='Distribution of correlation of inputs') +\n",
    "    theme(\n",
    "        text = element_text(size = 16.5),\n",
    "        plot.title = element_text(face = \"bold\"),\n",
    "        axis.title = element_text(face = \"bold\"))\n",
    "\n",
    "eth_cor_histogram"
   ]
  },
  {
   "cell_type": "markdown",
   "id": "d9e0c118",
   "metadata": {},
   "source": [
    "Although there's no absolute standard, a correlation $corr>0.75$ or $corr<-0.75$ is usually considered strong. Unfortunately most of our input variables has low correlation level with the response. \n",
    "> Consider the price prediction for cryptocurrency being a million-dollar project, nice-and-easy predictors that are strongly correlated to the change in price would have never existed. "
   ]
  },
  {
   "cell_type": "code",
   "execution_count": 12,
   "id": "cfdfe62c",
   "metadata": {},
   "outputs": [
    {
     "name": "stderr",
     "output_type": "stream",
     "text": [
      "`geom_smooth()` using formula 'y ~ x'\n",
      "\n"
     ]
    },
    {
     "data": {
      "image/png": "[encoded data removed]",
      "text/plain": [
       "plot without title"
      ]
     },
     "metadata": {
      "image/png": {
       "height": 360,
       "width": 600
      }
     },
     "output_type": "display_data"
    }
   ],
   "source": [
    "options(repr.plot.width = 10, repr.plot.height = 6)\n",
    "\n",
    "eth_sample_plot<- eth_data %>%\n",
    "    ggplot(aes(x = open_interest, y = price))+\n",
    "    geom_point()+\n",
    "    geom_smooth(aes(x = open_interest, y = price),method = \"lm\")+\n",
    "    xlab(\"Open interest\") +\n",
    "    ylab(\"Price ROC\") +\n",
    "    ggtitle(\"Sample Scatterplot and Estimated SLR with open interest\") +\n",
    "    theme(\n",
    "        text = element_text(size = 16.5),\n",
    "        plot.title = element_text(face = \"bold\"),\n",
    "        axis.title = element_text(face = \"bold\")\n",
    "    )\n",
    "\n",
    "eth_sample_plot"
   ]
  },
  {
   "cell_type": "markdown",
   "id": "cb9d1454",
   "metadata": {},
   "source": [
    "Our plot seems promising already with only one variable. However, notice that as we're targeting at price here, we'd want our prediction to have a relatively small confidence interval so that it wouldn't contain previous day's price too often (in that case our prediction of ETH's gain/loss rate would be inconclusive). That's why we still need to put more variables into consider when conducting the model.\n",
    "\n",
    "Below we include `business_vol` in addition to `open_interest` to construct a two-variable MLR model, as to check how that fits in a 3-dimension coordinate."
   ]
  },
  {
   "cell_type": "code",
   "execution_count": 13,
   "id": "ca891fc8",
   "metadata": {},
   "outputs": [
    {
     "data": {
      "text/html": [
       "<table class=\"dataframe\">\n",
       "<caption>A tibble: 3 × 7</caption>\n",
       "<thead>\n",
       "\t<tr><th scope=col>term</th><th scope=col>estimate</th><th scope=col>std.error</th><th scope=col>statistic</th><th scope=col>p.value</th><th scope=col>conf.low</th><th scope=col>conf.high</th></tr>\n",
       "\t<tr><th scope=col>&lt;chr&gt;</th><th scope=col>&lt;dbl&gt;</th><th scope=col>&lt;dbl&gt;</th><th scope=col>&lt;dbl&gt;</th><th scope=col>&lt;dbl&gt;</th><th scope=col>&lt;dbl&gt;</th><th scope=col>&lt;dbl&gt;</th></tr>\n",
       "</thead>\n",
       "<tbody>\n",
       "\t<tr><td>(Intercept)  </td><td> 0.00</td><td>0.00</td><td> 0.77</td><td>0.44</td><td> 0.00</td><td> 0.01</td></tr>\n",
       "\t<tr><td>business_vol </td><td>-0.03</td><td>0.01</td><td>-4.03</td><td>0.00</td><td>-0.04</td><td>-0.01</td></tr>\n",
       "\t<tr><td>open_interest</td><td> 0.18</td><td>0.03</td><td> 6.38</td><td>0.00</td><td> 0.13</td><td> 0.24</td></tr>\n",
       "</tbody>\n",
       "</table>\n"
      ],
      "text/latex": [
       "A tibble: 3 × 7\n",
       "\\begin{tabular}{lllllll}\n",
       " term & estimate & std.error & statistic & p.value & conf.low & conf.high\\\\\n",
       " <chr> & <dbl> & <dbl> & <dbl> & <dbl> & <dbl> & <dbl>\\\\\n",
       "\\hline\n",
       "\t (Intercept)   &  0.00 & 0.00 &  0.77 & 0.44 &  0.00 &  0.01\\\\\n",
       "\t business\\_vol  & -0.03 & 0.01 & -4.03 & 0.00 & -0.04 & -0.01\\\\\n",
       "\t open\\_interest &  0.18 & 0.03 &  6.38 & 0.00 &  0.13 &  0.24\\\\\n",
       "\\end{tabular}\n"
      ],
      "text/markdown": [
       "\n",
       "A tibble: 3 × 7\n",
       "\n",
       "| term &lt;chr&gt; | estimate &lt;dbl&gt; | std.error &lt;dbl&gt; | statistic &lt;dbl&gt; | p.value &lt;dbl&gt; | conf.low &lt;dbl&gt; | conf.high &lt;dbl&gt; |\n",
       "|---|---|---|---|---|---|---|\n",
       "| (Intercept)   |  0.00 | 0.00 |  0.77 | 0.44 |  0.00 |  0.01 |\n",
       "| business_vol  | -0.03 | 0.01 | -4.03 | 0.00 | -0.04 | -0.01 |\n",
       "| open_interest |  0.18 | 0.03 |  6.38 | 0.00 |  0.13 |  0.24 |\n",
       "\n"
      ],
      "text/plain": [
       "  term          estimate std.error statistic p.value conf.low conf.high\n",
       "1 (Intercept)    0.00    0.00       0.77     0.44     0.00     0.01    \n",
       "2 business_vol  -0.03    0.01      -4.03     0.00    -0.04    -0.01    \n",
       "3 open_interest  0.18    0.03       6.38     0.00     0.13     0.24    "
      ]
     },
     "metadata": {},
     "output_type": "display_data"
    }
   ],
   "source": [
    "# MLR model\n",
    "MLR_add_sample <- lm(price~business_vol+open_interest, data=eth_data)\n",
    "\n",
    "tidy(MLR_add_sample, conf.int=TRUE) %>% mutate_if(is.numeric, round, 2)"
   ]
  },
  {
   "cell_type": "code",
   "execution_count": 14,
   "id": "7c59156d",
   "metadata": {},
   "outputs": [],
   "source": [
    "# scatterplot\n",
    "# s3d <- scatterplot3d(x=eth_data$business_vol, y=eth_data$open_interest, z=eth_data$price, pch=19, type=\"p\", color=\"black\",\n",
    "#                      main=\"Sample 2-variable MLR addictive model\", grid = TRUE, box = FALSE,  \n",
    "#                      mar = c(2.5, 2.5, 2, 1.5), angle = 55, xlab='Business volume', ylab='Open interest', zlab='Price ROC')\n",
    "\n",
    "# s3d$plane3d(MLR_add_sample, draw_polygon = TRUE, draw_lines = TRUE, polygon_args = list(col = rgb(0.8,0.8,0.8,0.8)))"
   ]
  },
  {
   "cell_type": "markdown",
   "id": "f40ad1f9",
   "metadata": {},
   "source": [
    "Note that most observations lies under the regression plane. The inequal distribution of scatters possibly implies a non-linear association. Therefore, the MLR model we just constructed could be one approach of estimation, but may not be the best fit of our dataset. "
   ]
  },
  {
   "cell_type": "markdown",
   "id": "cd1ee320-fba0-4d68-923a-14818a604d82",
   "metadata": {},
   "source": [
    "### A. Model Building  \n",
    "    1. Full Addition Model  \n",
    "    2. Full Interaction Model  \n",
    "    3. Model using Backward Selection  \n",
    "    4. Model using Forward Selection  \n",
    "    5. Model using LASOO Selection  \n",
    "    6. Find the best models given by each selection method.\n"
   ]
  },
  {
   "cell_type": "code",
   "execution_count": 15,
   "id": "851d2dba-a671-4c0f-89ff-41840542ad1e",
   "metadata": {},
   "outputs": [
    {
     "name": "stdout",
     "output_type": "stream",
     "text": [
      "current eth_data has # 431 rows of data with NANow eth_data has # 386 rows of datawithout NA"
     ]
    }
   ],
   "source": [
    "nrow_before <- nrow(eth_data)\n",
    "cat(\"current eth_data has #\", nrow_before, \"rows of data with NA\")\n",
    "eth_data <- eth_data%>%na.omit(eth_data)\n",
    "eth_data <- eth_data[is.finite(rowSums(eth_data)),]\n",
    "nrow_after <- nrow(eth_data)\n",
    "cat(\"Now eth_data has #\", nrow_after, \"rows of datawithout NA\")"
   ]
  },
  {
   "cell_type": "code",
   "execution_count": 16,
   "id": "d8123f45-b638-4630-9e57-e79236977f0e",
   "metadata": {},
   "outputs": [],
   "source": [
    "set.seed(2022)"
   ]
  },
  {
   "cell_type": "code",
   "execution_count": 17,
   "id": "58d931ca-a89f-4a99-bb7f-6460e735cc83",
   "metadata": {},
   "outputs": [
    {
     "data": {
      "text/html": [
       "<table class=\"dataframe\">\n",
       "<caption>A data.frame: 1 × 44</caption>\n",
       "<thead>\n",
       "\t<tr><th></th><th scope=col>reddit_index</th><th scope=col>block_size</th><th scope=col>mining_difficulty</th><th scope=col>ethe_open_interest</th><th scope=col>activate_address</th><th scope=col>on_chain_transaction_vol</th><th scope=col>unit_computing_income</th><th scope=col>daily_block_reward</th><th scope=col>block_gen_rate</th><th scope=col>price</th><th scope=col>⋯</th><th scope=col>short</th><th scope=col>long</th><th scope=col>ethe_otc_premium</th><th scope=col>block_count</th><th scope=col>avg_computing_power</th><th scope=col>transaction_vol</th><th scope=col>supply</th><th scope=col>reddit_follower_growth_rate</th><th scope=col>TARGET_return_nextday</th><th scope=col>ID</th></tr>\n",
       "\t<tr><th></th><th scope=col>&lt;dbl&gt;</th><th scope=col>&lt;dbl&gt;</th><th scope=col>&lt;dbl&gt;</th><th scope=col>&lt;dbl&gt;</th><th scope=col>&lt;dbl&gt;</th><th scope=col>&lt;dbl&gt;</th><th scope=col>&lt;dbl&gt;</th><th scope=col>&lt;dbl&gt;</th><th scope=col>&lt;dbl&gt;</th><th scope=col>&lt;dbl&gt;</th><th scope=col>⋯</th><th scope=col>&lt;dbl&gt;</th><th scope=col>&lt;dbl&gt;</th><th scope=col>&lt;dbl&gt;</th><th scope=col>&lt;dbl&gt;</th><th scope=col>&lt;dbl&gt;</th><th scope=col>&lt;dbl&gt;</th><th scope=col>&lt;dbl&gt;</th><th scope=col>&lt;dbl&gt;</th><th scope=col>&lt;dbl&gt;</th><th scope=col>&lt;int&gt;</th></tr>\n",
       "</thead>\n",
       "<tbody>\n",
       "\t<tr><th scope=row>1</th><td>-0.006696704</td><td>-0.04477026</td><td>-0.01188615</td><td>-6.847448e-05</td><td>0.008491456</td><td>-0.3226862</td><td>-0.02727273</td><td>-0.1052808</td><td>0</td><td>0.01453557</td><td>⋯</td><td>-0.5256172</td><td>-0.5548008</td><td>9.638668</td><td>0.002147898</td><td>-0.007848086</td><td>-0.01201486</td><td>0.0001156277</td><td>0.3664589</td><td>0.06970112</td><td>228</td></tr>\n",
       "</tbody>\n",
       "</table>\n"
      ],
      "text/latex": [
       "A data.frame: 1 × 44\n",
       "\\begin{tabular}{r|lllllllllllllllllllll}\n",
       "  & reddit\\_index & block\\_size & mining\\_difficulty & ethe\\_open\\_interest & activate\\_address & on\\_chain\\_transaction\\_vol & unit\\_computing\\_income & daily\\_block\\_reward & block\\_gen\\_rate & price & ⋯ & short & long & ethe\\_otc\\_premium & block\\_count & avg\\_computing\\_power & transaction\\_vol & supply & reddit\\_follower\\_growth\\_rate & TARGET\\_return\\_nextday & ID\\\\\n",
       "  & <dbl> & <dbl> & <dbl> & <dbl> & <dbl> & <dbl> & <dbl> & <dbl> & <dbl> & <dbl> & ⋯ & <dbl> & <dbl> & <dbl> & <dbl> & <dbl> & <dbl> & <dbl> & <dbl> & <dbl> & <int>\\\\\n",
       "\\hline\n",
       "\t1 & -0.006696704 & -0.04477026 & -0.01188615 & -6.847448e-05 & 0.008491456 & -0.3226862 & -0.02727273 & -0.1052808 & 0 & 0.01453557 & ⋯ & -0.5256172 & -0.5548008 & 9.638668 & 0.002147898 & -0.007848086 & -0.01201486 & 0.0001156277 & 0.3664589 & 0.06970112 & 228\\\\\n",
       "\\end{tabular}\n"
      ],
      "text/markdown": [
       "\n",
       "A data.frame: 1 × 44\n",
       "\n",
       "| <!--/--> | reddit_index &lt;dbl&gt; | block_size &lt;dbl&gt; | mining_difficulty &lt;dbl&gt; | ethe_open_interest &lt;dbl&gt; | activate_address &lt;dbl&gt; | on_chain_transaction_vol &lt;dbl&gt; | unit_computing_income &lt;dbl&gt; | daily_block_reward &lt;dbl&gt; | block_gen_rate &lt;dbl&gt; | price &lt;dbl&gt; | ⋯ ⋯ | short &lt;dbl&gt; | long &lt;dbl&gt; | ethe_otc_premium &lt;dbl&gt; | block_count &lt;dbl&gt; | avg_computing_power &lt;dbl&gt; | transaction_vol &lt;dbl&gt; | supply &lt;dbl&gt; | reddit_follower_growth_rate &lt;dbl&gt; | TARGET_return_nextday &lt;dbl&gt; | ID &lt;int&gt; |\n",
       "|---|---|---|---|---|---|---|---|---|---|---|---|---|---|---|---|---|---|---|---|---|---|\n",
       "| 1 | -0.006696704 | -0.04477026 | -0.01188615 | -6.847448e-05 | 0.008491456 | -0.3226862 | -0.02727273 | -0.1052808 | 0 | 0.01453557 | ⋯ | -0.5256172 | -0.5548008 | 9.638668 | 0.002147898 | -0.007848086 | -0.01201486 | 0.0001156277 | 0.3664589 | 0.06970112 | 228 |\n",
       "\n"
      ],
      "text/plain": [
       "  reddit_index block_size  mining_difficulty ethe_open_interest\n",
       "1 -0.006696704 -0.04477026 -0.01188615       -6.847448e-05     \n",
       "  activate_address on_chain_transaction_vol unit_computing_income\n",
       "1 0.008491456      -0.3226862               -0.02727273          \n",
       "  daily_block_reward block_gen_rate price      ⋯ short      long      \n",
       "1 -0.1052808         0              0.01453557 ⋯ -0.5256172 -0.5548008\n",
       "  ethe_otc_premium block_count avg_computing_power transaction_vol supply      \n",
       "1 9.638668         0.002147898 -0.007848086        -0.01201486     0.0001156277\n",
       "  reddit_follower_growth_rate TARGET_return_nextday ID \n",
       "1 0.3664589                   0.06970112            228"
      ]
     },
     "metadata": {},
     "output_type": "display_data"
    },
    {
     "data": {
      "text/html": [
       "44"
      ],
      "text/latex": [
       "44"
      ],
      "text/markdown": [
       "44"
      ],
      "text/plain": [
       "[1] 44"
      ]
     },
     "metadata": {},
     "output_type": "display_data"
    },
    {
     "data": {
      "text/html": [
       "<table class=\"dataframe\">\n",
       "<caption>A data.frame: 1 × 44</caption>\n",
       "<thead>\n",
       "\t<tr><th></th><th scope=col>reddit_index</th><th scope=col>block_size</th><th scope=col>mining_difficulty</th><th scope=col>ethe_open_interest</th><th scope=col>activate_address</th><th scope=col>on_chain_transaction_vol</th><th scope=col>unit_computing_income</th><th scope=col>daily_block_reward</th><th scope=col>block_gen_rate</th><th scope=col>price</th><th scope=col>⋯</th><th scope=col>short</th><th scope=col>long</th><th scope=col>ethe_otc_premium</th><th scope=col>block_count</th><th scope=col>avg_computing_power</th><th scope=col>transaction_vol</th><th scope=col>supply</th><th scope=col>reddit_follower_growth_rate</th><th scope=col>TARGET_return_nextday</th><th scope=col>ID</th></tr>\n",
       "\t<tr><th></th><th scope=col>&lt;dbl&gt;</th><th scope=col>&lt;dbl&gt;</th><th scope=col>&lt;dbl&gt;</th><th scope=col>&lt;dbl&gt;</th><th scope=col>&lt;dbl&gt;</th><th scope=col>&lt;dbl&gt;</th><th scope=col>&lt;dbl&gt;</th><th scope=col>&lt;dbl&gt;</th><th scope=col>&lt;dbl&gt;</th><th scope=col>&lt;dbl&gt;</th><th scope=col>⋯</th><th scope=col>&lt;dbl&gt;</th><th scope=col>&lt;dbl&gt;</th><th scope=col>&lt;dbl&gt;</th><th scope=col>&lt;dbl&gt;</th><th scope=col>&lt;dbl&gt;</th><th scope=col>&lt;dbl&gt;</th><th scope=col>&lt;dbl&gt;</th><th scope=col>&lt;dbl&gt;</th><th scope=col>&lt;dbl&gt;</th><th scope=col>&lt;int&gt;</th></tr>\n",
       "</thead>\n",
       "<tbody>\n",
       "\t<tr><th scope=row>1</th><td>0.01016766</td><td>0.03211535</td><td>-0.008179846</td><td>0</td><td>-0.05528814</td><td>-0.5447362</td><td>-0.01546392</td><td>-0.03560211</td><td>0.01470588</td><td>-0.009997672</td><td>⋯</td><td>-0.6265629</td><td>-0.572921</td><td>0</td><td>-0.01304006</td><td>-0.02006863</td><td>-0.0002123493</td><td>0.0001172044</td><td>0.02700242</td><td>-0.01023666</td><td>2</td></tr>\n",
       "</tbody>\n",
       "</table>\n"
      ],
      "text/latex": [
       "A data.frame: 1 × 44\n",
       "\\begin{tabular}{r|lllllllllllllllllllll}\n",
       "  & reddit\\_index & block\\_size & mining\\_difficulty & ethe\\_open\\_interest & activate\\_address & on\\_chain\\_transaction\\_vol & unit\\_computing\\_income & daily\\_block\\_reward & block\\_gen\\_rate & price & ⋯ & short & long & ethe\\_otc\\_premium & block\\_count & avg\\_computing\\_power & transaction\\_vol & supply & reddit\\_follower\\_growth\\_rate & TARGET\\_return\\_nextday & ID\\\\\n",
       "  & <dbl> & <dbl> & <dbl> & <dbl> & <dbl> & <dbl> & <dbl> & <dbl> & <dbl> & <dbl> & ⋯ & <dbl> & <dbl> & <dbl> & <dbl> & <dbl> & <dbl> & <dbl> & <dbl> & <dbl> & <int>\\\\\n",
       "\\hline\n",
       "\t1 & 0.01016766 & 0.03211535 & -0.008179846 & 0 & -0.05528814 & -0.5447362 & -0.01546392 & -0.03560211 & 0.01470588 & -0.009997672 & ⋯ & -0.6265629 & -0.572921 & 0 & -0.01304006 & -0.02006863 & -0.0002123493 & 0.0001172044 & 0.02700242 & -0.01023666 & 2\\\\\n",
       "\\end{tabular}\n"
      ],
      "text/markdown": [
       "\n",
       "A data.frame: 1 × 44\n",
       "\n",
       "| <!--/--> | reddit_index &lt;dbl&gt; | block_size &lt;dbl&gt; | mining_difficulty &lt;dbl&gt; | ethe_open_interest &lt;dbl&gt; | activate_address &lt;dbl&gt; | on_chain_transaction_vol &lt;dbl&gt; | unit_computing_income &lt;dbl&gt; | daily_block_reward &lt;dbl&gt; | block_gen_rate &lt;dbl&gt; | price &lt;dbl&gt; | ⋯ ⋯ | short &lt;dbl&gt; | long &lt;dbl&gt; | ethe_otc_premium &lt;dbl&gt; | block_count &lt;dbl&gt; | avg_computing_power &lt;dbl&gt; | transaction_vol &lt;dbl&gt; | supply &lt;dbl&gt; | reddit_follower_growth_rate &lt;dbl&gt; | TARGET_return_nextday &lt;dbl&gt; | ID &lt;int&gt; |\n",
       "|---|---|---|---|---|---|---|---|---|---|---|---|---|---|---|---|---|---|---|---|---|---|\n",
       "| 1 | 0.01016766 | 0.03211535 | -0.008179846 | 0 | -0.05528814 | -0.5447362 | -0.01546392 | -0.03560211 | 0.01470588 | -0.009997672 | ⋯ | -0.6265629 | -0.572921 | 0 | -0.01304006 | -0.02006863 | -0.0002123493 | 0.0001172044 | 0.02700242 | -0.01023666 | 2 |\n",
       "\n"
      ],
      "text/plain": [
       "  reddit_index block_size mining_difficulty ethe_open_interest activate_address\n",
       "1 0.01016766   0.03211535 -0.008179846      0                  -0.05528814     \n",
       "  on_chain_transaction_vol unit_computing_income daily_block_reward\n",
       "1 -0.5447362               -0.01546392           -0.03560211       \n",
       "  block_gen_rate price        ⋯ short      long      ethe_otc_premium\n",
       "1 0.01470588     -0.009997672 ⋯ -0.6265629 -0.572921 0               \n",
       "  block_count avg_computing_power transaction_vol supply      \n",
       "1 -0.01304006 -0.02006863         -0.0002123493   0.0001172044\n",
       "  reddit_follower_growth_rate TARGET_return_nextday ID\n",
       "1 0.02700242                  -0.01023666           2 "
      ]
     },
     "metadata": {},
     "output_type": "display_data"
    },
    {
     "data": {
      "text/html": [
       "44"
      ],
      "text/latex": [
       "44"
      ],
      "text/markdown": [
       "44"
      ],
      "text/plain": [
       "[1] 44"
      ]
     },
     "metadata": {},
     "output_type": "display_data"
    }
   ],
   "source": [
    "eth_data$ID <- 1:nrow(eth_data)\n",
    "\n",
    "training_eth <- sample_n(eth_data, size = nrow(eth_data) * 0.75,\n",
    "  replace = FALSE\n",
    ")\n",
    "\n",
    "testing_eth <- anti_join(eth_data,\n",
    "  training_eth,\n",
    "  by = \"ID\"\n",
    ")\n",
    "\n",
    "head(training_eth,1)\n",
    "ncol(training_eth)\n",
    "head(testing_eth,1)\n",
    "ncol(testing_eth)\n",
    "training_eth <- training_eth[,-44]\n",
    "testing_eth <- testing_eth[,-44]"
   ]
  },
  {
   "cell_type": "code",
   "execution_count": 18,
   "id": "410d95be-a08b-4f76-8c61-ce2cfbfd4e86",
   "metadata": {},
   "outputs": [
    {
     "data": {
      "text/html": [
       "<table class=\"dataframe\">\n",
       "<caption>A tibble: 6 × 7</caption>\n",
       "<thead>\n",
       "\t<tr><th scope=col>term</th><th scope=col>estimate</th><th scope=col>std.error</th><th scope=col>statistic</th><th scope=col>p.value</th><th scope=col>conf.low</th><th scope=col>conf.high</th></tr>\n",
       "\t<tr><th scope=col>&lt;chr&gt;</th><th scope=col>&lt;dbl&gt;</th><th scope=col>&lt;dbl&gt;</th><th scope=col>&lt;dbl&gt;</th><th scope=col>&lt;dbl&gt;</th><th scope=col>&lt;dbl&gt;</th><th scope=col>&lt;dbl&gt;</th></tr>\n",
       "</thead>\n",
       "<tbody>\n",
       "\t<tr><td>(Intercept)       </td><td>-0.017378018</td><td>0.02658353</td><td>-0.65371363</td><td>0.5139069</td><td>-0.06973838</td><td>0.03498235</td></tr>\n",
       "\t<tr><td>reddit_index      </td><td>-0.196015493</td><td>0.14734548</td><td>-1.33031224</td><td>0.1846474</td><td>-0.48623513</td><td>0.09420414</td></tr>\n",
       "\t<tr><td>block_size        </td><td>-0.074827386</td><td>0.09224462</td><td>-0.81118433</td><td>0.4180440</td><td>-0.25651738</td><td>0.10686261</td></tr>\n",
       "\t<tr><td>mining_difficulty </td><td>-0.130332441</td><td>1.85704367</td><td>-0.07018276</td><td>0.9441052</td><td>-3.78806626</td><td>3.52740137</td></tr>\n",
       "\t<tr><td>ethe_open_interest</td><td> 1.318779948</td><td>1.14363081</td><td> 1.15315182</td><td>0.2499673</td><td>-0.93377725</td><td>3.57133714</td></tr>\n",
       "\t<tr><td>activate_address  </td><td> 0.003105469</td><td>0.05408114</td><td> 0.05742240</td><td>0.9542553</td><td>-0.10341567</td><td>0.10962661</td></tr>\n",
       "</tbody>\n",
       "</table>\n"
      ],
      "text/latex": [
       "A tibble: 6 × 7\n",
       "\\begin{tabular}{lllllll}\n",
       " term & estimate & std.error & statistic & p.value & conf.low & conf.high\\\\\n",
       " <chr> & <dbl> & <dbl> & <dbl> & <dbl> & <dbl> & <dbl>\\\\\n",
       "\\hline\n",
       "\t (Intercept)        & -0.017378018 & 0.02658353 & -0.65371363 & 0.5139069 & -0.06973838 & 0.03498235\\\\\n",
       "\t reddit\\_index       & -0.196015493 & 0.14734548 & -1.33031224 & 0.1846474 & -0.48623513 & 0.09420414\\\\\n",
       "\t block\\_size         & -0.074827386 & 0.09224462 & -0.81118433 & 0.4180440 & -0.25651738 & 0.10686261\\\\\n",
       "\t mining\\_difficulty  & -0.130332441 & 1.85704367 & -0.07018276 & 0.9441052 & -3.78806626 & 3.52740137\\\\\n",
       "\t ethe\\_open\\_interest &  1.318779948 & 1.14363081 &  1.15315182 & 0.2499673 & -0.93377725 & 3.57133714\\\\\n",
       "\t activate\\_address   &  0.003105469 & 0.05408114 &  0.05742240 & 0.9542553 & -0.10341567 & 0.10962661\\\\\n",
       "\\end{tabular}\n"
      ],
      "text/markdown": [
       "\n",
       "A tibble: 6 × 7\n",
       "\n",
       "| term &lt;chr&gt; | estimate &lt;dbl&gt; | std.error &lt;dbl&gt; | statistic &lt;dbl&gt; | p.value &lt;dbl&gt; | conf.low &lt;dbl&gt; | conf.high &lt;dbl&gt; |\n",
       "|---|---|---|---|---|---|---|\n",
       "| (Intercept)        | -0.017378018 | 0.02658353 | -0.65371363 | 0.5139069 | -0.06973838 | 0.03498235 |\n",
       "| reddit_index       | -0.196015493 | 0.14734548 | -1.33031224 | 0.1846474 | -0.48623513 | 0.09420414 |\n",
       "| block_size         | -0.074827386 | 0.09224462 | -0.81118433 | 0.4180440 | -0.25651738 | 0.10686261 |\n",
       "| mining_difficulty  | -0.130332441 | 1.85704367 | -0.07018276 | 0.9441052 | -3.78806626 | 3.52740137 |\n",
       "| ethe_open_interest |  1.318779948 | 1.14363081 |  1.15315182 | 0.2499673 | -0.93377725 | 3.57133714 |\n",
       "| activate_address   |  0.003105469 | 0.05408114 |  0.05742240 | 0.9542553 | -0.10341567 | 0.10962661 |\n",
       "\n"
      ],
      "text/plain": [
       "  term               estimate     std.error  statistic   p.value   conf.low   \n",
       "1 (Intercept)        -0.017378018 0.02658353 -0.65371363 0.5139069 -0.06973838\n",
       "2 reddit_index       -0.196015493 0.14734548 -1.33031224 0.1846474 -0.48623513\n",
       "3 block_size         -0.074827386 0.09224462 -0.81118433 0.4180440 -0.25651738\n",
       "4 mining_difficulty  -0.130332441 1.85704367 -0.07018276 0.9441052 -3.78806626\n",
       "5 ethe_open_interest  1.318779948 1.14363081  1.15315182 0.2499673 -0.93377725\n",
       "6 activate_address    0.003105469 0.05408114  0.05742240 0.9542553 -0.10341567\n",
       "  conf.high \n",
       "1 0.03498235\n",
       "2 0.09420414\n",
       "3 0.10686261\n",
       "4 3.52740137\n",
       "5 3.57133714\n",
       "6 0.10962661"
      ]
     },
     "metadata": {},
     "output_type": "display_data"
    },
    {
     "data": {
      "text/html": [
       "43"
      ],
      "text/latex": [
       "43"
      ],
      "text/markdown": [
       "43"
      ],
      "text/plain": [
       "[1] 43"
      ]
     },
     "metadata": {},
     "output_type": "display_data"
    }
   ],
   "source": [
    "#Full addition model\n",
    "MLR_FAM <- lm(TARGET_return_nextday~., data=training_eth)\n",
    "head(tidy(MLR_FAM, conf.int = TRUE))\n",
    "nrow(tidy(MLR_FAM))"
   ]
  },
  {
   "cell_type": "code",
   "execution_count": 19,
   "id": "c8c32637-b6a7-42eb-b77c-745380a642fa",
   "metadata": {},
   "outputs": [
    {
     "data": {
      "text/html": [
       "6"
      ],
      "text/latex": [
       "6"
      ],
      "text/markdown": [
       "6"
      ],
      "text/plain": [
       "[1] 6"
      ]
     },
     "metadata": {},
     "output_type": "display_data"
    }
   ],
   "source": [
    "#Forward Selection Model\n",
    "eth_MLR_forward_sel <- regsubsets(\n",
    "   x = TARGET_return_nextday~.,\n",
    "   data = training_eth, \n",
    "    nvmax = 47, \n",
    "    method = \"forward\",\n",
    " )\n",
    "\n",
    "fwd_summary <- summary(eth_MLR_forward_sel)\n",
    "\n",
    "#fwd_summary\n",
    "which.min(fwd_summary$cp )"
   ]
  },
  {
   "cell_type": "code",
   "execution_count": 20,
   "id": "00a24b70-2145-4603-b4d0-c47482eda7dd",
   "metadata": {},
   "outputs": [
    {
     "data": {
      "image/png": "[encoded data removed]",
      "text/plain": [
       "Plot with title “Forward Selection Cp vs. #variables”"
      ]
     },
     "metadata": {
      "image/png": {
       "height": 360,
       "width": 600
      }
     },
     "output_type": "display_data"
    }
   ],
   "source": [
    "plot(\n",
    "    fwd_summary$cp ,\n",
    "    xlab =\" Number of Variables \", \n",
    "    ylab =\" Cp\",\n",
    "    type=\"l\",\n",
    "    main = \"Forward Selection Cp vs. #variables\")\n",
    "points (8, fwd_summary$cp [8] , col =\"red\", cex =2, pch =20)"
   ]
  },
  {
   "cell_type": "code",
   "execution_count": 21,
   "id": "99440f95-12e1-438d-a3b4-e2f76f095710",
   "metadata": {},
   "outputs": [
    {
     "data": {
      "text/html": [
       "10"
      ],
      "text/latex": [
       "10"
      ],
      "text/markdown": [
       "10"
      ],
      "text/plain": [
       "[1] 10"
      ]
     },
     "metadata": {},
     "output_type": "display_data"
    },
    {
     "data": {
      "image/png": "[encoded data removed]",
      "text/plain": [
       "Plot with title “Backward Selection Cp vs. #variables”"
      ]
     },
     "metadata": {
      "image/png": {
       "height": 360,
       "width": 600
      }
     },
     "output_type": "display_data"
    }
   ],
   "source": [
    "#Backward Selection\n",
    "eth_MLR_backward_sel <- regsubsets(\n",
    "   x = TARGET_return_nextday~.,\n",
    "   data = training_eth, \n",
    "    nvmax = 49, \n",
    "    method = \"backward\",\n",
    " )\n",
    "\n",
    "bwd_summary <- summary(eth_MLR_backward_sel)\n",
    "\n",
    "plot(\n",
    "    bwd_summary$cp ,\n",
    "    xlab =\" Number of Variables \", \n",
    "    ylab =\" Cp\",\n",
    "    type=\"l\",\n",
    "    main = \"Backward Selection Cp vs. #variables\")\n",
    "points (10, bwd_summary$cp [10] , col =\"red\", cex =2, pch =20)\n",
    "\n",
    "which.min(bwd_summary$cp )"
   ]
  },
  {
   "cell_type": "code",
   "execution_count": 22,
   "id": "b3e9abc3-ecf5-4734-9f0b-f91c0915cccf",
   "metadata": {},
   "outputs": [
    {
     "data": {
      "text/html": [
       "<table class=\"dataframe\">\n",
       "<caption>A matrix: 1 × 43 of type dbl</caption>\n",
       "<thead>\n",
       "\t<tr><th></th><th scope=col>(Intercept)</th><th scope=col>reddit_index</th><th scope=col>block_size</th><th scope=col>mining_difficulty</th><th scope=col>ethe_open_interest</th><th scope=col>activate_address</th><th scope=col>on_chain_transaction_vol</th><th scope=col>unit_computing_income</th><th scope=col>daily_block_reward</th><th scope=col>block_gen_rate</th><th scope=col>⋯</th><th scope=col>trade_vol_s</th><th scope=col>trade_vol_m</th><th scope=col>short</th><th scope=col>long</th><th scope=col>ethe_otc_premium</th><th scope=col>block_count</th><th scope=col>avg_computing_power</th><th scope=col>transaction_vol</th><th scope=col>supply</th><th scope=col>reddit_follower_growth_rate</th></tr>\n",
       "</thead>\n",
       "<tbody>\n",
       "\t<tr><th scope=row>1</th><td>1</td><td>-0.006696704</td><td>-0.04477026</td><td>-0.01188615</td><td>-6.847448e-05</td><td>0.008491456</td><td>-0.3226862</td><td>-0.02727273</td><td>-0.1052808</td><td>0</td><td>⋯</td><td>-0.3995598</td><td>-0.631971</td><td>-0.5256172</td><td>-0.5548008</td><td>9.638668</td><td>0.002147898</td><td>-0.007848086</td><td>-0.01201486</td><td>0.0001156277</td><td>0.3664589</td></tr>\n",
       "</tbody>\n",
       "</table>\n"
      ],
      "text/latex": [
       "A matrix: 1 × 43 of type dbl\n",
       "\\begin{tabular}{r|lllllllllllllllllllll}\n",
       "  & (Intercept) & reddit\\_index & block\\_size & mining\\_difficulty & ethe\\_open\\_interest & activate\\_address & on\\_chain\\_transaction\\_vol & unit\\_computing\\_income & daily\\_block\\_reward & block\\_gen\\_rate & ⋯ & trade\\_vol\\_s & trade\\_vol\\_m & short & long & ethe\\_otc\\_premium & block\\_count & avg\\_computing\\_power & transaction\\_vol & supply & reddit\\_follower\\_growth\\_rate\\\\\n",
       "\\hline\n",
       "\t1 & 1 & -0.006696704 & -0.04477026 & -0.01188615 & -6.847448e-05 & 0.008491456 & -0.3226862 & -0.02727273 & -0.1052808 & 0 & ⋯ & -0.3995598 & -0.631971 & -0.5256172 & -0.5548008 & 9.638668 & 0.002147898 & -0.007848086 & -0.01201486 & 0.0001156277 & 0.3664589\\\\\n",
       "\\end{tabular}\n"
      ],
      "text/markdown": [
       "\n",
       "A matrix: 1 × 43 of type dbl\n",
       "\n",
       "| <!--/--> | (Intercept) | reddit_index | block_size | mining_difficulty | ethe_open_interest | activate_address | on_chain_transaction_vol | unit_computing_income | daily_block_reward | block_gen_rate | ⋯ | trade_vol_s | trade_vol_m | short | long | ethe_otc_premium | block_count | avg_computing_power | transaction_vol | supply | reddit_follower_growth_rate |\n",
       "|---|---|---|---|---|---|---|---|---|---|---|---|---|---|---|---|---|---|---|---|---|---|\n",
       "| 1 | 1 | -0.006696704 | -0.04477026 | -0.01188615 | -6.847448e-05 | 0.008491456 | -0.3226862 | -0.02727273 | -0.1052808 | 0 | ⋯ | -0.3995598 | -0.631971 | -0.5256172 | -0.5548008 | 9.638668 | 0.002147898 | -0.007848086 | -0.01201486 | 0.0001156277 | 0.3664589 |\n",
       "\n"
      ],
      "text/plain": [
       "  (Intercept) reddit_index block_size  mining_difficulty ethe_open_interest\n",
       "1 1           -0.006696704 -0.04477026 -0.01188615       -6.847448e-05     \n",
       "  activate_address on_chain_transaction_vol unit_computing_income\n",
       "1 0.008491456      -0.3226862               -0.02727273          \n",
       "  daily_block_reward block_gen_rate ⋯ trade_vol_s trade_vol_m short     \n",
       "1 -0.1052808         0              ⋯ -0.3995598  -0.631971   -0.5256172\n",
       "  long       ethe_otc_premium block_count avg_computing_power transaction_vol\n",
       "1 -0.5548008 9.638668         0.002147898 -0.007848086        -0.01201486    \n",
       "  supply       reddit_follower_growth_rate\n",
       "1 0.0001156277 0.3664589                  "
      ]
     },
     "metadata": {},
     "output_type": "display_data"
    }
   ],
   "source": [
    "TARGET_return_nextday <- training_eth$TARGET_return_nextday\n",
    "\n",
    "x_vars <- model.matrix(object = TARGET_return_nextday~.,\n",
    "                      data = training_eth)\n",
    "\n",
    "head(x_vars,1)\n",
    "\n"
   ]
  },
  {
   "cell_type": "code",
   "execution_count": 23,
   "id": "14a52493-de28-403d-b941-63af8b487f1b",
   "metadata": {},
   "outputs": [
    {
     "data": {
      "text/html": [
       "<table class=\"dataframe\">\n",
       "<caption>A tibble: 6 × 6</caption>\n",
       "<thead>\n",
       "\t<tr><th scope=col>lambda</th><th scope=col>estimate</th><th scope=col>std.error</th><th scope=col>conf.low</th><th scope=col>conf.high</th><th scope=col>nzero</th></tr>\n",
       "\t<tr><th scope=col>&lt;dbl&gt;</th><th scope=col>&lt;dbl&gt;</th><th scope=col>&lt;dbl&gt;</th><th scope=col>&lt;dbl&gt;</th><th scope=col>&lt;dbl&gt;</th><th scope=col>&lt;int&gt;</th></tr>\n",
       "</thead>\n",
       "<tbody>\n",
       "\t<tr><td>0.010792300</td><td>0.002804021</td><td>0.0005417290</td><td>0.002262292</td><td>0.003345750</td><td>0</td></tr>\n",
       "\t<tr><td>0.009833541</td><td>0.002802362</td><td>0.0005409655</td><td>0.002261396</td><td>0.003343327</td><td>1</td></tr>\n",
       "\t<tr><td>0.008959957</td><td>0.002802902</td><td>0.0005399503</td><td>0.002262952</td><td>0.003342852</td><td>1</td></tr>\n",
       "\t<tr><td>0.008163979</td><td>0.002804739</td><td>0.0005388683</td><td>0.002265871</td><td>0.003343608</td><td>1</td></tr>\n",
       "\t<tr><td>0.007438714</td><td>0.002806094</td><td>0.0005379692</td><td>0.002268125</td><td>0.003344063</td><td>2</td></tr>\n",
       "\t<tr><td>0.006777879</td><td>0.002806074</td><td>0.0005366384</td><td>0.002269436</td><td>0.003342713</td><td>2</td></tr>\n",
       "</tbody>\n",
       "</table>\n"
      ],
      "text/latex": [
       "A tibble: 6 × 6\n",
       "\\begin{tabular}{llllll}\n",
       " lambda & estimate & std.error & conf.low & conf.high & nzero\\\\\n",
       " <dbl> & <dbl> & <dbl> & <dbl> & <dbl> & <int>\\\\\n",
       "\\hline\n",
       "\t 0.010792300 & 0.002804021 & 0.0005417290 & 0.002262292 & 0.003345750 & 0\\\\\n",
       "\t 0.009833541 & 0.002802362 & 0.0005409655 & 0.002261396 & 0.003343327 & 1\\\\\n",
       "\t 0.008959957 & 0.002802902 & 0.0005399503 & 0.002262952 & 0.003342852 & 1\\\\\n",
       "\t 0.008163979 & 0.002804739 & 0.0005388683 & 0.002265871 & 0.003343608 & 1\\\\\n",
       "\t 0.007438714 & 0.002806094 & 0.0005379692 & 0.002268125 & 0.003344063 & 2\\\\\n",
       "\t 0.006777879 & 0.002806074 & 0.0005366384 & 0.002269436 & 0.003342713 & 2\\\\\n",
       "\\end{tabular}\n"
      ],
      "text/markdown": [
       "\n",
       "A tibble: 6 × 6\n",
       "\n",
       "| lambda &lt;dbl&gt; | estimate &lt;dbl&gt; | std.error &lt;dbl&gt; | conf.low &lt;dbl&gt; | conf.high &lt;dbl&gt; | nzero &lt;int&gt; |\n",
       "|---|---|---|---|---|---|\n",
       "| 0.010792300 | 0.002804021 | 0.0005417290 | 0.002262292 | 0.003345750 | 0 |\n",
       "| 0.009833541 | 0.002802362 | 0.0005409655 | 0.002261396 | 0.003343327 | 1 |\n",
       "| 0.008959957 | 0.002802902 | 0.0005399503 | 0.002262952 | 0.003342852 | 1 |\n",
       "| 0.008163979 | 0.002804739 | 0.0005388683 | 0.002265871 | 0.003343608 | 1 |\n",
       "| 0.007438714 | 0.002806094 | 0.0005379692 | 0.002268125 | 0.003344063 | 2 |\n",
       "| 0.006777879 | 0.002806074 | 0.0005366384 | 0.002269436 | 0.003342713 | 2 |\n",
       "\n"
      ],
      "text/plain": [
       "  lambda      estimate    std.error    conf.low    conf.high   nzero\n",
       "1 0.010792300 0.002804021 0.0005417290 0.002262292 0.003345750 0    \n",
       "2 0.009833541 0.002802362 0.0005409655 0.002261396 0.003343327 1    \n",
       "3 0.008959957 0.002802902 0.0005399503 0.002262952 0.003342852 1    \n",
       "4 0.008163979 0.002804739 0.0005388683 0.002265871 0.003343608 1    \n",
       "5 0.007438714 0.002806094 0.0005379692 0.002268125 0.003344063 2    \n",
       "6 0.006777879 0.002806074 0.0005366384 0.002269436 0.003342713 2    "
      ]
     },
     "metadata": {},
     "output_type": "display_data"
    },
    {
     "data": {
      "text/html": [
       "<table class=\"dataframe\">\n",
       "<caption>A tibble: 6 × 6</caption>\n",
       "<thead>\n",
       "\t<tr><th scope=col>lambda</th><th scope=col>estimate</th><th scope=col>std.error</th><th scope=col>conf.low</th><th scope=col>conf.high</th><th scope=col>nzero</th></tr>\n",
       "\t<tr><th scope=col>&lt;dbl&gt;</th><th scope=col>&lt;dbl&gt;</th><th scope=col>&lt;dbl&gt;</th><th scope=col>&lt;dbl&gt;</th><th scope=col>&lt;dbl&gt;</th><th scope=col>&lt;int&gt;</th></tr>\n",
       "</thead>\n",
       "<tbody>\n",
       "\t<tr><td>3.617150e-06</td><td>0.003151669</td><td>0.0005203934</td><td>0.002631276</td><td>0.003672062</td><td>42</td></tr>\n",
       "\t<tr><td>3.295812e-06</td><td>0.003152122</td><td>0.0005204558</td><td>0.002631666</td><td>0.003672578</td><td>42</td></tr>\n",
       "\t<tr><td>3.003021e-06</td><td>0.003152557</td><td>0.0005205311</td><td>0.002632026</td><td>0.003673088</td><td>42</td></tr>\n",
       "\t<tr><td>2.736241e-06</td><td>0.003152933</td><td>0.0005205956</td><td>0.002632337</td><td>0.003673528</td><td>42</td></tr>\n",
       "\t<tr><td>2.493161e-06</td><td>0.003153295</td><td>0.0005206591</td><td>0.002632636</td><td>0.003673954</td><td>42</td></tr>\n",
       "\t<tr><td>2.271676e-06</td><td>0.003153644</td><td>0.0005207222</td><td>0.002632922</td><td>0.003674366</td><td>42</td></tr>\n",
       "</tbody>\n",
       "</table>\n"
      ],
      "text/latex": [
       "A tibble: 6 × 6\n",
       "\\begin{tabular}{llllll}\n",
       " lambda & estimate & std.error & conf.low & conf.high & nzero\\\\\n",
       " <dbl> & <dbl> & <dbl> & <dbl> & <dbl> & <int>\\\\\n",
       "\\hline\n",
       "\t 3.617150e-06 & 0.003151669 & 0.0005203934 & 0.002631276 & 0.003672062 & 42\\\\\n",
       "\t 3.295812e-06 & 0.003152122 & 0.0005204558 & 0.002631666 & 0.003672578 & 42\\\\\n",
       "\t 3.003021e-06 & 0.003152557 & 0.0005205311 & 0.002632026 & 0.003673088 & 42\\\\\n",
       "\t 2.736241e-06 & 0.003152933 & 0.0005205956 & 0.002632337 & 0.003673528 & 42\\\\\n",
       "\t 2.493161e-06 & 0.003153295 & 0.0005206591 & 0.002632636 & 0.003673954 & 42\\\\\n",
       "\t 2.271676e-06 & 0.003153644 & 0.0005207222 & 0.002632922 & 0.003674366 & 42\\\\\n",
       "\\end{tabular}\n"
      ],
      "text/markdown": [
       "\n",
       "A tibble: 6 × 6\n",
       "\n",
       "| lambda &lt;dbl&gt; | estimate &lt;dbl&gt; | std.error &lt;dbl&gt; | conf.low &lt;dbl&gt; | conf.high &lt;dbl&gt; | nzero &lt;int&gt; |\n",
       "|---|---|---|---|---|---|\n",
       "| 3.617150e-06 | 0.003151669 | 0.0005203934 | 0.002631276 | 0.003672062 | 42 |\n",
       "| 3.295812e-06 | 0.003152122 | 0.0005204558 | 0.002631666 | 0.003672578 | 42 |\n",
       "| 3.003021e-06 | 0.003152557 | 0.0005205311 | 0.002632026 | 0.003673088 | 42 |\n",
       "| 2.736241e-06 | 0.003152933 | 0.0005205956 | 0.002632337 | 0.003673528 | 42 |\n",
       "| 2.493161e-06 | 0.003153295 | 0.0005206591 | 0.002632636 | 0.003673954 | 42 |\n",
       "| 2.271676e-06 | 0.003153644 | 0.0005207222 | 0.002632922 | 0.003674366 | 42 |\n",
       "\n"
      ],
      "text/plain": [
       "  lambda       estimate    std.error    conf.low    conf.high   nzero\n",
       "1 3.617150e-06 0.003151669 0.0005203934 0.002631276 0.003672062 42   \n",
       "2 3.295812e-06 0.003152122 0.0005204558 0.002631666 0.003672578 42   \n",
       "3 3.003021e-06 0.003152557 0.0005205311 0.002632026 0.003673088 42   \n",
       "4 2.736241e-06 0.003152933 0.0005205956 0.002632337 0.003673528 42   \n",
       "5 2.493161e-06 0.003153295 0.0005206591 0.002632636 0.003673954 42   \n",
       "6 2.271676e-06 0.003153644 0.0005207222 0.002632922 0.003674366 42   "
      ]
     },
     "metadata": {},
     "output_type": "display_data"
    },
    {
     "data": {
      "text/html": [
       "92"
      ],
      "text/latex": [
       "92"
      ],
      "text/markdown": [
       "92"
      ],
      "text/plain": [
       "[1] 92"
      ]
     },
     "metadata": {},
     "output_type": "display_data"
    },
    {
     "data": {
      "text/html": [
       "<style>\n",
       ".list-inline {list-style: none; margin:0; padding: 0}\n",
       ".list-inline>li {display: inline-block}\n",
       ".list-inline>li:not(:last-child)::after {content: \"\\00b7\"; padding: 0 .5ex}\n",
       "</style>\n",
       "<ol class=list-inline><li>0.0107922996236982</li><li>0.00983354146995305</li><li>0.00895995674813838</li><li>0.00816397888530934</li><li>0.00743871350200712</li><li>0.00677787869644231</li></ol>\n"
      ],
      "text/latex": [
       "\\begin{enumerate*}\n",
       "\\item 0.0107922996236982\n",
       "\\item 0.00983354146995305\n",
       "\\item 0.00895995674813838\n",
       "\\item 0.00816397888530934\n",
       "\\item 0.00743871350200712\n",
       "\\item 0.00677787869644231\n",
       "\\end{enumerate*}\n"
      ],
      "text/markdown": [
       "1. 0.0107922996236982\n",
       "2. 0.00983354146995305\n",
       "3. 0.00895995674813838\n",
       "4. 0.00816397888530934\n",
       "5. 0.00743871350200712\n",
       "6. 0.00677787869644231\n",
       "\n",
       "\n"
      ],
      "text/plain": [
       "[1] 0.010792300 0.009833541 0.008959957 0.008163979 0.007438714 0.006777879"
      ]
     },
     "metadata": {},
     "output_type": "display_data"
    },
    {
     "data": {
      "image/png": "[encoded data removed]",
      "text/plain": [
       "plot without title"
      ]
     },
     "metadata": {
      "image/png": {
       "height": 360,
       "width": 600
      }
     },
     "output_type": "display_data"
    }
   ],
   "source": [
    "\n",
    "eth_cv_lambda_lasso <- cv.glmnet(\n",
    "    x = x_vars,\n",
    "    y = TARGET_return_nextday,\n",
    "    alpha = 1,\n",
    ")\n",
    "head(tidy(eth_cv_lambda_lasso))\n",
    "tail(tidy(eth_cv_lambda_lasso))\n",
    "lambda_best <- eth_cv_lambda_lasso$lambda.min\n",
    "which.min(eth_cv_lambda_lasso$lambda)\n",
    "head(eth_cv_lambda_lasso$lambda)\n",
    "\n",
    "plot(eth_cv_lambda_lasso)\n",
    "\n",
    "\n"
   ]
  },
  {
   "cell_type": "code",
   "execution_count": 24,
   "id": "f903982d-2faf-4abe-be47-ec88d17aa44e",
   "metadata": {},
   "outputs": [
    {
     "data": {
      "text/html": [
       "<table class=\"dataframe\">\n",
       "<caption>A tibble: 12 × 5</caption>\n",
       "<thead>\n",
       "\t<tr><th scope=col>term</th><th scope=col>step</th><th scope=col>estimate</th><th scope=col>lambda</th><th scope=col>dev.ratio</th></tr>\n",
       "\t<tr><th scope=col>&lt;chr&gt;</th><th scope=col>&lt;dbl&gt;</th><th scope=col>&lt;dbl&gt;</th><th scope=col>&lt;dbl&gt;</th><th scope=col>&lt;dbl&gt;</th></tr>\n",
       "</thead>\n",
       "<tbody>\n",
       "\t<tr><td>(Intercept)             </td><td>1</td><td> 1.819149e-03</td><td>0.002673335</td><td>0.07398015</td></tr>\n",
       "\t<tr><td>ethe_open_interest      </td><td>1</td><td> 1.334223e-01</td><td>0.002673335</td><td>0.07398015</td></tr>\n",
       "\t<tr><td>daily_block_reward      </td><td>1</td><td> 4.485148e-03</td><td>0.002673335</td><td>0.07398015</td></tr>\n",
       "\t<tr><td>open_interest_top10     </td><td>1</td><td>-1.922861e-01</td><td>0.002673335</td><td>0.07398015</td></tr>\n",
       "\t<tr><td>margin_call_s           </td><td>1</td><td>-7.577565e-04</td><td>0.002673335</td><td>0.07398015</td></tr>\n",
       "\t<tr><td>margin_call_m           </td><td>1</td><td>-8.071531e-04</td><td>0.002673335</td><td>0.07398015</td></tr>\n",
       "\t<tr><td>short_margin_call       </td><td>1</td><td>-2.575345e-04</td><td>0.002673335</td><td>0.07398015</td></tr>\n",
       "\t<tr><td>open_interest           </td><td>1</td><td>-2.447350e-03</td><td>0.002673335</td><td>0.07398015</td></tr>\n",
       "\t<tr><td>interest                </td><td>1</td><td> 3.557670e-05</td><td>0.002673335</td><td>0.07398015</td></tr>\n",
       "\t<tr><td>basis                   </td><td>1</td><td>-1.523139e-06</td><td>0.002673335</td><td>0.07398015</td></tr>\n",
       "\t<tr><td>inflow_maker            </td><td>1</td><td>-4.050693e-03</td><td>0.002673335</td><td>0.07398015</td></tr>\n",
       "\t<tr><td>daily_uncle_block_reward</td><td>1</td><td> 6.100629e-02</td><td>0.002673335</td><td>0.07398015</td></tr>\n",
       "</tbody>\n",
       "</table>\n"
      ],
      "text/latex": [
       "A tibble: 12 × 5\n",
       "\\begin{tabular}{lllll}\n",
       " term & step & estimate & lambda & dev.ratio\\\\\n",
       " <chr> & <dbl> & <dbl> & <dbl> & <dbl>\\\\\n",
       "\\hline\n",
       "\t (Intercept)              & 1 &  1.819149e-03 & 0.002673335 & 0.07398015\\\\\n",
       "\t ethe\\_open\\_interest       & 1 &  1.334223e-01 & 0.002673335 & 0.07398015\\\\\n",
       "\t daily\\_block\\_reward       & 1 &  4.485148e-03 & 0.002673335 & 0.07398015\\\\\n",
       "\t open\\_interest\\_top10      & 1 & -1.922861e-01 & 0.002673335 & 0.07398015\\\\\n",
       "\t margin\\_call\\_s            & 1 & -7.577565e-04 & 0.002673335 & 0.07398015\\\\\n",
       "\t margin\\_call\\_m            & 1 & -8.071531e-04 & 0.002673335 & 0.07398015\\\\\n",
       "\t short\\_margin\\_call        & 1 & -2.575345e-04 & 0.002673335 & 0.07398015\\\\\n",
       "\t open\\_interest            & 1 & -2.447350e-03 & 0.002673335 & 0.07398015\\\\\n",
       "\t interest                 & 1 &  3.557670e-05 & 0.002673335 & 0.07398015\\\\\n",
       "\t basis                    & 1 & -1.523139e-06 & 0.002673335 & 0.07398015\\\\\n",
       "\t inflow\\_maker             & 1 & -4.050693e-03 & 0.002673335 & 0.07398015\\\\\n",
       "\t daily\\_uncle\\_block\\_reward & 1 &  6.100629e-02 & 0.002673335 & 0.07398015\\\\\n",
       "\\end{tabular}\n"
      ],
      "text/markdown": [
       "\n",
       "A tibble: 12 × 5\n",
       "\n",
       "| term &lt;chr&gt; | step &lt;dbl&gt; | estimate &lt;dbl&gt; | lambda &lt;dbl&gt; | dev.ratio &lt;dbl&gt; |\n",
       "|---|---|---|---|---|\n",
       "| (Intercept)              | 1 |  1.819149e-03 | 0.002673335 | 0.07398015 |\n",
       "| ethe_open_interest       | 1 |  1.334223e-01 | 0.002673335 | 0.07398015 |\n",
       "| daily_block_reward       | 1 |  4.485148e-03 | 0.002673335 | 0.07398015 |\n",
       "| open_interest_top10      | 1 | -1.922861e-01 | 0.002673335 | 0.07398015 |\n",
       "| margin_call_s            | 1 | -7.577565e-04 | 0.002673335 | 0.07398015 |\n",
       "| margin_call_m            | 1 | -8.071531e-04 | 0.002673335 | 0.07398015 |\n",
       "| short_margin_call        | 1 | -2.575345e-04 | 0.002673335 | 0.07398015 |\n",
       "| open_interest            | 1 | -2.447350e-03 | 0.002673335 | 0.07398015 |\n",
       "| interest                 | 1 |  3.557670e-05 | 0.002673335 | 0.07398015 |\n",
       "| basis                    | 1 | -1.523139e-06 | 0.002673335 | 0.07398015 |\n",
       "| inflow_maker             | 1 | -4.050693e-03 | 0.002673335 | 0.07398015 |\n",
       "| daily_uncle_block_reward | 1 |  6.100629e-02 | 0.002673335 | 0.07398015 |\n",
       "\n"
      ],
      "text/plain": [
       "   term                     step estimate      lambda      dev.ratio \n",
       "1  (Intercept)              1     1.819149e-03 0.002673335 0.07398015\n",
       "2  ethe_open_interest       1     1.334223e-01 0.002673335 0.07398015\n",
       "3  daily_block_reward       1     4.485148e-03 0.002673335 0.07398015\n",
       "4  open_interest_top10      1    -1.922861e-01 0.002673335 0.07398015\n",
       "5  margin_call_s            1    -7.577565e-04 0.002673335 0.07398015\n",
       "6  margin_call_m            1    -8.071531e-04 0.002673335 0.07398015\n",
       "7  short_margin_call        1    -2.575345e-04 0.002673335 0.07398015\n",
       "8  open_interest            1    -2.447350e-03 0.002673335 0.07398015\n",
       "9  interest                 1     3.557670e-05 0.002673335 0.07398015\n",
       "10 basis                    1    -1.523139e-06 0.002673335 0.07398015\n",
       "11 inflow_maker             1    -4.050693e-03 0.002673335 0.07398015\n",
       "12 daily_uncle_block_reward 1     6.100629e-02 0.002673335 0.07398015"
      ]
     },
     "metadata": {},
     "output_type": "display_data"
    },
    {
     "data": {
      "text/html": [
       "<style>\n",
       ".list-inline {list-style: none; margin:0; padding: 0}\n",
       ".list-inline>li {display: inline-block}\n",
       ".list-inline>li:not(:last-child)::after {content: \"\\00b7\"; padding: 0 .5ex}\n",
       "</style>\n",
       "<ol class=list-inline><li>'(Intercept)'</li><li>'ethe_open_interest'</li><li>'daily_block_reward'</li><li>'open_interest_top10'</li><li>'margin_call_s'</li><li>'margin_call_m'</li><li>'short_margin_call'</li><li>'open_interest'</li><li>'interest'</li><li>'basis'</li><li>'inflow_maker'</li><li>'daily_uncle_block_reward'</li></ol>\n"
      ],
      "text/latex": [
       "\\begin{enumerate*}\n",
       "\\item '(Intercept)'\n",
       "\\item 'ethe\\_open\\_interest'\n",
       "\\item 'daily\\_block\\_reward'\n",
       "\\item 'open\\_interest\\_top10'\n",
       "\\item 'margin\\_call\\_s'\n",
       "\\item 'margin\\_call\\_m'\n",
       "\\item 'short\\_margin\\_call'\n",
       "\\item 'open\\_interest'\n",
       "\\item 'interest'\n",
       "\\item 'basis'\n",
       "\\item 'inflow\\_maker'\n",
       "\\item 'daily\\_uncle\\_block\\_reward'\n",
       "\\end{enumerate*}\n"
      ],
      "text/markdown": [
       "1. '(Intercept)'\n",
       "2. 'ethe_open_interest'\n",
       "3. 'daily_block_reward'\n",
       "4. 'open_interest_top10'\n",
       "5. 'margin_call_s'\n",
       "6. 'margin_call_m'\n",
       "7. 'short_margin_call'\n",
       "8. 'open_interest'\n",
       "9. 'interest'\n",
       "10. 'basis'\n",
       "11. 'inflow_maker'\n",
       "12. 'daily_uncle_block_reward'\n",
       "\n",
       "\n"
      ],
      "text/plain": [
       " [1] \"(Intercept)\"              \"ethe_open_interest\"      \n",
       " [3] \"daily_block_reward\"       \"open_interest_top10\"     \n",
       " [5] \"margin_call_s\"            \"margin_call_m\"           \n",
       " [7] \"short_margin_call\"        \"open_interest\"           \n",
       " [9] \"interest\"                 \"basis\"                   \n",
       "[11] \"inflow_maker\"             \"daily_uncle_block_reward\""
      ]
     },
     "metadata": {},
     "output_type": "display_data"
    }
   ],
   "source": [
    "lasso_model <- glmnet(x = x_vars,\n",
    "                      y = TARGET_return_nextday,\n",
    "                      alpha = 1, \n",
    "                      lambda = eth_cv_lambda_lasso$lambda.min)\n",
    "\n",
    "\n",
    "tidy(lasso_model)\n",
    "tidy(lasso_model)$term"
   ]
  },
  {
   "cell_type": "code",
   "execution_count": 25,
   "id": "dc7a7bf1-c88c-4d22-af0d-cf9e616fa58f",
   "metadata": {},
   "outputs": [],
   "source": [
    "lasso_training_eth <- training_eth%>%\n",
    "    select(\n",
    "        unit_computing_income,\n",
    "        daily_block_reward,\n",
    "        price,\n",
    "        open_interest_top100,\n",
    "        open_interest_top10,\n",
    "        avg_gas_cost,\n",
    "        margin_call_m,\n",
    "        short_margin_call,\n",
    "        basis,\n",
    "        inflow_maker,\n",
    "        net,\n",
    "        daily_uncle_block_reward,\n",
    "        TARGET_return_nextday\n",
    "          )\n",
    "\n",
    "lasso_testing_eth <- testing_eth%>%\n",
    "    select(\n",
    "        unit_computing_income,\n",
    "        daily_block_reward,\n",
    "        price,\n",
    "        open_interest_top100,\n",
    "        open_interest_top10,\n",
    "        avg_gas_cost,\n",
    "        margin_call_m,\n",
    "        short_margin_call,\n",
    "        basis,\n",
    "        inflow_maker,\n",
    "        net,\n",
    "        daily_uncle_block_reward,\n",
    "        TARGET_return_nextday\n",
    "          )\n",
    "#predict(lasso_model, s =lambda_best, newx =  testing_eth[,-1])\n",
    "\n",
    "lasso_model <- lm(TARGET_return_nextday~., lasso_training_eth)"
   ]
  },
  {
   "cell_type": "code",
   "execution_count": 26,
   "id": "85d22c1b-09f7-48f7-a827-724efc1f978f",
   "metadata": {},
   "outputs": [
    {
     "name": "stdout",
     "output_type": "stream",
     "text": [
      "Fall Addition Model yields  0.71 % of correctness in testing dataset"
     ]
    }
   ],
   "source": [
    "predicted_with_lasso <- predict(lasso_model, testing_eth)\n",
    "predicted_traget_comparison <- cbind(testing_eth, predicted_with_lasso)%>%\n",
    "    select(TARGET_return_nextday,predicted_with_lasso)%>%\n",
    "    filter(TARGET_return_nextday * predicted_with_lasso > 0\n",
    "           | ( ((-0.01 <= TARGET_return_nextday) & (TARGET_return_nextday <= 0.01))\n",
    "              & ((-0.01 <= predicted_with_lasso) & (predicted_with_lasso <= 0.01))) )\n",
    "\n",
    "# length(predicted_with_lassso)\n",
    "# nrow(predicted_traget_comparison)\n",
    "lasso_correct_prediction_rate <- nrow(predicted_traget_comparison) / length(predicted_with_lasso)\n",
    "cat(\"Fall Addition Model yields \", round(lasso_correct_prediction_rate, 2), \"% of correctness in testing dataset\")"
   ]
  },
  {
   "cell_type": "code",
   "execution_count": 27,
   "id": "e18b0f05-9a04-411b-9cad-e854c7588630",
   "metadata": {},
   "outputs": [
    {
     "name": "stdout",
     "output_type": "stream",
     "text": [
      "Fall Addition Model yields  0.57 % of correctness in testing dataset"
     ]
    }
   ],
   "source": [
    "predicted_with_fam <- predict(MLR_FAM, testing_eth)\n",
    "predicted_traget_comparison <- cbind(testing_eth, predicted_with_fam)%>%\n",
    "    select(TARGET_return_nextday,predicted_with_fam)%>%\n",
    "    filter(TARGET_return_nextday * predicted_with_fam > 0\n",
    "           | ( ((-0.01 <= TARGET_return_nextday) & (TARGET_return_nextday <= 0.01))\n",
    "              & ((-0.01 <= predicted_with_fam) & (predicted_with_fam <= 0.01))) )\n",
    "\n",
    "# length(predicted_with_fam)\n",
    "# nrow(predicted_traget_comparison)\n",
    "fam_correct_prediction_rate <- nrow(predicted_traget_comparison) / length(predicted_with_fam)\n",
    "cat(\"Fall Addition Model yields \", round(fam_correct_prediction_rate, 2), \"% of correctness in testing dataset\")"
   ]
  },
  {
   "cell_type": "code",
   "execution_count": 28,
   "id": "27902b12-05b7-43e0-a329-98b878d5aaba",
   "metadata": {},
   "outputs": [
    {
     "name": "stdout",
     "output_type": "stream",
     "text": [
      "Forward Selection yields  0.68 % of correctness in testing dataset"
     ]
    }
   ],
   "source": [
    "#Forward Selction Generated Above\n",
    "forward_model <- \n",
    "lm(TARGET_return_nextday~ on_chain_transaction_vol + \n",
    "daily_block_reward +\n",
    "open_interest_top50 + \n",
    "open_interest_top10 +\n",
    "unit_transaction_fee +\n",
    "margin_call_m +\n",
    "new_addresses +\n",
    "daily_uncle_block_reward,\n",
    "   testing_eth)\n",
    "\n",
    "predicted_with_forwardSelection <- predict(forward_model, testing_eth)\n",
    "predicted_forward_comparison <- cbind(testing_eth, predicted_with_forwardSelection)%>%\n",
    "    select(TARGET_return_nextday,predicted_with_forwardSelection)%>%\n",
    "    filter(TARGET_return_nextday * predicted_with_forwardSelection > 0\n",
    "           | ( ((-0.01 <= TARGET_return_nextday) & (TARGET_return_nextday <= 0.01))\n",
    "              & ((-0.01 <= predicted_with_forwardSelection) & (predicted_with_forwardSelection <= 0.01))) )\n",
    "\n",
    "# length(predicted_with_forwardSelection)\n",
    "# nrow(predicted_forward_comparison)\n",
    "forward_correct_prediction_rate <- nrow(predicted_forward_comparison) / length(predicted_with_forwardSelection)\n",
    "cat(\"Forward Selection yields \", round(forward_correct_prediction_rate, 2), \"% of correctness in testing dataset\")"
   ]
  },
  {
   "cell_type": "code",
   "execution_count": 29,
   "id": "58b0910a-198f-4401-a104-18d709d5e660",
   "metadata": {},
   "outputs": [],
   "source": [
    "backward_model <- \n",
    "lm(TARGET_return_nextday~ \n",
    "   reddit_index+\n",
    "    mining_difficulty+\n",
    "    unit_computing_income+\n",
    "    price+\n",
    "    open_interest_top50+\n",
    "    open_interest_top10+\n",
    "    unit_transaction_fee+\n",
    "    margin_call_s+\n",
    "    inflow_maker+\n",
    "    daily_uncle_block_reward+\n",
    "    trade_vol_s,\n",
    "   testing_eth)"
   ]
  },
  {
   "cell_type": "code",
   "execution_count": 30,
   "id": "e98428df-b90d-4869-90e8-06efdcec40f3",
   "metadata": {},
   "outputs": [
    {
     "name": "stdout",
     "output_type": "stream",
     "text": [
      "Backward Selection yields  0.67 % of correctness in testing dataset"
     ]
    }
   ],
   "source": [
    "predicted_with_backwardSelection <- predict(backward_model, testing_eth)\n",
    "#cbind(testing_eth, predicted_with_backwardSelection)%>%select(TARGET_return_nextday, predicted_with_backwardSelection)\n",
    "predicted_backward_comparison <- cbind(testing_eth, predicted_with_backwardSelection)%>%\n",
    "    select(TARGET_return_nextday, predicted_with_backwardSelection)%>%\n",
    "    filter(TARGET_return_nextday * predicted_with_backwardSelection > 0\n",
    "          | ( ((-0.01 <= TARGET_return_nextday) & (TARGET_return_nextday <= 0.01))\n",
    "              & ((-0.01 <= predicted_with_backwardSelection) & (predicted_with_backwardSelection <= 0.01))) )\n",
    "\n",
    "# length(predicted_with_backwardSelection)\n",
    "# nrow(predicted_backward_comparison)\n",
    "forward_correct_prediction_rate <- nrow(predicted_backward_comparison) / length(predicted_with_backwardSelection)\n",
    "cat(\"Backward Selection yields \", round(forward_correct_prediction_rate, 2), \"% of correctness in testing dataset\")"
   ]
  },
  {
   "cell_type": "markdown",
   "id": "bc438a11-9d6d-48ee-b66c-c9057ac53c1b",
   "metadata": {},
   "source": [
    "We want to focus on our models' performance when dealing with a potential huge rate of change coming up, as that'd be crucial when actually trading crypto. We refactor the dataset and create a new factor column \"roc_type\" to indicate the level of change."
   ]
  },
  {
   "cell_type": "code",
   "execution_count": 31,
   "id": "fcc25c12-ac1b-46c9-b529-3e43a614e848",
   "metadata": {},
   "outputs": [
    {
     "data": {
      "text/html": [
       "<table class=\"dataframe\">\n",
       "<caption>A data.frame: 6 × 43</caption>\n",
       "<thead>\n",
       "\t<tr><th></th><th scope=col>reddit_index</th><th scope=col>block_size</th><th scope=col>mining_difficulty</th><th scope=col>ethe_open_interest</th><th scope=col>activate_address</th><th scope=col>on_chain_transaction_vol</th><th scope=col>unit_computing_income</th><th scope=col>daily_block_reward</th><th scope=col>block_gen_rate</th><th scope=col>price</th><th scope=col>⋯</th><th scope=col>trade_vol_m</th><th scope=col>short</th><th scope=col>long</th><th scope=col>ethe_otc_premium</th><th scope=col>block_count</th><th scope=col>avg_computing_power</th><th scope=col>transaction_vol</th><th scope=col>supply</th><th scope=col>reddit_follower_growth_rate</th><th scope=col>TARGET_return_nextday</th></tr>\n",
       "\t<tr><th></th><th scope=col>&lt;dbl&gt;</th><th scope=col>&lt;dbl&gt;</th><th scope=col>&lt;dbl&gt;</th><th scope=col>&lt;dbl&gt;</th><th scope=col>&lt;dbl&gt;</th><th scope=col>&lt;dbl&gt;</th><th scope=col>&lt;dbl&gt;</th><th scope=col>&lt;dbl&gt;</th><th scope=col>&lt;dbl&gt;</th><th scope=col>&lt;dbl&gt;</th><th scope=col>⋯</th><th scope=col>&lt;dbl&gt;</th><th scope=col>&lt;dbl&gt;</th><th scope=col>&lt;dbl&gt;</th><th scope=col>&lt;dbl&gt;</th><th scope=col>&lt;dbl&gt;</th><th scope=col>&lt;dbl&gt;</th><th scope=col>&lt;dbl&gt;</th><th scope=col>&lt;dbl&gt;</th><th scope=col>&lt;dbl&gt;</th><th scope=col>&lt;dbl&gt;</th></tr>\n",
       "</thead>\n",
       "<tbody>\n",
       "\t<tr><th scope=row>1</th><td> 0.010167661</td><td> 0.03211535</td><td>-0.008179846</td><td>0.000000000</td><td>-0.055288145</td><td>-0.54473623</td><td>-0.015463918</td><td>-0.03560211</td><td>0.014705882</td><td>-0.009997672</td><td>⋯</td><td>-2.7410958</td><td>-0.62656290</td><td>-0.57292095</td><td> 0.000000000</td><td>-0.013040063</td><td>-0.0200686305</td><td>-0.0002123493</td><td>0.0001172044</td><td> 0.027002424</td><td>-0.0102366586</td></tr>\n",
       "\t<tr><th scope=row>2</th><td> 0.002297512</td><td>-0.12121735</td><td> 0.010506917</td><td>0.000000000</td><td> 0.403882405</td><td>-0.48868682</td><td>-0.058201058</td><td>-0.06422061</td><td>0.007462687</td><td>-0.002056642</td><td>⋯</td><td>-2.0209826</td><td>-0.52028534</td><td>-0.63135912</td><td> 0.000000000</td><td>-0.007468492</td><td> 0.0002137547</td><td>-0.0796915574</td><td>0.0001182304</td><td>-0.201464889</td><td>-0.0051329584</td></tr>\n",
       "\t<tr><th scope=row>3</th><td>-0.028867264</td><td> 0.02585218</td><td> 0.032311162</td><td>0.001034724</td><td>-0.052901867</td><td> 0.28599565</td><td> 0.036697248</td><td> 0.04150412</td><td>0.000000000</td><td> 0.028341256</td><td>⋯</td><td>-0.1730751</td><td> 0.06537562</td><td> 0.13685442</td><td>-0.002588279</td><td> 0.002151860</td><td> 0.0325392587</td><td> 0.0246565437</td><td>0.0001196272</td><td>-0.163779458</td><td>-0.0203898334</td></tr>\n",
       "\t<tr><th scope=row>4</th><td> 0.020266494</td><td>-0.01189714</td><td>-0.010437862</td><td>0.001559114</td><td>-0.001562767</td><td>-0.30622347</td><td>-0.009259259</td><td> 0.00283238</td><td>0.007462687</td><td>-0.020389833</td><td>⋯</td><td> 0.3009534</td><td> 0.16845364</td><td> 0.03253861</td><td>-0.141958367</td><td>-0.011819596</td><td>-0.0159265895</td><td>-0.0211297224</td><td>0.0001182409</td><td>-0.007273509</td><td>-0.0006587309</td></tr>\n",
       "\t<tr><th scope=row>5</th><td>-0.012036656</td><td> 0.02915672</td><td>-0.029270927</td><td>0.000000000</td><td>-0.124174300</td><td>-0.27080135</td><td> 0.077500000</td><td> 0.06107321</td><td>0.007518797</td><td> 0.012352328</td><td>⋯</td><td>-0.5036349</td><td>-0.47056531</td><td>-0.51816468</td><td> 0.000000000</td><td>-0.003841426</td><td>-0.0292898227</td><td>-0.0013434524</td><td>0.0001188932</td><td> 0.141024809</td><td> 0.0339513642</td></tr>\n",
       "\t<tr><th scope=row>6</th><td> 0.068152152</td><td>-0.03685981</td><td> 0.017011858</td><td>0.000000000</td><td>-0.190577692</td><td>-0.03067242</td><td> 0.036496350</td><td> 0.11481746</td><td>0.007575758</td><td>-0.072628757</td><td>⋯</td><td>-0.4116203</td><td>-0.16432811</td><td>-0.19835466</td><td> 0.000000000</td><td>-0.009935799</td><td>-0.0042676721</td><td>-0.0963873247</td><td>0.0001193827</td><td>-0.002298350</td><td>-0.0335940641</td></tr>\n",
       "</tbody>\n",
       "</table>\n"
      ],
      "text/latex": [
       "A data.frame: 6 × 43\n",
       "\\begin{tabular}{r|lllllllllllllllllllll}\n",
       "  & reddit\\_index & block\\_size & mining\\_difficulty & ethe\\_open\\_interest & activate\\_address & on\\_chain\\_transaction\\_vol & unit\\_computing\\_income & daily\\_block\\_reward & block\\_gen\\_rate & price & ⋯ & trade\\_vol\\_m & short & long & ethe\\_otc\\_premium & block\\_count & avg\\_computing\\_power & transaction\\_vol & supply & reddit\\_follower\\_growth\\_rate & TARGET\\_return\\_nextday\\\\\n",
       "  & <dbl> & <dbl> & <dbl> & <dbl> & <dbl> & <dbl> & <dbl> & <dbl> & <dbl> & <dbl> & ⋯ & <dbl> & <dbl> & <dbl> & <dbl> & <dbl> & <dbl> & <dbl> & <dbl> & <dbl> & <dbl>\\\\\n",
       "\\hline\n",
       "\t1 &  0.010167661 &  0.03211535 & -0.008179846 & 0.000000000 & -0.055288145 & -0.54473623 & -0.015463918 & -0.03560211 & 0.014705882 & -0.009997672 & ⋯ & -2.7410958 & -0.62656290 & -0.57292095 &  0.000000000 & -0.013040063 & -0.0200686305 & -0.0002123493 & 0.0001172044 &  0.027002424 & -0.0102366586\\\\\n",
       "\t2 &  0.002297512 & -0.12121735 &  0.010506917 & 0.000000000 &  0.403882405 & -0.48868682 & -0.058201058 & -0.06422061 & 0.007462687 & -0.002056642 & ⋯ & -2.0209826 & -0.52028534 & -0.63135912 &  0.000000000 & -0.007468492 &  0.0002137547 & -0.0796915574 & 0.0001182304 & -0.201464889 & -0.0051329584\\\\\n",
       "\t3 & -0.028867264 &  0.02585218 &  0.032311162 & 0.001034724 & -0.052901867 &  0.28599565 &  0.036697248 &  0.04150412 & 0.000000000 &  0.028341256 & ⋯ & -0.1730751 &  0.06537562 &  0.13685442 & -0.002588279 &  0.002151860 &  0.0325392587 &  0.0246565437 & 0.0001196272 & -0.163779458 & -0.0203898334\\\\\n",
       "\t4 &  0.020266494 & -0.01189714 & -0.010437862 & 0.001559114 & -0.001562767 & -0.30622347 & -0.009259259 &  0.00283238 & 0.007462687 & -0.020389833 & ⋯ &  0.3009534 &  0.16845364 &  0.03253861 & -0.141958367 & -0.011819596 & -0.0159265895 & -0.0211297224 & 0.0001182409 & -0.007273509 & -0.0006587309\\\\\n",
       "\t5 & -0.012036656 &  0.02915672 & -0.029270927 & 0.000000000 & -0.124174300 & -0.27080135 &  0.077500000 &  0.06107321 & 0.007518797 &  0.012352328 & ⋯ & -0.5036349 & -0.47056531 & -0.51816468 &  0.000000000 & -0.003841426 & -0.0292898227 & -0.0013434524 & 0.0001188932 &  0.141024809 &  0.0339513642\\\\\n",
       "\t6 &  0.068152152 & -0.03685981 &  0.017011858 & 0.000000000 & -0.190577692 & -0.03067242 &  0.036496350 &  0.11481746 & 0.007575758 & -0.072628757 & ⋯ & -0.4116203 & -0.16432811 & -0.19835466 &  0.000000000 & -0.009935799 & -0.0042676721 & -0.0963873247 & 0.0001193827 & -0.002298350 & -0.0335940641\\\\\n",
       "\\end{tabular}\n"
      ],
      "text/markdown": [
       "\n",
       "A data.frame: 6 × 43\n",
       "\n",
       "| <!--/--> | reddit_index &lt;dbl&gt; | block_size &lt;dbl&gt; | mining_difficulty &lt;dbl&gt; | ethe_open_interest &lt;dbl&gt; | activate_address &lt;dbl&gt; | on_chain_transaction_vol &lt;dbl&gt; | unit_computing_income &lt;dbl&gt; | daily_block_reward &lt;dbl&gt; | block_gen_rate &lt;dbl&gt; | price &lt;dbl&gt; | ⋯ ⋯ | trade_vol_m &lt;dbl&gt; | short &lt;dbl&gt; | long &lt;dbl&gt; | ethe_otc_premium &lt;dbl&gt; | block_count &lt;dbl&gt; | avg_computing_power &lt;dbl&gt; | transaction_vol &lt;dbl&gt; | supply &lt;dbl&gt; | reddit_follower_growth_rate &lt;dbl&gt; | TARGET_return_nextday &lt;dbl&gt; |\n",
       "|---|---|---|---|---|---|---|---|---|---|---|---|---|---|---|---|---|---|---|---|---|---|\n",
       "| 1 |  0.010167661 |  0.03211535 | -0.008179846 | 0.000000000 | -0.055288145 | -0.54473623 | -0.015463918 | -0.03560211 | 0.014705882 | -0.009997672 | ⋯ | -2.7410958 | -0.62656290 | -0.57292095 |  0.000000000 | -0.013040063 | -0.0200686305 | -0.0002123493 | 0.0001172044 |  0.027002424 | -0.0102366586 |\n",
       "| 2 |  0.002297512 | -0.12121735 |  0.010506917 | 0.000000000 |  0.403882405 | -0.48868682 | -0.058201058 | -0.06422061 | 0.007462687 | -0.002056642 | ⋯ | -2.0209826 | -0.52028534 | -0.63135912 |  0.000000000 | -0.007468492 |  0.0002137547 | -0.0796915574 | 0.0001182304 | -0.201464889 | -0.0051329584 |\n",
       "| 3 | -0.028867264 |  0.02585218 |  0.032311162 | 0.001034724 | -0.052901867 |  0.28599565 |  0.036697248 |  0.04150412 | 0.000000000 |  0.028341256 | ⋯ | -0.1730751 |  0.06537562 |  0.13685442 | -0.002588279 |  0.002151860 |  0.0325392587 |  0.0246565437 | 0.0001196272 | -0.163779458 | -0.0203898334 |\n",
       "| 4 |  0.020266494 | -0.01189714 | -0.010437862 | 0.001559114 | -0.001562767 | -0.30622347 | -0.009259259 |  0.00283238 | 0.007462687 | -0.020389833 | ⋯ |  0.3009534 |  0.16845364 |  0.03253861 | -0.141958367 | -0.011819596 | -0.0159265895 | -0.0211297224 | 0.0001182409 | -0.007273509 | -0.0006587309 |\n",
       "| 5 | -0.012036656 |  0.02915672 | -0.029270927 | 0.000000000 | -0.124174300 | -0.27080135 |  0.077500000 |  0.06107321 | 0.007518797 |  0.012352328 | ⋯ | -0.5036349 | -0.47056531 | -0.51816468 |  0.000000000 | -0.003841426 | -0.0292898227 | -0.0013434524 | 0.0001188932 |  0.141024809 |  0.0339513642 |\n",
       "| 6 |  0.068152152 | -0.03685981 |  0.017011858 | 0.000000000 | -0.190577692 | -0.03067242 |  0.036496350 |  0.11481746 | 0.007575758 | -0.072628757 | ⋯ | -0.4116203 | -0.16432811 | -0.19835466 |  0.000000000 | -0.009935799 | -0.0042676721 | -0.0963873247 | 0.0001193827 | -0.002298350 | -0.0335940641 |\n",
       "\n"
      ],
      "text/plain": [
       "  reddit_index block_size  mining_difficulty ethe_open_interest\n",
       "1  0.010167661  0.03211535 -0.008179846      0.000000000       \n",
       "2  0.002297512 -0.12121735  0.010506917      0.000000000       \n",
       "3 -0.028867264  0.02585218  0.032311162      0.001034724       \n",
       "4  0.020266494 -0.01189714 -0.010437862      0.001559114       \n",
       "5 -0.012036656  0.02915672 -0.029270927      0.000000000       \n",
       "6  0.068152152 -0.03685981  0.017011858      0.000000000       \n",
       "  activate_address on_chain_transaction_vol unit_computing_income\n",
       "1 -0.055288145     -0.54473623              -0.015463918         \n",
       "2  0.403882405     -0.48868682              -0.058201058         \n",
       "3 -0.052901867      0.28599565               0.036697248         \n",
       "4 -0.001562767     -0.30622347              -0.009259259         \n",
       "5 -0.124174300     -0.27080135               0.077500000         \n",
       "6 -0.190577692     -0.03067242               0.036496350         \n",
       "  daily_block_reward block_gen_rate price        ⋯ trade_vol_m short      \n",
       "1 -0.03560211        0.014705882    -0.009997672 ⋯ -2.7410958  -0.62656290\n",
       "2 -0.06422061        0.007462687    -0.002056642 ⋯ -2.0209826  -0.52028534\n",
       "3  0.04150412        0.000000000     0.028341256 ⋯ -0.1730751   0.06537562\n",
       "4  0.00283238        0.007462687    -0.020389833 ⋯  0.3009534   0.16845364\n",
       "5  0.06107321        0.007518797     0.012352328 ⋯ -0.5036349  -0.47056531\n",
       "6  0.11481746        0.007575758    -0.072628757 ⋯ -0.4116203  -0.16432811\n",
       "  long        ethe_otc_premium block_count  avg_computing_power transaction_vol\n",
       "1 -0.57292095  0.000000000     -0.013040063 -0.0200686305       -0.0002123493  \n",
       "2 -0.63135912  0.000000000     -0.007468492  0.0002137547       -0.0796915574  \n",
       "3  0.13685442 -0.002588279      0.002151860  0.0325392587        0.0246565437  \n",
       "4  0.03253861 -0.141958367     -0.011819596 -0.0159265895       -0.0211297224  \n",
       "5 -0.51816468  0.000000000     -0.003841426 -0.0292898227       -0.0013434524  \n",
       "6 -0.19835466  0.000000000     -0.009935799 -0.0042676721       -0.0963873247  \n",
       "  supply       reddit_follower_growth_rate TARGET_return_nextday\n",
       "1 0.0001172044  0.027002424                -0.0102366586        \n",
       "2 0.0001182304 -0.201464889                -0.0051329584        \n",
       "3 0.0001196272 -0.163779458                -0.0203898334        \n",
       "4 0.0001182409 -0.007273509                -0.0006587309        \n",
       "5 0.0001188932  0.141024809                 0.0339513642        \n",
       "6 0.0001193827 -0.002298350                -0.0335940641        "
      ]
     },
     "metadata": {},
     "output_type": "display_data"
    }
   ],
   "source": [
    "head(testing_eth)"
   ]
  },
  {
   "cell_type": "code",
   "execution_count": 32,
   "id": "811e17ed-21e8-4fbe-8b7e-f44928d58708",
   "metadata": {},
   "outputs": [],
   "source": [
    "testing_eth_w_roctype <- testing_eth%>%\n",
    "    mutate(roc_type = if_else(abs(TARGET_return_nextday) > 0.04, \"Significant\", \"Insignificant\"))"
   ]
  },
  {
   "cell_type": "code",
   "execution_count": 33,
   "id": "4ca147fe-753d-4c2c-ab82-bb683abfbde6",
   "metadata": {},
   "outputs": [
    {
     "data": {
      "text/html": [
       "<table class=\"dataframe\">\n",
       "<caption>A data.frame: 6 × 44</caption>\n",
       "<thead>\n",
       "\t<tr><th></th><th scope=col>reddit_index</th><th scope=col>block_size</th><th scope=col>mining_difficulty</th><th scope=col>ethe_open_interest</th><th scope=col>activate_address</th><th scope=col>on_chain_transaction_vol</th><th scope=col>unit_computing_income</th><th scope=col>daily_block_reward</th><th scope=col>block_gen_rate</th><th scope=col>price</th><th scope=col>⋯</th><th scope=col>short</th><th scope=col>long</th><th scope=col>ethe_otc_premium</th><th scope=col>block_count</th><th scope=col>avg_computing_power</th><th scope=col>transaction_vol</th><th scope=col>supply</th><th scope=col>reddit_follower_growth_rate</th><th scope=col>TARGET_return_nextday</th><th scope=col>roc_type</th></tr>\n",
       "\t<tr><th></th><th scope=col>&lt;dbl&gt;</th><th scope=col>&lt;dbl&gt;</th><th scope=col>&lt;dbl&gt;</th><th scope=col>&lt;dbl&gt;</th><th scope=col>&lt;dbl&gt;</th><th scope=col>&lt;dbl&gt;</th><th scope=col>&lt;dbl&gt;</th><th scope=col>&lt;dbl&gt;</th><th scope=col>&lt;dbl&gt;</th><th scope=col>&lt;dbl&gt;</th><th scope=col>⋯</th><th scope=col>&lt;dbl&gt;</th><th scope=col>&lt;dbl&gt;</th><th scope=col>&lt;dbl&gt;</th><th scope=col>&lt;dbl&gt;</th><th scope=col>&lt;dbl&gt;</th><th scope=col>&lt;dbl&gt;</th><th scope=col>&lt;dbl&gt;</th><th scope=col>&lt;dbl&gt;</th><th scope=col>&lt;dbl&gt;</th><th scope=col>&lt;chr&gt;</th></tr>\n",
       "</thead>\n",
       "<tbody>\n",
       "\t<tr><th scope=row>1</th><td> 0.010167661</td><td> 0.03211535</td><td>-0.008179846</td><td>0.000000000</td><td>-0.055288145</td><td>-0.54473623</td><td>-0.015463918</td><td>-0.03560211</td><td>0.014705882</td><td>-0.009997672</td><td>⋯</td><td>-0.62656290</td><td>-0.57292095</td><td> 0.000000000</td><td>-0.013040063</td><td>-0.0200686305</td><td>-0.0002123493</td><td>0.0001172044</td><td> 0.027002424</td><td>-0.0102366586</td><td>Insignificant</td></tr>\n",
       "\t<tr><th scope=row>2</th><td> 0.002297512</td><td>-0.12121735</td><td> 0.010506917</td><td>0.000000000</td><td> 0.403882405</td><td>-0.48868682</td><td>-0.058201058</td><td>-0.06422061</td><td>0.007462687</td><td>-0.002056642</td><td>⋯</td><td>-0.52028534</td><td>-0.63135912</td><td> 0.000000000</td><td>-0.007468492</td><td> 0.0002137547</td><td>-0.0796915574</td><td>0.0001182304</td><td>-0.201464889</td><td>-0.0051329584</td><td>Insignificant</td></tr>\n",
       "\t<tr><th scope=row>3</th><td>-0.028867264</td><td> 0.02585218</td><td> 0.032311162</td><td>0.001034724</td><td>-0.052901867</td><td> 0.28599565</td><td> 0.036697248</td><td> 0.04150412</td><td>0.000000000</td><td> 0.028341256</td><td>⋯</td><td> 0.06537562</td><td> 0.13685442</td><td>-0.002588279</td><td> 0.002151860</td><td> 0.0325392587</td><td> 0.0246565437</td><td>0.0001196272</td><td>-0.163779458</td><td>-0.0203898334</td><td>Insignificant</td></tr>\n",
       "\t<tr><th scope=row>4</th><td> 0.020266494</td><td>-0.01189714</td><td>-0.010437862</td><td>0.001559114</td><td>-0.001562767</td><td>-0.30622347</td><td>-0.009259259</td><td> 0.00283238</td><td>0.007462687</td><td>-0.020389833</td><td>⋯</td><td> 0.16845364</td><td> 0.03253861</td><td>-0.141958367</td><td>-0.011819596</td><td>-0.0159265895</td><td>-0.0211297224</td><td>0.0001182409</td><td>-0.007273509</td><td>-0.0006587309</td><td>Insignificant</td></tr>\n",
       "\t<tr><th scope=row>5</th><td>-0.012036656</td><td> 0.02915672</td><td>-0.029270927</td><td>0.000000000</td><td>-0.124174300</td><td>-0.27080135</td><td> 0.077500000</td><td> 0.06107321</td><td>0.007518797</td><td> 0.012352328</td><td>⋯</td><td>-0.47056531</td><td>-0.51816468</td><td> 0.000000000</td><td>-0.003841426</td><td>-0.0292898227</td><td>-0.0013434524</td><td>0.0001188932</td><td> 0.141024809</td><td> 0.0339513642</td><td>Insignificant</td></tr>\n",
       "\t<tr><th scope=row>6</th><td> 0.068152152</td><td>-0.03685981</td><td> 0.017011858</td><td>0.000000000</td><td>-0.190577692</td><td>-0.03067242</td><td> 0.036496350</td><td> 0.11481746</td><td>0.007575758</td><td>-0.072628757</td><td>⋯</td><td>-0.16432811</td><td>-0.19835466</td><td> 0.000000000</td><td>-0.009935799</td><td>-0.0042676721</td><td>-0.0963873247</td><td>0.0001193827</td><td>-0.002298350</td><td>-0.0335940641</td><td>Insignificant</td></tr>\n",
       "</tbody>\n",
       "</table>\n"
      ],
      "text/latex": [
       "A data.frame: 6 × 44\n",
       "\\begin{tabular}{r|lllllllllllllllllllll}\n",
       "  & reddit\\_index & block\\_size & mining\\_difficulty & ethe\\_open\\_interest & activate\\_address & on\\_chain\\_transaction\\_vol & unit\\_computing\\_income & daily\\_block\\_reward & block\\_gen\\_rate & price & ⋯ & short & long & ethe\\_otc\\_premium & block\\_count & avg\\_computing\\_power & transaction\\_vol & supply & reddit\\_follower\\_growth\\_rate & TARGET\\_return\\_nextday & roc\\_type\\\\\n",
       "  & <dbl> & <dbl> & <dbl> & <dbl> & <dbl> & <dbl> & <dbl> & <dbl> & <dbl> & <dbl> & ⋯ & <dbl> & <dbl> & <dbl> & <dbl> & <dbl> & <dbl> & <dbl> & <dbl> & <dbl> & <chr>\\\\\n",
       "\\hline\n",
       "\t1 &  0.010167661 &  0.03211535 & -0.008179846 & 0.000000000 & -0.055288145 & -0.54473623 & -0.015463918 & -0.03560211 & 0.014705882 & -0.009997672 & ⋯ & -0.62656290 & -0.57292095 &  0.000000000 & -0.013040063 & -0.0200686305 & -0.0002123493 & 0.0001172044 &  0.027002424 & -0.0102366586 & Insignificant\\\\\n",
       "\t2 &  0.002297512 & -0.12121735 &  0.010506917 & 0.000000000 &  0.403882405 & -0.48868682 & -0.058201058 & -0.06422061 & 0.007462687 & -0.002056642 & ⋯ & -0.52028534 & -0.63135912 &  0.000000000 & -0.007468492 &  0.0002137547 & -0.0796915574 & 0.0001182304 & -0.201464889 & -0.0051329584 & Insignificant\\\\\n",
       "\t3 & -0.028867264 &  0.02585218 &  0.032311162 & 0.001034724 & -0.052901867 &  0.28599565 &  0.036697248 &  0.04150412 & 0.000000000 &  0.028341256 & ⋯ &  0.06537562 &  0.13685442 & -0.002588279 &  0.002151860 &  0.0325392587 &  0.0246565437 & 0.0001196272 & -0.163779458 & -0.0203898334 & Insignificant\\\\\n",
       "\t4 &  0.020266494 & -0.01189714 & -0.010437862 & 0.001559114 & -0.001562767 & -0.30622347 & -0.009259259 &  0.00283238 & 0.007462687 & -0.020389833 & ⋯ &  0.16845364 &  0.03253861 & -0.141958367 & -0.011819596 & -0.0159265895 & -0.0211297224 & 0.0001182409 & -0.007273509 & -0.0006587309 & Insignificant\\\\\n",
       "\t5 & -0.012036656 &  0.02915672 & -0.029270927 & 0.000000000 & -0.124174300 & -0.27080135 &  0.077500000 &  0.06107321 & 0.007518797 &  0.012352328 & ⋯ & -0.47056531 & -0.51816468 &  0.000000000 & -0.003841426 & -0.0292898227 & -0.0013434524 & 0.0001188932 &  0.141024809 &  0.0339513642 & Insignificant\\\\\n",
       "\t6 &  0.068152152 & -0.03685981 &  0.017011858 & 0.000000000 & -0.190577692 & -0.03067242 &  0.036496350 &  0.11481746 & 0.007575758 & -0.072628757 & ⋯ & -0.16432811 & -0.19835466 &  0.000000000 & -0.009935799 & -0.0042676721 & -0.0963873247 & 0.0001193827 & -0.002298350 & -0.0335940641 & Insignificant\\\\\n",
       "\\end{tabular}\n"
      ],
      "text/markdown": [
       "\n",
       "A data.frame: 6 × 44\n",
       "\n",
       "| <!--/--> | reddit_index &lt;dbl&gt; | block_size &lt;dbl&gt; | mining_difficulty &lt;dbl&gt; | ethe_open_interest &lt;dbl&gt; | activate_address &lt;dbl&gt; | on_chain_transaction_vol &lt;dbl&gt; | unit_computing_income &lt;dbl&gt; | daily_block_reward &lt;dbl&gt; | block_gen_rate &lt;dbl&gt; | price &lt;dbl&gt; | ⋯ ⋯ | short &lt;dbl&gt; | long &lt;dbl&gt; | ethe_otc_premium &lt;dbl&gt; | block_count &lt;dbl&gt; | avg_computing_power &lt;dbl&gt; | transaction_vol &lt;dbl&gt; | supply &lt;dbl&gt; | reddit_follower_growth_rate &lt;dbl&gt; | TARGET_return_nextday &lt;dbl&gt; | roc_type &lt;chr&gt; |\n",
       "|---|---|---|---|---|---|---|---|---|---|---|---|---|---|---|---|---|---|---|---|---|---|\n",
       "| 1 |  0.010167661 |  0.03211535 | -0.008179846 | 0.000000000 | -0.055288145 | -0.54473623 | -0.015463918 | -0.03560211 | 0.014705882 | -0.009997672 | ⋯ | -0.62656290 | -0.57292095 |  0.000000000 | -0.013040063 | -0.0200686305 | -0.0002123493 | 0.0001172044 |  0.027002424 | -0.0102366586 | Insignificant |\n",
       "| 2 |  0.002297512 | -0.12121735 |  0.010506917 | 0.000000000 |  0.403882405 | -0.48868682 | -0.058201058 | -0.06422061 | 0.007462687 | -0.002056642 | ⋯ | -0.52028534 | -0.63135912 |  0.000000000 | -0.007468492 |  0.0002137547 | -0.0796915574 | 0.0001182304 | -0.201464889 | -0.0051329584 | Insignificant |\n",
       "| 3 | -0.028867264 |  0.02585218 |  0.032311162 | 0.001034724 | -0.052901867 |  0.28599565 |  0.036697248 |  0.04150412 | 0.000000000 |  0.028341256 | ⋯ |  0.06537562 |  0.13685442 | -0.002588279 |  0.002151860 |  0.0325392587 |  0.0246565437 | 0.0001196272 | -0.163779458 | -0.0203898334 | Insignificant |\n",
       "| 4 |  0.020266494 | -0.01189714 | -0.010437862 | 0.001559114 | -0.001562767 | -0.30622347 | -0.009259259 |  0.00283238 | 0.007462687 | -0.020389833 | ⋯ |  0.16845364 |  0.03253861 | -0.141958367 | -0.011819596 | -0.0159265895 | -0.0211297224 | 0.0001182409 | -0.007273509 | -0.0006587309 | Insignificant |\n",
       "| 5 | -0.012036656 |  0.02915672 | -0.029270927 | 0.000000000 | -0.124174300 | -0.27080135 |  0.077500000 |  0.06107321 | 0.007518797 |  0.012352328 | ⋯ | -0.47056531 | -0.51816468 |  0.000000000 | -0.003841426 | -0.0292898227 | -0.0013434524 | 0.0001188932 |  0.141024809 |  0.0339513642 | Insignificant |\n",
       "| 6 |  0.068152152 | -0.03685981 |  0.017011858 | 0.000000000 | -0.190577692 | -0.03067242 |  0.036496350 |  0.11481746 | 0.007575758 | -0.072628757 | ⋯ | -0.16432811 | -0.19835466 |  0.000000000 | -0.009935799 | -0.0042676721 | -0.0963873247 | 0.0001193827 | -0.002298350 | -0.0335940641 | Insignificant |\n",
       "\n"
      ],
      "text/plain": [
       "  reddit_index block_size  mining_difficulty ethe_open_interest\n",
       "1  0.010167661  0.03211535 -0.008179846      0.000000000       \n",
       "2  0.002297512 -0.12121735  0.010506917      0.000000000       \n",
       "3 -0.028867264  0.02585218  0.032311162      0.001034724       \n",
       "4  0.020266494 -0.01189714 -0.010437862      0.001559114       \n",
       "5 -0.012036656  0.02915672 -0.029270927      0.000000000       \n",
       "6  0.068152152 -0.03685981  0.017011858      0.000000000       \n",
       "  activate_address on_chain_transaction_vol unit_computing_income\n",
       "1 -0.055288145     -0.54473623              -0.015463918         \n",
       "2  0.403882405     -0.48868682              -0.058201058         \n",
       "3 -0.052901867      0.28599565               0.036697248         \n",
       "4 -0.001562767     -0.30622347              -0.009259259         \n",
       "5 -0.124174300     -0.27080135               0.077500000         \n",
       "6 -0.190577692     -0.03067242               0.036496350         \n",
       "  daily_block_reward block_gen_rate price        ⋯ short       long       \n",
       "1 -0.03560211        0.014705882    -0.009997672 ⋯ -0.62656290 -0.57292095\n",
       "2 -0.06422061        0.007462687    -0.002056642 ⋯ -0.52028534 -0.63135912\n",
       "3  0.04150412        0.000000000     0.028341256 ⋯  0.06537562  0.13685442\n",
       "4  0.00283238        0.007462687    -0.020389833 ⋯  0.16845364  0.03253861\n",
       "5  0.06107321        0.007518797     0.012352328 ⋯ -0.47056531 -0.51816468\n",
       "6  0.11481746        0.007575758    -0.072628757 ⋯ -0.16432811 -0.19835466\n",
       "  ethe_otc_premium block_count  avg_computing_power transaction_vol\n",
       "1  0.000000000     -0.013040063 -0.0200686305       -0.0002123493  \n",
       "2  0.000000000     -0.007468492  0.0002137547       -0.0796915574  \n",
       "3 -0.002588279      0.002151860  0.0325392587        0.0246565437  \n",
       "4 -0.141958367     -0.011819596 -0.0159265895       -0.0211297224  \n",
       "5  0.000000000     -0.003841426 -0.0292898227       -0.0013434524  \n",
       "6  0.000000000     -0.009935799 -0.0042676721       -0.0963873247  \n",
       "  supply       reddit_follower_growth_rate TARGET_return_nextday roc_type     \n",
       "1 0.0001172044  0.027002424                -0.0102366586         Insignificant\n",
       "2 0.0001182304 -0.201464889                -0.0051329584         Insignificant\n",
       "3 0.0001196272 -0.163779458                -0.0203898334         Insignificant\n",
       "4 0.0001182409 -0.007273509                -0.0006587309         Insignificant\n",
       "5 0.0001188932  0.141024809                 0.0339513642         Insignificant\n",
       "6 0.0001193827 -0.002298350                -0.0335940641         Insignificant"
      ]
     },
     "metadata": {},
     "output_type": "display_data"
    },
    {
     "data": {
      "text/html": [
       "97"
      ],
      "text/latex": [
       "97"
      ],
      "text/markdown": [
       "97"
      ],
      "text/plain": [
       "[1] 97"
      ]
     },
     "metadata": {},
     "output_type": "display_data"
    },
    {
     "data": {
      "text/html": [
       "34"
      ],
      "text/latex": [
       "34"
      ],
      "text/markdown": [
       "34"
      ],
      "text/plain": [
       "[1] 34"
      ]
     },
     "metadata": {},
     "output_type": "display_data"
    }
   ],
   "source": [
    "head(testing_eth_w_roctype)\n",
    "\n",
    "nrow(testing_eth_w_roctype)\n",
    "\n",
    "nrow(filter(testing_eth_w_roctype, roc_type == \"Significant\"))\n",
    "testing_eth_significant <- filter(testing_eth_w_roctype, roc_type == \"Significant\")"
   ]
  },
  {
   "cell_type": "code",
   "execution_count": 39,
   "id": "a294be15-b7c4-43eb-8896-372e8912ca5e",
   "metadata": {},
   "outputs": [
    {
     "data": {
      "text/html": [
       "<table class=\"dataframe\">\n",
       "<caption>A data.frame: 6 × 2</caption>\n",
       "<thead>\n",
       "\t<tr><th></th><th scope=col>TARGET_return_nextday</th><th scope=col>predicted_with_backwardSelection</th></tr>\n",
       "\t<tr><th></th><th scope=col>&lt;dbl&gt;</th><th scope=col>&lt;dbl&gt;</th></tr>\n",
       "</thead>\n",
       "<tbody>\n",
       "\t<tr><th scope=row>1</th><td> 0.04132265</td><td> 0.0004253789</td></tr>\n",
       "\t<tr><th scope=row>2</th><td> 0.04155101</td><td> 0.0120766789</td></tr>\n",
       "\t<tr><th scope=row>3</th><td>-0.16996253</td><td>-0.0295185389</td></tr>\n",
       "\t<tr><th scope=row>4</th><td>-0.04319785</td><td>-0.0035548917</td></tr>\n",
       "\t<tr><th scope=row>5</th><td> 0.11813881</td><td> 0.0572020182</td></tr>\n",
       "\t<tr><th scope=row>6</th><td> 0.08105216</td><td> 0.0009122071</td></tr>\n",
       "</tbody>\n",
       "</table>\n"
      ],
      "text/latex": [
       "A data.frame: 6 × 2\n",
       "\\begin{tabular}{r|ll}\n",
       "  & TARGET\\_return\\_nextday & predicted\\_with\\_backwardSelection\\\\\n",
       "  & <dbl> & <dbl>\\\\\n",
       "\\hline\n",
       "\t1 &  0.04132265 &  0.0004253789\\\\\n",
       "\t2 &  0.04155101 &  0.0120766789\\\\\n",
       "\t3 & -0.16996253 & -0.0295185389\\\\\n",
       "\t4 & -0.04319785 & -0.0035548917\\\\\n",
       "\t5 &  0.11813881 &  0.0572020182\\\\\n",
       "\t6 &  0.08105216 &  0.0009122071\\\\\n",
       "\\end{tabular}\n"
      ],
      "text/markdown": [
       "\n",
       "A data.frame: 6 × 2\n",
       "\n",
       "| <!--/--> | TARGET_return_nextday &lt;dbl&gt; | predicted_with_backwardSelection &lt;dbl&gt; |\n",
       "|---|---|---|\n",
       "| 1 |  0.04132265 |  0.0004253789 |\n",
       "| 2 |  0.04155101 |  0.0120766789 |\n",
       "| 3 | -0.16996253 | -0.0295185389 |\n",
       "| 4 | -0.04319785 | -0.0035548917 |\n",
       "| 5 |  0.11813881 |  0.0572020182 |\n",
       "| 6 |  0.08105216 |  0.0009122071 |\n",
       "\n"
      ],
      "text/plain": [
       "  TARGET_return_nextday predicted_with_backwardSelection\n",
       "1  0.04132265            0.0004253789                   \n",
       "2  0.04155101            0.0120766789                   \n",
       "3 -0.16996253           -0.0295185389                   \n",
       "4 -0.04319785           -0.0035548917                   \n",
       "5  0.11813881            0.0572020182                   \n",
       "6  0.08105216            0.0009122071                   "
      ]
     },
     "metadata": {},
     "output_type": "display_data"
    },
    {
     "data": {
      "text/html": [
       "34"
      ],
      "text/latex": [
       "34"
      ],
      "text/markdown": [
       "34"
      ],
      "text/plain": [
       "[1] 34"
      ]
     },
     "metadata": {},
     "output_type": "display_data"
    },
    {
     "data": {
      "text/html": [
       "15"
      ],
      "text/latex": [
       "15"
      ],
      "text/markdown": [
       "15"
      ],
      "text/plain": [
       "[1] 15"
      ]
     },
     "metadata": {},
     "output_type": "display_data"
    }
   ],
   "source": [
    "predicted_with_backwardSelection <- predict(backward_model, testing_eth_significant)\n",
    "#cbind(testing_eth, predicted_with_backwardSelection)%>%select(TARGET_return_nextday, predicted_with_backwardSelection)\n",
    "predicted_backward_comparison <- cbind(testing_eth_significant, predicted_with_backwardSelection)%>%\n",
    "    select(TARGET_return_nextday, predicted_with_backwardSelection)\n",
    "\n",
    "head(predicted_backward_comparison)\n",
    "\n",
    "nrow(predicted_backward_comparison)\n",
    "\n",
    "correct_num_bigchange_backward <- nrow(filter(predicted_backward_comparison,\n",
    "      abs(predicted_with_backwardSelection) > 0.015))\n",
    "\n",
    "correct_num_bigchange_backward"
   ]
  },
  {
   "cell_type": "code",
   "execution_count": 42,
   "id": "c2823b86-b03f-4c22-bc9e-ffb485e995ca",
   "metadata": {},
   "outputs": [
    {
     "data": {
      "text/html": [
       "<table class=\"dataframe\">\n",
       "<caption>A data.frame: 6 × 2</caption>\n",
       "<thead>\n",
       "\t<tr><th></th><th scope=col>TARGET_return_nextday</th><th scope=col>predicted_with_forwardSelection</th></tr>\n",
       "\t<tr><th></th><th scope=col>&lt;dbl&gt;</th><th scope=col>&lt;dbl&gt;</th></tr>\n",
       "</thead>\n",
       "<tbody>\n",
       "\t<tr><th scope=row>1</th><td> 0.04132265</td><td>-0.003767286</td></tr>\n",
       "\t<tr><th scope=row>2</th><td> 0.04155101</td><td> 0.004525368</td></tr>\n",
       "\t<tr><th scope=row>3</th><td>-0.16996253</td><td>-0.025929295</td></tr>\n",
       "\t<tr><th scope=row>4</th><td>-0.04319785</td><td> 0.028018971</td></tr>\n",
       "\t<tr><th scope=row>5</th><td> 0.11813881</td><td> 0.040247157</td></tr>\n",
       "\t<tr><th scope=row>6</th><td> 0.08105216</td><td> 0.007184430</td></tr>\n",
       "</tbody>\n",
       "</table>\n"
      ],
      "text/latex": [
       "A data.frame: 6 × 2\n",
       "\\begin{tabular}{r|ll}\n",
       "  & TARGET\\_return\\_nextday & predicted\\_with\\_forwardSelection\\\\\n",
       "  & <dbl> & <dbl>\\\\\n",
       "\\hline\n",
       "\t1 &  0.04132265 & -0.003767286\\\\\n",
       "\t2 &  0.04155101 &  0.004525368\\\\\n",
       "\t3 & -0.16996253 & -0.025929295\\\\\n",
       "\t4 & -0.04319785 &  0.028018971\\\\\n",
       "\t5 &  0.11813881 &  0.040247157\\\\\n",
       "\t6 &  0.08105216 &  0.007184430\\\\\n",
       "\\end{tabular}\n"
      ],
      "text/markdown": [
       "\n",
       "A data.frame: 6 × 2\n",
       "\n",
       "| <!--/--> | TARGET_return_nextday &lt;dbl&gt; | predicted_with_forwardSelection &lt;dbl&gt; |\n",
       "|---|---|---|\n",
       "| 1 |  0.04132265 | -0.003767286 |\n",
       "| 2 |  0.04155101 |  0.004525368 |\n",
       "| 3 | -0.16996253 | -0.025929295 |\n",
       "| 4 | -0.04319785 |  0.028018971 |\n",
       "| 5 |  0.11813881 |  0.040247157 |\n",
       "| 6 |  0.08105216 |  0.007184430 |\n",
       "\n"
      ],
      "text/plain": [
       "  TARGET_return_nextday predicted_with_forwardSelection\n",
       "1  0.04132265           -0.003767286                   \n",
       "2  0.04155101            0.004525368                   \n",
       "3 -0.16996253           -0.025929295                   \n",
       "4 -0.04319785            0.028018971                   \n",
       "5  0.11813881            0.040247157                   \n",
       "6  0.08105216            0.007184430                   "
      ]
     },
     "metadata": {},
     "output_type": "display_data"
    },
    {
     "data": {
      "text/html": [
       "34"
      ],
      "text/latex": [
       "34"
      ],
      "text/markdown": [
       "34"
      ],
      "text/plain": [
       "[1] 34"
      ]
     },
     "metadata": {},
     "output_type": "display_data"
    },
    {
     "data": {
      "text/html": [
       "17"
      ],
      "text/latex": [
       "17"
      ],
      "text/markdown": [
       "17"
      ],
      "text/plain": [
       "[1] 17"
      ]
     },
     "metadata": {},
     "output_type": "display_data"
    }
   ],
   "source": [
    "predicted_with_forwardSelection <- predict(forward_model, testing_eth_significant)\n",
    "#cbind(testing_eth, predicted_with_backwardSelection)%>%select(TARGET_return_nextday, predicted_with_backwardSelection)\n",
    "predicted_forward_comparison <- cbind(testing_eth_significant, predicted_with_forwardSelection)%>%\n",
    "    select(TARGET_return_nextday, predicted_with_forwardSelection)\n",
    "\n",
    "head(predicted_forward_comparison)\n",
    "\n",
    "nrow(predicted_forward_comparison)\n",
    "\n",
    "correct_num_bigchange_forward <- nrow(filter(predicted_forward_comparison,\n",
    "      abs(predicted_with_forwardSelection) > 0.015))\n",
    "\n",
    "head(correct_num_bigchange_forward)"
   ]
  },
  {
   "cell_type": "code",
   "execution_count": null,
   "id": "5334c9d9-0e70-466a-aed2-290bea7aaf0a",
   "metadata": {},
   "outputs": [],
   "source": []
  }
 ],
 "metadata": {
  "kernelspec": {
   "display_name": "R",
   "language": "R",
   "name": "ir"
  },
  "language_info": {
   "codemirror_mode": "r",
   "file_extension": ".r",
   "mimetype": "text/x-r-source",
   "name": "R",
   "pygments_lexer": "r",
   "version": "4.0.5"
  }
 },
 "nbformat": 4,
 "nbformat_minor": 5
}
